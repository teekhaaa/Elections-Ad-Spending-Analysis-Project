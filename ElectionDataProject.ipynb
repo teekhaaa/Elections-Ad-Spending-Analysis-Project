{
 "cells": [
  {
   "cell_type": "code",
   "execution_count": 393,
   "id": "88f7525c-699f-42ea-88c6-e00a9f784d53",
   "metadata": {},
   "outputs": [],
   "source": [
    "import numpy as np\n",
    "import pandas as pd\n",
    "\n",
    "import plotly.express as px\n",
    "import plotly.io as pio\n",
    "import plotly.graph_objects as go\n"
   ]
  },
  {
   "cell_type": "code",
   "execution_count": 7,
   "id": "abc8d0b0-1f10-49e4-9259-ce6381638669",
   "metadata": {},
   "outputs": [],
   "source": [
    "results = pd.read_csv('results.csv')\n",
    "advertisers = pd.read_csv('advertisers.csv')\n",
    "locations = pd.read_csv('locations.csv')\n"
   ]
  },
  {
   "cell_type": "code",
   "execution_count": 50,
   "id": "1e0a0495-d685-47bb-a2bb-789049869924",
   "metadata": {},
   "outputs": [
    {
     "data": {
      "text/html": [
       "<div>\n",
       "<style scoped>\n",
       "    .dataframe tbody tr th:only-of-type {\n",
       "        vertical-align: middle;\n",
       "    }\n",
       "\n",
       "    .dataframe tbody tr th {\n",
       "        vertical-align: top;\n",
       "    }\n",
       "\n",
       "    .dataframe thead th {\n",
       "        text-align: right;\n",
       "    }\n",
       "</style>\n",
       "<table border=\"1\" class=\"dataframe\">\n",
       "  <thead>\n",
       "    <tr style=\"text-align: right;\">\n",
       "      <th></th>\n",
       "      <th>_id</th>\n",
       "      <th>Sl No</th>\n",
       "      <th>State</th>\n",
       "      <th>PC_Name</th>\n",
       "      <th>Total Electors</th>\n",
       "      <th>Polled (%)</th>\n",
       "      <th>Total Votes</th>\n",
       "      <th>Phase</th>\n",
       "    </tr>\n",
       "  </thead>\n",
       "  <tbody>\n",
       "    <tr>\n",
       "      <th>0</th>\n",
       "      <td>1</td>\n",
       "      <td>1.0</td>\n",
       "      <td>Andaman &amp; Nicobar Islands</td>\n",
       "      <td>Andaman &amp; Nicobar Islands</td>\n",
       "      <td>315148</td>\n",
       "      <td>64.10</td>\n",
       "      <td>202018</td>\n",
       "      <td>1.0</td>\n",
       "    </tr>\n",
       "    <tr>\n",
       "      <th>1</th>\n",
       "      <td>2</td>\n",
       "      <td>2.0</td>\n",
       "      <td>Arunachal Pradesh</td>\n",
       "      <td>Arunachal East</td>\n",
       "      <td>375310</td>\n",
       "      <td>83.31</td>\n",
       "      <td>312658</td>\n",
       "      <td>1.0</td>\n",
       "    </tr>\n",
       "    <tr>\n",
       "      <th>2</th>\n",
       "      <td>3</td>\n",
       "      <td>3.0</td>\n",
       "      <td>Arunachal Pradesh</td>\n",
       "      <td>Arunachal West</td>\n",
       "      <td>517384</td>\n",
       "      <td>73.60</td>\n",
       "      <td>380783</td>\n",
       "      <td>1.0</td>\n",
       "    </tr>\n",
       "    <tr>\n",
       "      <th>3</th>\n",
       "      <td>4</td>\n",
       "      <td>4.0</td>\n",
       "      <td>Assam</td>\n",
       "      <td>Dibrugarh</td>\n",
       "      <td>1659588</td>\n",
       "      <td>76.75</td>\n",
       "      <td>1273744</td>\n",
       "      <td>1.0</td>\n",
       "    </tr>\n",
       "    <tr>\n",
       "      <th>4</th>\n",
       "      <td>5</td>\n",
       "      <td>5.0</td>\n",
       "      <td>Assam</td>\n",
       "      <td>Jorhat</td>\n",
       "      <td>1727121</td>\n",
       "      <td>79.89</td>\n",
       "      <td>1379749</td>\n",
       "      <td>1.0</td>\n",
       "    </tr>\n",
       "    <tr>\n",
       "      <th>5</th>\n",
       "      <td>6</td>\n",
       "      <td>6.0</td>\n",
       "      <td>Assam</td>\n",
       "      <td>Kaziranga</td>\n",
       "      <td>2050126</td>\n",
       "      <td>79.33</td>\n",
       "      <td>1626408</td>\n",
       "      <td>1.0</td>\n",
       "    </tr>\n",
       "  </tbody>\n",
       "</table>\n",
       "</div>"
      ],
      "text/plain": [
       "   _id  Sl No                      State                    PC_Name  \\\n",
       "0    1    1.0  Andaman & Nicobar Islands  Andaman & Nicobar Islands   \n",
       "1    2    2.0          Arunachal Pradesh             Arunachal East   \n",
       "2    3    3.0          Arunachal Pradesh             Arunachal West   \n",
       "3    4    4.0                      Assam                  Dibrugarh   \n",
       "4    5    5.0                      Assam                     Jorhat   \n",
       "5    6    6.0                      Assam                  Kaziranga   \n",
       "\n",
       "   Total Electors  Polled (%)  Total Votes  Phase  \n",
       "0          315148       64.10       202018    1.0  \n",
       "1          375310       83.31       312658    1.0  \n",
       "2          517384       73.60       380783    1.0  \n",
       "3         1659588       76.75      1273744    1.0  \n",
       "4         1727121       79.89      1379749    1.0  \n",
       "5         2050126       79.33      1626408    1.0  "
      ]
     },
     "execution_count": 50,
     "metadata": {},
     "output_type": "execute_result"
    }
   ],
   "source": [
    "results.head(6)"
   ]
  },
  {
   "cell_type": "code",
   "execution_count": 251,
   "id": "19dcca21-c19e-4c84-84d9-df7ba1b18112",
   "metadata": {},
   "outputs": [
    {
     "data": {
      "text/html": [
       "<div>\n",
       "<style scoped>\n",
       "    .dataframe tbody tr th:only-of-type {\n",
       "        vertical-align: middle;\n",
       "    }\n",
       "\n",
       "    .dataframe tbody tr th {\n",
       "        vertical-align: top;\n",
       "    }\n",
       "\n",
       "    .dataframe thead th {\n",
       "        text-align: right;\n",
       "    }\n",
       "</style>\n",
       "<table border=\"1\" class=\"dataframe\">\n",
       "  <thead>\n",
       "    <tr style=\"text-align: right;\">\n",
       "      <th></th>\n",
       "      <th>Page ID</th>\n",
       "      <th>Page name</th>\n",
       "      <th>Disclaimer</th>\n",
       "      <th>Amount spent (INR)</th>\n",
       "      <th>Number of ads in Library</th>\n",
       "    </tr>\n",
       "  </thead>\n",
       "  <tbody>\n",
       "    <tr>\n",
       "      <th>0</th>\n",
       "      <td>121439954563203</td>\n",
       "      <td>Bharatiya Janata Party (BJP)</td>\n",
       "      <td>Bharatiya Janata Party (BJP)</td>\n",
       "      <td>193854342</td>\n",
       "      <td>43455</td>\n",
       "    </tr>\n",
       "    <tr>\n",
       "      <th>1</th>\n",
       "      <td>351616078284404</td>\n",
       "      <td>Indian National Congress</td>\n",
       "      <td>Indian National Congress</td>\n",
       "      <td>108787100</td>\n",
       "      <td>846</td>\n",
       "    </tr>\n",
       "    <tr>\n",
       "      <th>2</th>\n",
       "      <td>132715103269897</td>\n",
       "      <td>Ama Chinha Sankha Chinha</td>\n",
       "      <td>Ama Chinha Sankha Chinha</td>\n",
       "      <td>73361399</td>\n",
       "      <td>1799</td>\n",
       "    </tr>\n",
       "    <tr>\n",
       "      <th>3</th>\n",
       "      <td>192856493908290</td>\n",
       "      <td>Ama Chinha Sankha Chinha</td>\n",
       "      <td>Ama Chinha Sankha Chinha</td>\n",
       "      <td>32294327</td>\n",
       "      <td>680</td>\n",
       "    </tr>\n",
       "    <tr>\n",
       "      <th>4</th>\n",
       "      <td>109470364774303</td>\n",
       "      <td>Ellorum Nammudan</td>\n",
       "      <td>Populus Empowerment Network Private Limited</td>\n",
       "      <td>22399499</td>\n",
       "      <td>879</td>\n",
       "    </tr>\n",
       "    <tr>\n",
       "      <th>...</th>\n",
       "      <td>...</td>\n",
       "      <td>...</td>\n",
       "      <td>...</td>\n",
       "      <td>...</td>\n",
       "      <td>...</td>\n",
       "    </tr>\n",
       "    <tr>\n",
       "      <th>20827</th>\n",
       "      <td>104633268709556</td>\n",
       "      <td>If You Don't Bark</td>\n",
       "      <td>These ads ran without a disclaimer</td>\n",
       "      <td>≤100</td>\n",
       "      <td>2</td>\n",
       "    </tr>\n",
       "    <tr>\n",
       "      <th>20828</th>\n",
       "      <td>118271861357765</td>\n",
       "      <td>Story time</td>\n",
       "      <td>These ads ran without a disclaimer</td>\n",
       "      <td>≤100</td>\n",
       "      <td>1</td>\n",
       "    </tr>\n",
       "    <tr>\n",
       "      <th>20829</th>\n",
       "      <td>218017134738366</td>\n",
       "      <td>know_sacred_wisdom</td>\n",
       "      <td>These ads ran without a disclaimer</td>\n",
       "      <td>≤100</td>\n",
       "      <td>1</td>\n",
       "    </tr>\n",
       "    <tr>\n",
       "      <th>20830</th>\n",
       "      <td>270489126793</td>\n",
       "      <td>Energy Globe Award</td>\n",
       "      <td>These ads ran without a disclaimer</td>\n",
       "      <td>≤100</td>\n",
       "      <td>1</td>\n",
       "    </tr>\n",
       "    <tr>\n",
       "      <th>20831</th>\n",
       "      <td>114025938452734</td>\n",
       "      <td>FactFusion</td>\n",
       "      <td>These ads ran without a disclaimer</td>\n",
       "      <td>≤100</td>\n",
       "      <td>1</td>\n",
       "    </tr>\n",
       "  </tbody>\n",
       "</table>\n",
       "<p>20832 rows × 5 columns</p>\n",
       "</div>"
      ],
      "text/plain": [
       "               Page ID                     Page name  \\\n",
       "0      121439954563203  Bharatiya Janata Party (BJP)   \n",
       "1      351616078284404      Indian National Congress   \n",
       "2      132715103269897      Ama Chinha Sankha Chinha   \n",
       "3      192856493908290      Ama Chinha Sankha Chinha   \n",
       "4      109470364774303              Ellorum Nammudan   \n",
       "...                ...                           ...   \n",
       "20827  104633268709556             If You Don't Bark   \n",
       "20828  118271861357765                    Story time   \n",
       "20829  218017134738366            know_sacred_wisdom   \n",
       "20830     270489126793            Energy Globe Award   \n",
       "20831  114025938452734                    FactFusion   \n",
       "\n",
       "                                        Disclaimer Amount spent (INR)  \\\n",
       "0                     Bharatiya Janata Party (BJP)          193854342   \n",
       "1                         Indian National Congress          108787100   \n",
       "2                         Ama Chinha Sankha Chinha           73361399   \n",
       "3                         Ama Chinha Sankha Chinha           32294327   \n",
       "4      Populus Empowerment Network Private Limited           22399499   \n",
       "...                                            ...                ...   \n",
       "20827           These ads ran without a disclaimer               ≤100   \n",
       "20828           These ads ran without a disclaimer               ≤100   \n",
       "20829           These ads ran without a disclaimer               ≤100   \n",
       "20830           These ads ran without a disclaimer               ≤100   \n",
       "20831           These ads ran without a disclaimer               ≤100   \n",
       "\n",
       "       Number of ads in Library  \n",
       "0                         43455  \n",
       "1                           846  \n",
       "2                          1799  \n",
       "3                           680  \n",
       "4                           879  \n",
       "...                         ...  \n",
       "20827                         2  \n",
       "20828                         1  \n",
       "20829                         1  \n",
       "20830                         1  \n",
       "20831                         1  \n",
       "\n",
       "[20832 rows x 5 columns]"
      ]
     },
     "execution_count": 251,
     "metadata": {},
     "output_type": "execute_result"
    }
   ],
   "source": [
    "advertisers"
   ]
  },
  {
   "cell_type": "code",
   "execution_count": 74,
   "id": "1a9c4c1f-b9e6-4a4c-9911-158009922c04",
   "metadata": {},
   "outputs": [
    {
     "data": {
      "text/html": [
       "<div>\n",
       "<style scoped>\n",
       "    .dataframe tbody tr th:only-of-type {\n",
       "        vertical-align: middle;\n",
       "    }\n",
       "\n",
       "    .dataframe tbody tr th {\n",
       "        vertical-align: top;\n",
       "    }\n",
       "\n",
       "    .dataframe thead th {\n",
       "        text-align: right;\n",
       "    }\n",
       "</style>\n",
       "<table border=\"1\" class=\"dataframe\">\n",
       "  <thead>\n",
       "    <tr style=\"text-align: right;\">\n",
       "      <th></th>\n",
       "      <th>Location name</th>\n",
       "      <th>Amount spent (INR)</th>\n",
       "    </tr>\n",
       "  </thead>\n",
       "  <tbody>\n",
       "    <tr>\n",
       "      <th>0</th>\n",
       "      <td>andaman and nicobar islands</td>\n",
       "      <td>377858</td>\n",
       "    </tr>\n",
       "    <tr>\n",
       "      <th>1</th>\n",
       "      <td>andhra pradesh</td>\n",
       "      <td>100819732</td>\n",
       "    </tr>\n",
       "    <tr>\n",
       "      <th>2</th>\n",
       "      <td>arunachal pradesh</td>\n",
       "      <td>1385654</td>\n",
       "    </tr>\n",
       "    <tr>\n",
       "      <th>3</th>\n",
       "      <td>assam</td>\n",
       "      <td>17478091</td>\n",
       "    </tr>\n",
       "    <tr>\n",
       "      <th>4</th>\n",
       "      <td>bihar</td>\n",
       "      <td>53619242</td>\n",
       "    </tr>\n",
       "  </tbody>\n",
       "</table>\n",
       "</div>"
      ],
      "text/plain": [
       "                 Location name  Amount spent (INR)\n",
       "0  andaman and nicobar islands              377858\n",
       "1               andhra pradesh           100819732\n",
       "2            arunachal pradesh             1385654\n",
       "3                        assam            17478091\n",
       "4                        bihar            53619242"
      ]
     },
     "execution_count": 74,
     "metadata": {},
     "output_type": "execute_result"
    }
   ],
   "source": [
    "locations.head()"
   ]
  },
  {
   "cell_type": "code",
   "execution_count": 100,
   "id": "6ded3225-d99f-4fc0-b053-5e0c72e342b4",
   "metadata": {},
   "outputs": [],
   "source": [
    "results['State'] = results['State'].str.strip().str.lower()\n",
    "locations['Location name'] = locations['Location name'].str.strip().str.lower()"
   ]
  },
  {
   "cell_type": "code",
   "execution_count": 120,
   "id": "cfe2061f-4692-440e-a9e7-9ed08e828854",
   "metadata": {},
   "outputs": [
    {
     "data": {
      "text/html": [
       "<div>\n",
       "<style scoped>\n",
       "    .dataframe tbody tr th:only-of-type {\n",
       "        vertical-align: middle;\n",
       "    }\n",
       "\n",
       "    .dataframe tbody tr th {\n",
       "        vertical-align: top;\n",
       "    }\n",
       "\n",
       "    .dataframe thead th {\n",
       "        text-align: right;\n",
       "    }\n",
       "</style>\n",
       "<table border=\"1\" class=\"dataframe\">\n",
       "  <thead>\n",
       "    <tr style=\"text-align: right;\">\n",
       "      <th></th>\n",
       "      <th>_id</th>\n",
       "      <th>Sl No</th>\n",
       "      <th>State</th>\n",
       "      <th>PC_Name</th>\n",
       "      <th>Total Electors</th>\n",
       "      <th>Polled (%)</th>\n",
       "      <th>Total Votes</th>\n",
       "      <th>Phase</th>\n",
       "      <th>Location name</th>\n",
       "      <th>Amount spent (INR)</th>\n",
       "    </tr>\n",
       "  </thead>\n",
       "  <tbody>\n",
       "    <tr>\n",
       "      <th>0</th>\n",
       "      <td>1</td>\n",
       "      <td>1.0</td>\n",
       "      <td>andaman &amp; nicobar islands</td>\n",
       "      <td>Andaman &amp; Nicobar Islands</td>\n",
       "      <td>315148</td>\n",
       "      <td>64.10</td>\n",
       "      <td>202018</td>\n",
       "      <td>1.0</td>\n",
       "      <td>NaN</td>\n",
       "      <td>NaN</td>\n",
       "    </tr>\n",
       "    <tr>\n",
       "      <th>1</th>\n",
       "      <td>2</td>\n",
       "      <td>2.0</td>\n",
       "      <td>arunachal pradesh</td>\n",
       "      <td>Arunachal East</td>\n",
       "      <td>375310</td>\n",
       "      <td>83.31</td>\n",
       "      <td>312658</td>\n",
       "      <td>1.0</td>\n",
       "      <td>arunachal pradesh</td>\n",
       "      <td>1385654.0</td>\n",
       "    </tr>\n",
       "    <tr>\n",
       "      <th>2</th>\n",
       "      <td>3</td>\n",
       "      <td>3.0</td>\n",
       "      <td>arunachal pradesh</td>\n",
       "      <td>Arunachal West</td>\n",
       "      <td>517384</td>\n",
       "      <td>73.60</td>\n",
       "      <td>380783</td>\n",
       "      <td>1.0</td>\n",
       "      <td>arunachal pradesh</td>\n",
       "      <td>1385654.0</td>\n",
       "    </tr>\n",
       "    <tr>\n",
       "      <th>3</th>\n",
       "      <td>4</td>\n",
       "      <td>4.0</td>\n",
       "      <td>assam</td>\n",
       "      <td>Dibrugarh</td>\n",
       "      <td>1659588</td>\n",
       "      <td>76.75</td>\n",
       "      <td>1273744</td>\n",
       "      <td>1.0</td>\n",
       "      <td>assam</td>\n",
       "      <td>17478091.0</td>\n",
       "    </tr>\n",
       "    <tr>\n",
       "      <th>4</th>\n",
       "      <td>5</td>\n",
       "      <td>5.0</td>\n",
       "      <td>assam</td>\n",
       "      <td>Jorhat</td>\n",
       "      <td>1727121</td>\n",
       "      <td>79.89</td>\n",
       "      <td>1379749</td>\n",
       "      <td>1.0</td>\n",
       "      <td>assam</td>\n",
       "      <td>17478091.0</td>\n",
       "    </tr>\n",
       "    <tr>\n",
       "      <th>...</th>\n",
       "      <td>...</td>\n",
       "      <td>...</td>\n",
       "      <td>...</td>\n",
       "      <td>...</td>\n",
       "      <td>...</td>\n",
       "      <td>...</td>\n",
       "      <td>...</td>\n",
       "      <td>...</td>\n",
       "      <td>...</td>\n",
       "      <td>...</td>\n",
       "    </tr>\n",
       "    <tr>\n",
       "      <th>545</th>\n",
       "      <td>546</td>\n",
       "      <td>54.0</td>\n",
       "      <td>west bengal</td>\n",
       "      <td>Joynagar</td>\n",
       "      <td>1844780</td>\n",
       "      <td>80.08</td>\n",
       "      <td>1477298</td>\n",
       "      <td>NaN</td>\n",
       "      <td>west bengal</td>\n",
       "      <td>77244996.0</td>\n",
       "    </tr>\n",
       "    <tr>\n",
       "      <th>546</th>\n",
       "      <td>547</td>\n",
       "      <td>55.0</td>\n",
       "      <td>west bengal</td>\n",
       "      <td>Kolkata Dakshin</td>\n",
       "      <td>1849520</td>\n",
       "      <td>66.95</td>\n",
       "      <td>1238256</td>\n",
       "      <td>NaN</td>\n",
       "      <td>west bengal</td>\n",
       "      <td>77244996.0</td>\n",
       "    </tr>\n",
       "    <tr>\n",
       "      <th>547</th>\n",
       "      <td>548</td>\n",
       "      <td>56.0</td>\n",
       "      <td>west bengal</td>\n",
       "      <td>Kolkata Uttar</td>\n",
       "      <td>1505356</td>\n",
       "      <td>63.59</td>\n",
       "      <td>957319</td>\n",
       "      <td>NaN</td>\n",
       "      <td>west bengal</td>\n",
       "      <td>77244996.0</td>\n",
       "    </tr>\n",
       "    <tr>\n",
       "      <th>548</th>\n",
       "      <td>549</td>\n",
       "      <td>57.0</td>\n",
       "      <td>west bengal</td>\n",
       "      <td>Mathurapur</td>\n",
       "      <td>1817068</td>\n",
       "      <td>82.02</td>\n",
       "      <td>1490299</td>\n",
       "      <td>NaN</td>\n",
       "      <td>west bengal</td>\n",
       "      <td>77244996.0</td>\n",
       "    </tr>\n",
       "    <tr>\n",
       "      <th>549</th>\n",
       "      <td>550</td>\n",
       "      <td>NaN</td>\n",
       "      <td>NaN</td>\n",
       "      <td>Phase 7 Total</td>\n",
       "      <td>100653884</td>\n",
       "      <td>63.88</td>\n",
       "      <td>64296221</td>\n",
       "      <td>NaN</td>\n",
       "      <td>NaN</td>\n",
       "      <td>NaN</td>\n",
       "    </tr>\n",
       "  </tbody>\n",
       "</table>\n",
       "<p>550 rows × 10 columns</p>\n",
       "</div>"
      ],
      "text/plain": [
       "     _id  Sl No                      State                    PC_Name  \\\n",
       "0      1    1.0  andaman & nicobar islands  Andaman & Nicobar Islands   \n",
       "1      2    2.0          arunachal pradesh             Arunachal East   \n",
       "2      3    3.0          arunachal pradesh             Arunachal West   \n",
       "3      4    4.0                      assam                  Dibrugarh   \n",
       "4      5    5.0                      assam                     Jorhat   \n",
       "..   ...    ...                        ...                        ...   \n",
       "545  546   54.0                west bengal                   Joynagar   \n",
       "546  547   55.0                west bengal            Kolkata Dakshin   \n",
       "547  548   56.0                west bengal              Kolkata Uttar   \n",
       "548  549   57.0                west bengal                 Mathurapur   \n",
       "549  550    NaN                        NaN              Phase 7 Total   \n",
       "\n",
       "     Total Electors  Polled (%)  Total Votes  Phase      Location name  \\\n",
       "0            315148       64.10       202018    1.0                NaN   \n",
       "1            375310       83.31       312658    1.0  arunachal pradesh   \n",
       "2            517384       73.60       380783    1.0  arunachal pradesh   \n",
       "3           1659588       76.75      1273744    1.0              assam   \n",
       "4           1727121       79.89      1379749    1.0              assam   \n",
       "..              ...         ...          ...    ...                ...   \n",
       "545         1844780       80.08      1477298    NaN        west bengal   \n",
       "546         1849520       66.95      1238256    NaN        west bengal   \n",
       "547         1505356       63.59       957319    NaN        west bengal   \n",
       "548         1817068       82.02      1490299    NaN        west bengal   \n",
       "549       100653884       63.88     64296221    NaN                NaN   \n",
       "\n",
       "     Amount spent (INR)  \n",
       "0                   NaN  \n",
       "1             1385654.0  \n",
       "2             1385654.0  \n",
       "3            17478091.0  \n",
       "4            17478091.0  \n",
       "..                  ...  \n",
       "545          77244996.0  \n",
       "546          77244996.0  \n",
       "547          77244996.0  \n",
       "548          77244996.0  \n",
       "549                 NaN  \n",
       "\n",
       "[550 rows x 10 columns]"
      ]
     },
     "execution_count": 120,
     "metadata": {},
     "output_type": "execute_result"
    }
   ],
   "source": [
    "merged_data = results.merge(\n",
    "    locations,\n",
    "    left_on='State',\n",
    "    right_on='Location name',\n",
    "    how='left'\n",
    ")\n",
    "\n",
    "merged_data.head(550)"
   ]
  },
  {
   "cell_type": "markdown",
   "id": "2a4f70f2-15b5-47a8-bee2-1619ccf94181",
   "metadata": {},
   "source": [
    "### Finding the total ad spend by state:"
   ]
  },
  {
   "cell_type": "raw",
   "id": "bfa14653-0a20-4261-8fcf-d2f4a11ce95d",
   "metadata": {},
   "source": []
  },
  {
   "cell_type": "code",
   "execution_count": 104,
   "id": "e582f370-b89e-4839-ad8c-3fcec25cf76e",
   "metadata": {},
   "outputs": [],
   "source": [
    "pio.templates.default = \"plotly_white\""
   ]
  },
  {
   "cell_type": "code",
   "execution_count": 202,
   "id": "fb481587-f3be-4e91-ba44-5d9b49084975",
   "metadata": {},
   "outputs": [
    {
     "data": {
      "application/vnd.plotly.v1+json": {
       "config": {
        "plotlyServerURL": "https://plot.ly"
       },
       "data": [
        {
         "alignmentgroup": "True",
         "hovertemplate": "State=%{x}<br>Ad Spend (INR)=%{y}<extra></extra>",
         "legendgroup": "",
         "marker": {
          "color": "#636efa",
          "pattern": {
           "shape": ""
          }
         },
         "name": "",
         "offsetgroup": "",
         "orientation": "v",
         "showlegend": false,
         "textposition": "auto",
         "type": "bar",
         "x": [
          "andaman & nicobar islands",
          "andhra pradesh",
          "arunachal pradesh",
          "assam",
          "bihar",
          "chandigarh",
          "chhattisgarh",
          "dadra & nagar haveli and\ndaman & diu",
          "goa",
          "gujarat",
          "haryana",
          "himachal pradesh",
          "jammu and kashmir",
          "jharkhand",
          "karnataka",
          "kerala",
          "ladakh",
          "lakshadweep",
          "madhya pradesh",
          "maharashtra",
          "manipur",
          "meghalaya",
          "mizoram",
          "nagaland",
          "nct of delhi",
          "odisha",
          "puducherry",
          "punjab",
          "rajasthan",
          "sikkim",
          "tamil nadu",
          "telangana",
          "tripura",
          "uttar pradesh",
          "uttarakhand",
          "west bengal"
         ],
         "xaxis": "x",
         "y": [
          0,
          2520493300,
          2771308,
          244693274,
          2144769680,
          6507258,
          162836146,
          0,
          4328418,
          1010634975,
          416834110,
          48046464,
          32875305,
          229321946,
          1166463116,
          453624020,
          0,
          19847,
          1159795608,
          4892020368,
          2667186,
          1768440,
          481052,
          599170,
          0,
          3785297817,
          1535672,
          0,
          1031708075,
          4379297,
          2988281712,
          926434822,
          3714918,
          7173450480,
          35704485,
          3244289832
         ],
         "yaxis": "y"
        }
       ],
       "layout": {
        "barmode": "relative",
        "height": 600,
        "legend": {
         "tracegroupgap": 0
        },
        "template": {
         "data": {
          "bar": [
           {
            "error_x": {
             "color": "#2a3f5f"
            },
            "error_y": {
             "color": "#2a3f5f"
            },
            "marker": {
             "line": {
              "color": "white",
              "width": 0.5
             },
             "pattern": {
              "fillmode": "overlay",
              "size": 10,
              "solidity": 0.2
             }
            },
            "type": "bar"
           }
          ],
          "barpolar": [
           {
            "marker": {
             "line": {
              "color": "white",
              "width": 0.5
             },
             "pattern": {
              "fillmode": "overlay",
              "size": 10,
              "solidity": 0.2
             }
            },
            "type": "barpolar"
           }
          ],
          "carpet": [
           {
            "aaxis": {
             "endlinecolor": "#2a3f5f",
             "gridcolor": "#C8D4E3",
             "linecolor": "#C8D4E3",
             "minorgridcolor": "#C8D4E3",
             "startlinecolor": "#2a3f5f"
            },
            "baxis": {
             "endlinecolor": "#2a3f5f",
             "gridcolor": "#C8D4E3",
             "linecolor": "#C8D4E3",
             "minorgridcolor": "#C8D4E3",
             "startlinecolor": "#2a3f5f"
            },
            "type": "carpet"
           }
          ],
          "choropleth": [
           {
            "colorbar": {
             "outlinewidth": 0,
             "ticks": ""
            },
            "type": "choropleth"
           }
          ],
          "contour": [
           {
            "colorbar": {
             "outlinewidth": 0,
             "ticks": ""
            },
            "colorscale": [
             [
              0,
              "#0d0887"
             ],
             [
              0.1111111111111111,
              "#46039f"
             ],
             [
              0.2222222222222222,
              "#7201a8"
             ],
             [
              0.3333333333333333,
              "#9c179e"
             ],
             [
              0.4444444444444444,
              "#bd3786"
             ],
             [
              0.5555555555555556,
              "#d8576b"
             ],
             [
              0.6666666666666666,
              "#ed7953"
             ],
             [
              0.7777777777777778,
              "#fb9f3a"
             ],
             [
              0.8888888888888888,
              "#fdca26"
             ],
             [
              1,
              "#f0f921"
             ]
            ],
            "type": "contour"
           }
          ],
          "contourcarpet": [
           {
            "colorbar": {
             "outlinewidth": 0,
             "ticks": ""
            },
            "type": "contourcarpet"
           }
          ],
          "heatmap": [
           {
            "colorbar": {
             "outlinewidth": 0,
             "ticks": ""
            },
            "colorscale": [
             [
              0,
              "#0d0887"
             ],
             [
              0.1111111111111111,
              "#46039f"
             ],
             [
              0.2222222222222222,
              "#7201a8"
             ],
             [
              0.3333333333333333,
              "#9c179e"
             ],
             [
              0.4444444444444444,
              "#bd3786"
             ],
             [
              0.5555555555555556,
              "#d8576b"
             ],
             [
              0.6666666666666666,
              "#ed7953"
             ],
             [
              0.7777777777777778,
              "#fb9f3a"
             ],
             [
              0.8888888888888888,
              "#fdca26"
             ],
             [
              1,
              "#f0f921"
             ]
            ],
            "type": "heatmap"
           }
          ],
          "heatmapgl": [
           {
            "colorbar": {
             "outlinewidth": 0,
             "ticks": ""
            },
            "colorscale": [
             [
              0,
              "#0d0887"
             ],
             [
              0.1111111111111111,
              "#46039f"
             ],
             [
              0.2222222222222222,
              "#7201a8"
             ],
             [
              0.3333333333333333,
              "#9c179e"
             ],
             [
              0.4444444444444444,
              "#bd3786"
             ],
             [
              0.5555555555555556,
              "#d8576b"
             ],
             [
              0.6666666666666666,
              "#ed7953"
             ],
             [
              0.7777777777777778,
              "#fb9f3a"
             ],
             [
              0.8888888888888888,
              "#fdca26"
             ],
             [
              1,
              "#f0f921"
             ]
            ],
            "type": "heatmapgl"
           }
          ],
          "histogram": [
           {
            "marker": {
             "pattern": {
              "fillmode": "overlay",
              "size": 10,
              "solidity": 0.2
             }
            },
            "type": "histogram"
           }
          ],
          "histogram2d": [
           {
            "colorbar": {
             "outlinewidth": 0,
             "ticks": ""
            },
            "colorscale": [
             [
              0,
              "#0d0887"
             ],
             [
              0.1111111111111111,
              "#46039f"
             ],
             [
              0.2222222222222222,
              "#7201a8"
             ],
             [
              0.3333333333333333,
              "#9c179e"
             ],
             [
              0.4444444444444444,
              "#bd3786"
             ],
             [
              0.5555555555555556,
              "#d8576b"
             ],
             [
              0.6666666666666666,
              "#ed7953"
             ],
             [
              0.7777777777777778,
              "#fb9f3a"
             ],
             [
              0.8888888888888888,
              "#fdca26"
             ],
             [
              1,
              "#f0f921"
             ]
            ],
            "type": "histogram2d"
           }
          ],
          "histogram2dcontour": [
           {
            "colorbar": {
             "outlinewidth": 0,
             "ticks": ""
            },
            "colorscale": [
             [
              0,
              "#0d0887"
             ],
             [
              0.1111111111111111,
              "#46039f"
             ],
             [
              0.2222222222222222,
              "#7201a8"
             ],
             [
              0.3333333333333333,
              "#9c179e"
             ],
             [
              0.4444444444444444,
              "#bd3786"
             ],
             [
              0.5555555555555556,
              "#d8576b"
             ],
             [
              0.6666666666666666,
              "#ed7953"
             ],
             [
              0.7777777777777778,
              "#fb9f3a"
             ],
             [
              0.8888888888888888,
              "#fdca26"
             ],
             [
              1,
              "#f0f921"
             ]
            ],
            "type": "histogram2dcontour"
           }
          ],
          "mesh3d": [
           {
            "colorbar": {
             "outlinewidth": 0,
             "ticks": ""
            },
            "type": "mesh3d"
           }
          ],
          "parcoords": [
           {
            "line": {
             "colorbar": {
              "outlinewidth": 0,
              "ticks": ""
             }
            },
            "type": "parcoords"
           }
          ],
          "pie": [
           {
            "automargin": true,
            "type": "pie"
           }
          ],
          "scatter": [
           {
            "fillpattern": {
             "fillmode": "overlay",
             "size": 10,
             "solidity": 0.2
            },
            "type": "scatter"
           }
          ],
          "scatter3d": [
           {
            "line": {
             "colorbar": {
              "outlinewidth": 0,
              "ticks": ""
             }
            },
            "marker": {
             "colorbar": {
              "outlinewidth": 0,
              "ticks": ""
             }
            },
            "type": "scatter3d"
           }
          ],
          "scattercarpet": [
           {
            "marker": {
             "colorbar": {
              "outlinewidth": 0,
              "ticks": ""
             }
            },
            "type": "scattercarpet"
           }
          ],
          "scattergeo": [
           {
            "marker": {
             "colorbar": {
              "outlinewidth": 0,
              "ticks": ""
             }
            },
            "type": "scattergeo"
           }
          ],
          "scattergl": [
           {
            "marker": {
             "colorbar": {
              "outlinewidth": 0,
              "ticks": ""
             }
            },
            "type": "scattergl"
           }
          ],
          "scattermapbox": [
           {
            "marker": {
             "colorbar": {
              "outlinewidth": 0,
              "ticks": ""
             }
            },
            "type": "scattermapbox"
           }
          ],
          "scatterpolar": [
           {
            "marker": {
             "colorbar": {
              "outlinewidth": 0,
              "ticks": ""
             }
            },
            "type": "scatterpolar"
           }
          ],
          "scatterpolargl": [
           {
            "marker": {
             "colorbar": {
              "outlinewidth": 0,
              "ticks": ""
             }
            },
            "type": "scatterpolargl"
           }
          ],
          "scatterternary": [
           {
            "marker": {
             "colorbar": {
              "outlinewidth": 0,
              "ticks": ""
             }
            },
            "type": "scatterternary"
           }
          ],
          "surface": [
           {
            "colorbar": {
             "outlinewidth": 0,
             "ticks": ""
            },
            "colorscale": [
             [
              0,
              "#0d0887"
             ],
             [
              0.1111111111111111,
              "#46039f"
             ],
             [
              0.2222222222222222,
              "#7201a8"
             ],
             [
              0.3333333333333333,
              "#9c179e"
             ],
             [
              0.4444444444444444,
              "#bd3786"
             ],
             [
              0.5555555555555556,
              "#d8576b"
             ],
             [
              0.6666666666666666,
              "#ed7953"
             ],
             [
              0.7777777777777778,
              "#fb9f3a"
             ],
             [
              0.8888888888888888,
              "#fdca26"
             ],
             [
              1,
              "#f0f921"
             ]
            ],
            "type": "surface"
           }
          ],
          "table": [
           {
            "cells": {
             "fill": {
              "color": "#EBF0F8"
             },
             "line": {
              "color": "white"
             }
            },
            "header": {
             "fill": {
              "color": "#C8D4E3"
             },
             "line": {
              "color": "white"
             }
            },
            "type": "table"
           }
          ]
         },
         "layout": {
          "annotationdefaults": {
           "arrowcolor": "#2a3f5f",
           "arrowhead": 0,
           "arrowwidth": 1
          },
          "autotypenumbers": "strict",
          "coloraxis": {
           "colorbar": {
            "outlinewidth": 0,
            "ticks": ""
           }
          },
          "colorscale": {
           "diverging": [
            [
             0,
             "#8e0152"
            ],
            [
             0.1,
             "#c51b7d"
            ],
            [
             0.2,
             "#de77ae"
            ],
            [
             0.3,
             "#f1b6da"
            ],
            [
             0.4,
             "#fde0ef"
            ],
            [
             0.5,
             "#f7f7f7"
            ],
            [
             0.6,
             "#e6f5d0"
            ],
            [
             0.7,
             "#b8e186"
            ],
            [
             0.8,
             "#7fbc41"
            ],
            [
             0.9,
             "#4d9221"
            ],
            [
             1,
             "#276419"
            ]
           ],
           "sequential": [
            [
             0,
             "#0d0887"
            ],
            [
             0.1111111111111111,
             "#46039f"
            ],
            [
             0.2222222222222222,
             "#7201a8"
            ],
            [
             0.3333333333333333,
             "#9c179e"
            ],
            [
             0.4444444444444444,
             "#bd3786"
            ],
            [
             0.5555555555555556,
             "#d8576b"
            ],
            [
             0.6666666666666666,
             "#ed7953"
            ],
            [
             0.7777777777777778,
             "#fb9f3a"
            ],
            [
             0.8888888888888888,
             "#fdca26"
            ],
            [
             1,
             "#f0f921"
            ]
           ],
           "sequentialminus": [
            [
             0,
             "#0d0887"
            ],
            [
             0.1111111111111111,
             "#46039f"
            ],
            [
             0.2222222222222222,
             "#7201a8"
            ],
            [
             0.3333333333333333,
             "#9c179e"
            ],
            [
             0.4444444444444444,
             "#bd3786"
            ],
            [
             0.5555555555555556,
             "#d8576b"
            ],
            [
             0.6666666666666666,
             "#ed7953"
            ],
            [
             0.7777777777777778,
             "#fb9f3a"
            ],
            [
             0.8888888888888888,
             "#fdca26"
            ],
            [
             1,
             "#f0f921"
            ]
           ]
          },
          "colorway": [
           "#636efa",
           "#EF553B",
           "#00cc96",
           "#ab63fa",
           "#FFA15A",
           "#19d3f3",
           "#FF6692",
           "#B6E880",
           "#FF97FF",
           "#FECB52"
          ],
          "font": {
           "color": "#2a3f5f"
          },
          "geo": {
           "bgcolor": "white",
           "lakecolor": "white",
           "landcolor": "white",
           "showlakes": true,
           "showland": true,
           "subunitcolor": "#C8D4E3"
          },
          "hoverlabel": {
           "align": "left"
          },
          "hovermode": "closest",
          "mapbox": {
           "style": "light"
          },
          "paper_bgcolor": "white",
          "plot_bgcolor": "white",
          "polar": {
           "angularaxis": {
            "gridcolor": "#EBF0F8",
            "linecolor": "#EBF0F8",
            "ticks": ""
           },
           "bgcolor": "white",
           "radialaxis": {
            "gridcolor": "#EBF0F8",
            "linecolor": "#EBF0F8",
            "ticks": ""
           }
          },
          "scene": {
           "xaxis": {
            "backgroundcolor": "white",
            "gridcolor": "#DFE8F3",
            "gridwidth": 2,
            "linecolor": "#EBF0F8",
            "showbackground": true,
            "ticks": "",
            "zerolinecolor": "#EBF0F8"
           },
           "yaxis": {
            "backgroundcolor": "white",
            "gridcolor": "#DFE8F3",
            "gridwidth": 2,
            "linecolor": "#EBF0F8",
            "showbackground": true,
            "ticks": "",
            "zerolinecolor": "#EBF0F8"
           },
           "zaxis": {
            "backgroundcolor": "white",
            "gridcolor": "#DFE8F3",
            "gridwidth": 2,
            "linecolor": "#EBF0F8",
            "showbackground": true,
            "ticks": "",
            "zerolinecolor": "#EBF0F8"
           }
          },
          "shapedefaults": {
           "line": {
            "color": "#2a3f5f"
           }
          },
          "ternary": {
           "aaxis": {
            "gridcolor": "#DFE8F3",
            "linecolor": "#A2B1C6",
            "ticks": ""
           },
           "baxis": {
            "gridcolor": "#DFE8F3",
            "linecolor": "#A2B1C6",
            "ticks": ""
           },
           "bgcolor": "white",
           "caxis": {
            "gridcolor": "#DFE8F3",
            "linecolor": "#A2B1C6",
            "ticks": ""
           }
          },
          "title": {
           "x": 0.05
          },
          "xaxis": {
           "automargin": true,
           "gridcolor": "#EBF0F8",
           "linecolor": "#EBF0F8",
           "ticks": "",
           "title": {
            "standoff": 15
           },
           "zerolinecolor": "#EBF0F8",
           "zerolinewidth": 2
          },
          "yaxis": {
           "automargin": true,
           "gridcolor": "#EBF0F8",
           "linecolor": "#EBF0F8",
           "ticks": "",
           "title": {
            "standoff": 15
           },
           "zerolinecolor": "#EBF0F8",
           "zerolinewidth": 2
          }
         }
        },
        "title": {
         "text": "Total Ad Spend by State"
        },
        "width": 800,
        "xaxis": {
         "anchor": "y",
         "autorange": true,
         "categoryorder": "total descending",
         "domain": [
          0,
          1
         ],
         "range": [
          -0.5,
          35.5
         ],
         "tickangle": -90,
         "title": {
          "text": "State"
         },
         "type": "category"
        },
        "yaxis": {
         "anchor": "x",
         "autorange": true,
         "domain": [
          0,
          1
         ],
         "range": [
          0,
          7551000505.263158
         ],
         "title": {
          "text": "Ad Spend (INR)"
         },
         "type": "linear"
        }
       }
      },
      "image/png": "[encoded data removed]",
      "text/html": [
       "<div>                            <div id=\"4caf9cf4-889e-46cc-8d8a-c235bd38553b\" class=\"plotly-graph-div\" style=\"height:600px; width:800px;\"></div>            <script type=\"text/javascript\">                require([\"plotly\"], function(Plotly) {                    window.PLOTLYENV=window.PLOTLYENV || {};                                    if (document.getElementById(\"4caf9cf4-889e-46cc-8d8a-c235bd38553b\")) {                    Plotly.newPlot(                        \"4caf9cf4-889e-46cc-8d8a-c235bd38553b\",                        [{\"alignmentgroup\":\"True\",\"hovertemplate\":\"State=%{x}<br>Ad Spend (INR)=%{y}<extra></extra>\",\"legendgroup\":\"\",\"marker\":{\"color\":\"#636efa\",\"pattern\":{\"shape\":\"\"}},\"name\":\"\",\"offsetgroup\":\"\",\"orientation\":\"v\",\"showlegend\":false,\"textposition\":\"auto\",\"x\":[\"andaman & nicobar islands\",\"andhra pradesh\",\"arunachal pradesh\",\"assam\",\"bihar\",\"chandigarh\",\"chhattisgarh\",\"dadra & nagar haveli and\\ndaman & diu\",\"goa\",\"gujarat\",\"haryana\",\"himachal pradesh\",\"jammu and kashmir\",\"jharkhand\",\"karnataka\",\"kerala\",\"ladakh\",\"lakshadweep\",\"madhya pradesh\",\"maharashtra\",\"manipur\",\"meghalaya\",\"mizoram\",\"nagaland\",\"nct of delhi\",\"odisha\",\"puducherry\",\"punjab\",\"rajasthan\",\"sikkim\",\"tamil nadu\",\"telangana\",\"tripura\",\"uttar pradesh\",\"uttarakhand\",\"west bengal\"],\"xaxis\":\"x\",\"y\":[0.0,2520493300.0,2771308.0,244693274.0,2144769680.0,6507258.0,162836146.0,0.0,4328418.0,1010634975.0,416834110.0,48046464.0,32875305.0,229321946.0,1166463116.0,453624020.0,0.0,19847.0,1159795608.0,4892020368.0,2667186.0,1768440.0,481052.0,599170.0,0.0,3785297817.0,1535672.0,0.0,1031708075.0,4379297.0,2988281712.0,926434822.0,3714918.0,7173450480.0,35704485.0,3244289832.0],\"yaxis\":\"y\",\"type\":\"bar\"}],                        {\"template\":{\"data\":{\"histogram2dcontour\":[{\"type\":\"histogram2dcontour\",\"colorbar\":{\"outlinewidth\":0,\"ticks\":\"\"},\"colorscale\":[[0.0,\"#0d0887\"],[0.1111111111111111,\"#46039f\"],[0.2222222222222222,\"#7201a8\"],[0.3333333333333333,\"#9c179e\"],[0.4444444444444444,\"#bd3786\"],[0.5555555555555556,\"#d8576b\"],[0.6666666666666666,\"#ed7953\"],[0.7777777777777778,\"#fb9f3a\"],[0.8888888888888888,\"#fdca26\"],[1.0,\"#f0f921\"]]}],\"choropleth\":[{\"type\":\"choropleth\",\"colorbar\":{\"outlinewidth\":0,\"ticks\":\"\"}}],\"histogram2d\":[{\"type\":\"histogram2d\",\"colorbar\":{\"outlinewidth\":0,\"ticks\":\"\"},\"colorscale\":[[0.0,\"#0d0887\"],[0.1111111111111111,\"#46039f\"],[0.2222222222222222,\"#7201a8\"],[0.3333333333333333,\"#9c179e\"],[0.4444444444444444,\"#bd3786\"],[0.5555555555555556,\"#d8576b\"],[0.6666666666666666,\"#ed7953\"],[0.7777777777777778,\"#fb9f3a\"],[0.8888888888888888,\"#fdca26\"],[1.0,\"#f0f921\"]]}],\"heatmap\":[{\"type\":\"heatmap\",\"colorbar\":{\"outlinewidth\":0,\"ticks\":\"\"},\"colorscale\":[[0.0,\"#0d0887\"],[0.1111111111111111,\"#46039f\"],[0.2222222222222222,\"#7201a8\"],[0.3333333333333333,\"#9c179e\"],[0.4444444444444444,\"#bd3786\"],[0.5555555555555556,\"#d8576b\"],[0.6666666666666666,\"#ed7953\"],[0.7777777777777778,\"#fb9f3a\"],[0.8888888888888888,\"#fdca26\"],[1.0,\"#f0f921\"]]}],\"heatmapgl\":[{\"type\":\"heatmapgl\",\"colorbar\":{\"outlinewidth\":0,\"ticks\":\"\"},\"colorscale\":[[0.0,\"#0d0887\"],[0.1111111111111111,\"#46039f\"],[0.2222222222222222,\"#7201a8\"],[0.3333333333333333,\"#9c179e\"],[0.4444444444444444,\"#bd3786\"],[0.5555555555555556,\"#d8576b\"],[0.6666666666666666,\"#ed7953\"],[0.7777777777777778,\"#fb9f3a\"],[0.8888888888888888,\"#fdca26\"],[1.0,\"#f0f921\"]]}],\"contourcarpet\":[{\"type\":\"contourcarpet\",\"colorbar\":{\"outlinewidth\":0,\"ticks\":\"\"}}],\"contour\":[{\"type\":\"contour\",\"colorbar\":{\"outlinewidth\":0,\"ticks\":\"\"},\"colorscale\":[[0.0,\"#0d0887\"],[0.1111111111111111,\"#46039f\"],[0.2222222222222222,\"#7201a8\"],[0.3333333333333333,\"#9c179e\"],[0.4444444444444444,\"#bd3786\"],[0.5555555555555556,\"#d8576b\"],[0.6666666666666666,\"#ed7953\"],[0.7777777777777778,\"#fb9f3a\"],[0.8888888888888888,\"#fdca26\"],[1.0,\"#f0f921\"]]}],\"surface\":[{\"type\":\"surface\",\"colorbar\":{\"outlinewidth\":0,\"ticks\":\"\"},\"colorscale\":[[0.0,\"#0d0887\"],[0.1111111111111111,\"#46039f\"],[0.2222222222222222,\"#7201a8\"],[0.3333333333333333,\"#9c179e\"],[0.4444444444444444,\"#bd3786\"],[0.5555555555555556,\"#d8576b\"],[0.6666666666666666,\"#ed7953\"],[0.7777777777777778,\"#fb9f3a\"],[0.8888888888888888,\"#fdca26\"],[1.0,\"#f0f921\"]]}],\"mesh3d\":[{\"type\":\"mesh3d\",\"colorbar\":{\"outlinewidth\":0,\"ticks\":\"\"}}],\"scatter\":[{\"fillpattern\":{\"fillmode\":\"overlay\",\"size\":10,\"solidity\":0.2},\"type\":\"scatter\"}],\"parcoords\":[{\"type\":\"parcoords\",\"line\":{\"colorbar\":{\"outlinewidth\":0,\"ticks\":\"\"}}}],\"scatterpolargl\":[{\"type\":\"scatterpolargl\",\"marker\":{\"colorbar\":{\"outlinewidth\":0,\"ticks\":\"\"}}}],\"bar\":[{\"error_x\":{\"color\":\"#2a3f5f\"},\"error_y\":{\"color\":\"#2a3f5f\"},\"marker\":{\"line\":{\"color\":\"white\",\"width\":0.5},\"pattern\":{\"fillmode\":\"overlay\",\"size\":10,\"solidity\":0.2}},\"type\":\"bar\"}],\"scattergeo\":[{\"type\":\"scattergeo\",\"marker\":{\"colorbar\":{\"outlinewidth\":0,\"ticks\":\"\"}}}],\"scatterpolar\":[{\"type\":\"scatterpolar\",\"marker\":{\"colorbar\":{\"outlinewidth\":0,\"ticks\":\"\"}}}],\"histogram\":[{\"marker\":{\"pattern\":{\"fillmode\":\"overlay\",\"size\":10,\"solidity\":0.2}},\"type\":\"histogram\"}],\"scattergl\":[{\"type\":\"scattergl\",\"marker\":{\"colorbar\":{\"outlinewidth\":0,\"ticks\":\"\"}}}],\"scatter3d\":[{\"type\":\"scatter3d\",\"line\":{\"colorbar\":{\"outlinewidth\":0,\"ticks\":\"\"}},\"marker\":{\"colorbar\":{\"outlinewidth\":0,\"ticks\":\"\"}}}],\"scattermapbox\":[{\"type\":\"scattermapbox\",\"marker\":{\"colorbar\":{\"outlinewidth\":0,\"ticks\":\"\"}}}],\"scatterternary\":[{\"type\":\"scatterternary\",\"marker\":{\"colorbar\":{\"outlinewidth\":0,\"ticks\":\"\"}}}],\"scattercarpet\":[{\"type\":\"scattercarpet\",\"marker\":{\"colorbar\":{\"outlinewidth\":0,\"ticks\":\"\"}}}],\"carpet\":[{\"aaxis\":{\"endlinecolor\":\"#2a3f5f\",\"gridcolor\":\"#C8D4E3\",\"linecolor\":\"#C8D4E3\",\"minorgridcolor\":\"#C8D4E3\",\"startlinecolor\":\"#2a3f5f\"},\"baxis\":{\"endlinecolor\":\"#2a3f5f\",\"gridcolor\":\"#C8D4E3\",\"linecolor\":\"#C8D4E3\",\"minorgridcolor\":\"#C8D4E3\",\"startlinecolor\":\"#2a3f5f\"},\"type\":\"carpet\"}],\"table\":[{\"cells\":{\"fill\":{\"color\":\"#EBF0F8\"},\"line\":{\"color\":\"white\"}},\"header\":{\"fill\":{\"color\":\"#C8D4E3\"},\"line\":{\"color\":\"white\"}},\"type\":\"table\"}],\"barpolar\":[{\"marker\":{\"line\":{\"color\":\"white\",\"width\":0.5},\"pattern\":{\"fillmode\":\"overlay\",\"size\":10,\"solidity\":0.2}},\"type\":\"barpolar\"}],\"pie\":[{\"automargin\":true,\"type\":\"pie\"}]},\"layout\":{\"autotypenumbers\":\"strict\",\"colorway\":[\"#636efa\",\"#EF553B\",\"#00cc96\",\"#ab63fa\",\"#FFA15A\",\"#19d3f3\",\"#FF6692\",\"#B6E880\",\"#FF97FF\",\"#FECB52\"],\"font\":{\"color\":\"#2a3f5f\"},\"hovermode\":\"closest\",\"hoverlabel\":{\"align\":\"left\"},\"paper_bgcolor\":\"white\",\"plot_bgcolor\":\"white\",\"polar\":{\"bgcolor\":\"white\",\"angularaxis\":{\"gridcolor\":\"#EBF0F8\",\"linecolor\":\"#EBF0F8\",\"ticks\":\"\"},\"radialaxis\":{\"gridcolor\":\"#EBF0F8\",\"linecolor\":\"#EBF0F8\",\"ticks\":\"\"}},\"ternary\":{\"bgcolor\":\"white\",\"aaxis\":{\"gridcolor\":\"#DFE8F3\",\"linecolor\":\"#A2B1C6\",\"ticks\":\"\"},\"baxis\":{\"gridcolor\":\"#DFE8F3\",\"linecolor\":\"#A2B1C6\",\"ticks\":\"\"},\"caxis\":{\"gridcolor\":\"#DFE8F3\",\"linecolor\":\"#A2B1C6\",\"ticks\":\"\"}},\"coloraxis\":{\"colorbar\":{\"outlinewidth\":0,\"ticks\":\"\"}},\"colorscale\":{\"sequential\":[[0.0,\"#0d0887\"],[0.1111111111111111,\"#46039f\"],[0.2222222222222222,\"#7201a8\"],[0.3333333333333333,\"#9c179e\"],[0.4444444444444444,\"#bd3786\"],[0.5555555555555556,\"#d8576b\"],[0.6666666666666666,\"#ed7953\"],[0.7777777777777778,\"#fb9f3a\"],[0.8888888888888888,\"#fdca26\"],[1.0,\"#f0f921\"]],\"sequentialminus\":[[0.0,\"#0d0887\"],[0.1111111111111111,\"#46039f\"],[0.2222222222222222,\"#7201a8\"],[0.3333333333333333,\"#9c179e\"],[0.4444444444444444,\"#bd3786\"],[0.5555555555555556,\"#d8576b\"],[0.6666666666666666,\"#ed7953\"],[0.7777777777777778,\"#fb9f3a\"],[0.8888888888888888,\"#fdca26\"],[1.0,\"#f0f921\"]],\"diverging\":[[0,\"#8e0152\"],[0.1,\"#c51b7d\"],[0.2,\"#de77ae\"],[0.3,\"#f1b6da\"],[0.4,\"#fde0ef\"],[0.5,\"#f7f7f7\"],[0.6,\"#e6f5d0\"],[0.7,\"#b8e186\"],[0.8,\"#7fbc41\"],[0.9,\"#4d9221\"],[1,\"#276419\"]]},\"xaxis\":{\"gridcolor\":\"#EBF0F8\",\"linecolor\":\"#EBF0F8\",\"ticks\":\"\",\"title\":{\"standoff\":15},\"zerolinecolor\":\"#EBF0F8\",\"automargin\":true,\"zerolinewidth\":2},\"yaxis\":{\"gridcolor\":\"#EBF0F8\",\"linecolor\":\"#EBF0F8\",\"ticks\":\"\",\"title\":{\"standoff\":15},\"zerolinecolor\":\"#EBF0F8\",\"automargin\":true,\"zerolinewidth\":2},\"scene\":{\"xaxis\":{\"backgroundcolor\":\"white\",\"gridcolor\":\"#DFE8F3\",\"linecolor\":\"#EBF0F8\",\"showbackground\":true,\"ticks\":\"\",\"zerolinecolor\":\"#EBF0F8\",\"gridwidth\":2},\"yaxis\":{\"backgroundcolor\":\"white\",\"gridcolor\":\"#DFE8F3\",\"linecolor\":\"#EBF0F8\",\"showbackground\":true,\"ticks\":\"\",\"zerolinecolor\":\"#EBF0F8\",\"gridwidth\":2},\"zaxis\":{\"backgroundcolor\":\"white\",\"gridcolor\":\"#DFE8F3\",\"linecolor\":\"#EBF0F8\",\"showbackground\":true,\"ticks\":\"\",\"zerolinecolor\":\"#EBF0F8\",\"gridwidth\":2}},\"shapedefaults\":{\"line\":{\"color\":\"#2a3f5f\"}},\"annotationdefaults\":{\"arrowcolor\":\"#2a3f5f\",\"arrowhead\":0,\"arrowwidth\":1},\"geo\":{\"bgcolor\":\"white\",\"landcolor\":\"white\",\"subunitcolor\":\"#C8D4E3\",\"showland\":true,\"showlakes\":true,\"lakecolor\":\"white\"},\"title\":{\"x\":0.05},\"mapbox\":{\"style\":\"light\"}}},\"xaxis\":{\"anchor\":\"y\",\"domain\":[0.0,1.0],\"title\":{\"text\":\"State\"},\"categoryorder\":\"total descending\",\"tickangle\":-90},\"yaxis\":{\"anchor\":\"x\",\"domain\":[0.0,1.0],\"title\":{\"text\":\"Ad Spend (INR)\"}},\"legend\":{\"tracegroupgap\":0},\"title\":{\"text\":\"Total Ad Spend by State\"},\"barmode\":\"relative\",\"width\":800,\"height\":600},                        {\"responsive\": true}                    ).then(function(){\n",
       "                            \n",
       "var gd = document.getElementById('4caf9cf4-889e-46cc-8d8a-c235bd38553b');\n",
       "var x = new MutationObserver(function (mutations, observer) {{\n",
       "        var display = window.getComputedStyle(gd).display;\n",
       "        if (!display || display === 'none') {{\n",
       "            console.log([gd, 'removed!']);\n",
       "            Plotly.purge(gd);\n",
       "            observer.disconnect();\n",
       "        }}\n",
       "}});\n",
       "\n",
       "// Listen for the removal of the full notebook cells\n",
       "var notebookContainer = gd.closest('#notebook-container');\n",
       "if (notebookContainer) {{\n",
       "    x.observe(notebookContainer, {childList: true});\n",
       "}}\n",
       "\n",
       "// Listen for the clearing of the current output cell\n",
       "var outputEl = gd.closest('.output');\n",
       "if (outputEl) {{\n",
       "    x.observe(outputEl, {childList: true});\n",
       "}}\n",
       "\n",
       "                        })                };                });            </script>        </div>"
      ]
     },
     "metadata": {},
     "output_type": "display_data"
    }
   ],
   "source": [
    "state_ad_spend = merged_data.groupby('State')['Amount spent (INR)'].sum().reset_index()\n",
    "\n",
    "Spentfig = px.bar(state_ad_spend, x='State', y='Amount spent (INR)',\n",
    "             labels={'Amount spent (INR)': 'Ad Spend (INR)'},\n",
    "             title='Total Ad Spend by State')\n",
    "\n",
    "Spentfig.update_layout(xaxis={'categoryorder': 'total descending'},\n",
    "                  xaxis_tickangle=-90,\n",
    "                  width=800,\n",
    "                  height=600)\n",
    "\n",
    "Spentfig.show()"
   ]
  },
  {
   "cell_type": "markdown",
   "id": "8c5a38e5-2c45-4ea9-b70a-c0397ebd69d0",
   "metadata": {},
   "source": [
    "### The average voter turnout by state:"
   ]
  },
  {
   "cell_type": "code",
   "execution_count": 248,
   "id": "17c2e98c-f375-4a85-9721-2505b14cadc3",
   "metadata": {},
   "outputs": [
    {
     "data": {
      "text/html": [
       "<div>\n",
       "<style scoped>\n",
       "    .dataframe tbody tr th:only-of-type {\n",
       "        vertical-align: middle;\n",
       "    }\n",
       "\n",
       "    .dataframe tbody tr th {\n",
       "        vertical-align: top;\n",
       "    }\n",
       "\n",
       "    .dataframe thead th {\n",
       "        text-align: right;\n",
       "    }\n",
       "</style>\n",
       "<table border=\"1\" class=\"dataframe\">\n",
       "  <thead>\n",
       "    <tr style=\"text-align: right;\">\n",
       "      <th></th>\n",
       "      <th>State</th>\n",
       "      <th>Polled (%)</th>\n",
       "    </tr>\n",
       "  </thead>\n",
       "  <tbody>\n",
       "    <tr>\n",
       "      <th>0</th>\n",
       "      <td>lakshadweep</td>\n",
       "      <td>84.160000</td>\n",
       "    </tr>\n",
       "    <tr>\n",
       "      <th>1</th>\n",
       "      <td>tripura</td>\n",
       "      <td>80.920000</td>\n",
       "    </tr>\n",
       "    <tr>\n",
       "      <th>2</th>\n",
       "      <td>assam</td>\n",
       "      <td>80.882857</td>\n",
       "    </tr>\n",
       "    <tr>\n",
       "      <th>3</th>\n",
       "      <td>andhra pradesh</td>\n",
       "      <td>80.770800</td>\n",
       "    </tr>\n",
       "    <tr>\n",
       "      <th>4</th>\n",
       "      <td>sikkim</td>\n",
       "      <td>79.880000</td>\n",
       "    </tr>\n",
       "    <tr>\n",
       "      <th>5</th>\n",
       "      <td>west bengal</td>\n",
       "      <td>79.188095</td>\n",
       "    </tr>\n",
       "    <tr>\n",
       "      <th>6</th>\n",
       "      <td>puducherry</td>\n",
       "      <td>78.900000</td>\n",
       "    </tr>\n",
       "    <tr>\n",
       "      <th>7</th>\n",
       "      <td>arunachal pradesh</td>\n",
       "      <td>78.455000</td>\n",
       "    </tr>\n",
       "    <tr>\n",
       "      <th>8</th>\n",
       "      <td>manipur</td>\n",
       "      <td>78.030000</td>\n",
       "    </tr>\n",
       "    <tr>\n",
       "      <th>9</th>\n",
       "      <td>meghalaya</td>\n",
       "      <td>77.575000</td>\n",
       "    </tr>\n",
       "    <tr>\n",
       "      <th>10</th>\n",
       "      <td>goa</td>\n",
       "      <td>76.080000</td>\n",
       "    </tr>\n",
       "    <tr>\n",
       "      <th>11</th>\n",
       "      <td>odisha</td>\n",
       "      <td>74.510000</td>\n",
       "    </tr>\n",
       "    <tr>\n",
       "      <th>12</th>\n",
       "      <td>chhattisgarh</td>\n",
       "      <td>73.105455</td>\n",
       "    </tr>\n",
       "    <tr>\n",
       "      <th>13</th>\n",
       "      <td>ladakh</td>\n",
       "      <td>71.820000</td>\n",
       "    </tr>\n",
       "    <tr>\n",
       "      <th>14</th>\n",
       "      <td>karnataka</td>\n",
       "      <td>71.714643</td>\n",
       "    </tr>\n",
       "    <tr>\n",
       "      <th>15</th>\n",
       "      <td>kerala</td>\n",
       "      <td>71.189500</td>\n",
       "    </tr>\n",
       "    <tr>\n",
       "      <th>16</th>\n",
       "      <td>himachal pradesh</td>\n",
       "      <td>70.965000</td>\n",
       "    </tr>\n",
       "    <tr>\n",
       "      <th>17</th>\n",
       "      <td>dadra &amp; nagar haveli and\\ndaman &amp; diu</td>\n",
       "      <td>70.645000</td>\n",
       "    </tr>\n",
       "    <tr>\n",
       "      <th>18</th>\n",
       "      <td>tamil nadu</td>\n",
       "      <td>70.035385</td>\n",
       "    </tr>\n",
       "    <tr>\n",
       "      <th>19</th>\n",
       "      <td>chandigarh</td>\n",
       "      <td>67.980000</td>\n",
       "    </tr>\n",
       "    <tr>\n",
       "      <th>20</th>\n",
       "      <td>telangana</td>\n",
       "      <td>67.662941</td>\n",
       "    </tr>\n",
       "    <tr>\n",
       "      <th>21</th>\n",
       "      <td>madhya pradesh</td>\n",
       "      <td>66.970345</td>\n",
       "    </tr>\n",
       "    <tr>\n",
       "      <th>22</th>\n",
       "      <td>jharkhand</td>\n",
       "      <td>66.605000</td>\n",
       "    </tr>\n",
       "    <tr>\n",
       "      <th>23</th>\n",
       "      <td>haryana</td>\n",
       "      <td>65.019000</td>\n",
       "    </tr>\n",
       "    <tr>\n",
       "      <th>24</th>\n",
       "      <td>andaman &amp; nicobar islands</td>\n",
       "      <td>64.100000</td>\n",
       "    </tr>\n",
       "    <tr>\n",
       "      <th>25</th>\n",
       "      <td>punjab</td>\n",
       "      <td>62.803846</td>\n",
       "    </tr>\n",
       "    <tr>\n",
       "      <th>26</th>\n",
       "      <td>maharashtra</td>\n",
       "      <td>61.460000</td>\n",
       "    </tr>\n",
       "    <tr>\n",
       "      <th>27</th>\n",
       "      <td>rajasthan</td>\n",
       "      <td>61.426400</td>\n",
       "    </tr>\n",
       "    <tr>\n",
       "      <th>28</th>\n",
       "      <td>gujarat</td>\n",
       "      <td>60.140400</td>\n",
       "    </tr>\n",
       "    <tr>\n",
       "      <th>29</th>\n",
       "      <td>jammu and kashmir</td>\n",
       "      <td>58.696000</td>\n",
       "    </tr>\n",
       "    <tr>\n",
       "      <th>30</th>\n",
       "      <td>nct of delhi</td>\n",
       "      <td>58.502857</td>\n",
       "    </tr>\n",
       "    <tr>\n",
       "      <th>31</th>\n",
       "      <td>nagaland</td>\n",
       "      <td>57.720000</td>\n",
       "    </tr>\n",
       "    <tr>\n",
       "      <th>32</th>\n",
       "      <td>uttar pradesh</td>\n",
       "      <td>57.047000</td>\n",
       "    </tr>\n",
       "    <tr>\n",
       "      <th>33</th>\n",
       "      <td>mizoram</td>\n",
       "      <td>56.870000</td>\n",
       "    </tr>\n",
       "    <tr>\n",
       "      <th>34</th>\n",
       "      <td>bihar</td>\n",
       "      <td>56.329500</td>\n",
       "    </tr>\n",
       "    <tr>\n",
       "      <th>35</th>\n",
       "      <td>uttarakhand</td>\n",
       "      <td>56.184000</td>\n",
       "    </tr>\n",
       "  </tbody>\n",
       "</table>\n",
       "</div>"
      ],
      "text/plain": [
       "                                    State  Polled (%)\n",
       "0                             lakshadweep   84.160000\n",
       "1                                 tripura   80.920000\n",
       "2                                   assam   80.882857\n",
       "3                          andhra pradesh   80.770800\n",
       "4                                  sikkim   79.880000\n",
       "5                             west bengal   79.188095\n",
       "6                              puducherry   78.900000\n",
       "7                       arunachal pradesh   78.455000\n",
       "8                                 manipur   78.030000\n",
       "9                               meghalaya   77.575000\n",
       "10                                    goa   76.080000\n",
       "11                                 odisha   74.510000\n",
       "12                           chhattisgarh   73.105455\n",
       "13                                 ladakh   71.820000\n",
       "14                              karnataka   71.714643\n",
       "15                                 kerala   71.189500\n",
       "16                       himachal pradesh   70.965000\n",
       "17  dadra & nagar haveli and\\ndaman & diu   70.645000\n",
       "18                             tamil nadu   70.035385\n",
       "19                             chandigarh   67.980000\n",
       "20                              telangana   67.662941\n",
       "21                         madhya pradesh   66.970345\n",
       "22                              jharkhand   66.605000\n",
       "23                                haryana   65.019000\n",
       "24              andaman & nicobar islands   64.100000\n",
       "25                                 punjab   62.803846\n",
       "26                            maharashtra   61.460000\n",
       "27                              rajasthan   61.426400\n",
       "28                                gujarat   60.140400\n",
       "29                      jammu and kashmir   58.696000\n",
       "30                           nct of delhi   58.502857\n",
       "31                               nagaland   57.720000\n",
       "32                          uttar pradesh   57.047000\n",
       "33                                mizoram   56.870000\n",
       "34                                  bihar   56.329500\n",
       "35                            uttarakhand   56.184000"
      ]
     },
     "execution_count": 248,
     "metadata": {},
     "output_type": "execute_result"
    }
   ],
   "source": [
    "statewise_polled = merged_data.groupby('State')['Polled (%)'].mean().sort_values(ascending=False).reset_index()\n",
    "statewise_polled"
   ]
  },
  {
   "cell_type": "code",
   "execution_count": 232,
   "id": "fa08bfef-4547-45ec-a48b-93b0f0050b68",
   "metadata": {},
   "outputs": [
    {
     "data": {
      "application/vnd.plotly.v1+json": {
       "config": {
        "plotlyServerURL": "https://plot.ly"
       },
       "data": [
        {
         "alignmentgroup": "True",
         "hovertemplate": "State=%{x}<br>VoteCount(%)=%{y}<extra></extra>",
         "legendgroup": "",
         "marker": {
          "color": "#636efa",
          "pattern": {
           "shape": ""
          }
         },
         "name": "",
         "offsetgroup": "",
         "orientation": "v",
         "showlegend": false,
         "textposition": "auto",
         "type": "bar",
         "x": [
          "andaman & nicobar islands",
          "andhra pradesh",
          "arunachal pradesh",
          "assam",
          "bihar",
          "chandigarh",
          "chhattisgarh",
          "dadra & nagar haveli and\ndaman & diu",
          "goa",
          "gujarat",
          "haryana",
          "himachal pradesh",
          "jammu and kashmir",
          "jharkhand",
          "karnataka",
          "kerala",
          "ladakh",
          "lakshadweep",
          "madhya pradesh",
          "maharashtra",
          "manipur",
          "meghalaya",
          "mizoram",
          "nagaland",
          "nct of delhi",
          "odisha",
          "puducherry",
          "punjab",
          "rajasthan",
          "sikkim",
          "tamil nadu",
          "telangana",
          "tripura",
          "uttar pradesh",
          "uttarakhand",
          "west bengal"
         ],
         "xaxis": "x",
         "y": [
          64.1,
          80.7708,
          78.455,
          80.88285714285713,
          56.329499999999996,
          67.98,
          73.10545454545455,
          70.645,
          76.08,
          60.1404,
          65.019,
          70.965,
          58.696000000000005,
          66.605,
          71.71464285714286,
          71.1895,
          71.82,
          84.16,
          66.97034482758622,
          61.46,
          78.03,
          77.575,
          56.87,
          57.72,
          58.50285714285714,
          74.51,
          78.9,
          62.80384615384616,
          61.4264,
          79.88,
          70.03538461538461,
          67.66294117647058,
          80.92,
          57.047000000000004,
          56.184000000000005,
          79.18809523809524
         ],
         "yaxis": "y"
        }
       ],
       "layout": {
        "barmode": "relative",
        "height": 600,
        "legend": {
         "tracegroupgap": 0
        },
        "template": {
         "data": {
          "bar": [
           {
            "error_x": {
             "color": "#2a3f5f"
            },
            "error_y": {
             "color": "#2a3f5f"
            },
            "marker": {
             "line": {
              "color": "white",
              "width": 0.5
             },
             "pattern": {
              "fillmode": "overlay",
              "size": 10,
              "solidity": 0.2
             }
            },
            "type": "bar"
           }
          ],
          "barpolar": [
           {
            "marker": {
             "line": {
              "color": "white",
              "width": 0.5
             },
             "pattern": {
              "fillmode": "overlay",
              "size": 10,
              "solidity": 0.2
             }
            },
            "type": "barpolar"
           }
          ],
          "carpet": [
           {
            "aaxis": {
             "endlinecolor": "#2a3f5f",
             "gridcolor": "#C8D4E3",
             "linecolor": "#C8D4E3",
             "minorgridcolor": "#C8D4E3",
             "startlinecolor": "#2a3f5f"
            },
            "baxis": {
             "endlinecolor": "#2a3f5f",
             "gridcolor": "#C8D4E3",
             "linecolor": "#C8D4E3",
             "minorgridcolor": "#C8D4E3",
             "startlinecolor": "#2a3f5f"
            },
            "type": "carpet"
           }
          ],
          "choropleth": [
           {
            "colorbar": {
             "outlinewidth": 0,
             "ticks": ""
            },
            "type": "choropleth"
           }
          ],
          "contour": [
           {
            "colorbar": {
             "outlinewidth": 0,
             "ticks": ""
            },
            "colorscale": [
             [
              0,
              "#0d0887"
             ],
             [
              0.1111111111111111,
              "#46039f"
             ],
             [
              0.2222222222222222,
              "#7201a8"
             ],
             [
              0.3333333333333333,
              "#9c179e"
             ],
             [
              0.4444444444444444,
              "#bd3786"
             ],
             [
              0.5555555555555556,
              "#d8576b"
             ],
             [
              0.6666666666666666,
              "#ed7953"
             ],
             [
              0.7777777777777778,
              "#fb9f3a"
             ],
             [
              0.8888888888888888,
              "#fdca26"
             ],
             [
              1,
              "#f0f921"
             ]
            ],
            "type": "contour"
           }
          ],
          "contourcarpet": [
           {
            "colorbar": {
             "outlinewidth": 0,
             "ticks": ""
            },
            "type": "contourcarpet"
           }
          ],
          "heatmap": [
           {
            "colorbar": {
             "outlinewidth": 0,
             "ticks": ""
            },
            "colorscale": [
             [
              0,
              "#0d0887"
             ],
             [
              0.1111111111111111,
              "#46039f"
             ],
             [
              0.2222222222222222,
              "#7201a8"
             ],
             [
              0.3333333333333333,
              "#9c179e"
             ],
             [
              0.4444444444444444,
              "#bd3786"
             ],
             [
              0.5555555555555556,
              "#d8576b"
             ],
             [
              0.6666666666666666,
              "#ed7953"
             ],
             [
              0.7777777777777778,
              "#fb9f3a"
             ],
             [
              0.8888888888888888,
              "#fdca26"
             ],
             [
              1,
              "#f0f921"
             ]
            ],
            "type": "heatmap"
           }
          ],
          "heatmapgl": [
           {
            "colorbar": {
             "outlinewidth": 0,
             "ticks": ""
            },
            "colorscale": [
             [
              0,
              "#0d0887"
             ],
             [
              0.1111111111111111,
              "#46039f"
             ],
             [
              0.2222222222222222,
              "#7201a8"
             ],
             [
              0.3333333333333333,
              "#9c179e"
             ],
             [
              0.4444444444444444,
              "#bd3786"
             ],
             [
              0.5555555555555556,
              "#d8576b"
             ],
             [
              0.6666666666666666,
              "#ed7953"
             ],
             [
              0.7777777777777778,
              "#fb9f3a"
             ],
             [
              0.8888888888888888,
              "#fdca26"
             ],
             [
              1,
              "#f0f921"
             ]
            ],
            "type": "heatmapgl"
           }
          ],
          "histogram": [
           {
            "marker": {
             "pattern": {
              "fillmode": "overlay",
              "size": 10,
              "solidity": 0.2
             }
            },
            "type": "histogram"
           }
          ],
          "histogram2d": [
           {
            "colorbar": {
             "outlinewidth": 0,
             "ticks": ""
            },
            "colorscale": [
             [
              0,
              "#0d0887"
             ],
             [
              0.1111111111111111,
              "#46039f"
             ],
             [
              0.2222222222222222,
              "#7201a8"
             ],
             [
              0.3333333333333333,
              "#9c179e"
             ],
             [
              0.4444444444444444,
              "#bd3786"
             ],
             [
              0.5555555555555556,
              "#d8576b"
             ],
             [
              0.6666666666666666,
              "#ed7953"
             ],
             [
              0.7777777777777778,
              "#fb9f3a"
             ],
             [
              0.8888888888888888,
              "#fdca26"
             ],
             [
              1,
              "#f0f921"
             ]
            ],
            "type": "histogram2d"
           }
          ],
          "histogram2dcontour": [
           {
            "colorbar": {
             "outlinewidth": 0,
             "ticks": ""
            },
            "colorscale": [
             [
              0,
              "#0d0887"
             ],
             [
              0.1111111111111111,
              "#46039f"
             ],
             [
              0.2222222222222222,
              "#7201a8"
             ],
             [
              0.3333333333333333,
              "#9c179e"
             ],
             [
              0.4444444444444444,
              "#bd3786"
             ],
             [
              0.5555555555555556,
              "#d8576b"
             ],
             [
              0.6666666666666666,
              "#ed7953"
             ],
             [
              0.7777777777777778,
              "#fb9f3a"
             ],
             [
              0.8888888888888888,
              "#fdca26"
             ],
             [
              1,
              "#f0f921"
             ]
            ],
            "type": "histogram2dcontour"
           }
          ],
          "mesh3d": [
           {
            "colorbar": {
             "outlinewidth": 0,
             "ticks": ""
            },
            "type": "mesh3d"
           }
          ],
          "parcoords": [
           {
            "line": {
             "colorbar": {
              "outlinewidth": 0,
              "ticks": ""
             }
            },
            "type": "parcoords"
           }
          ],
          "pie": [
           {
            "automargin": true,
            "type": "pie"
           }
          ],
          "scatter": [
           {
            "fillpattern": {
             "fillmode": "overlay",
             "size": 10,
             "solidity": 0.2
            },
            "type": "scatter"
           }
          ],
          "scatter3d": [
           {
            "line": {
             "colorbar": {
              "outlinewidth": 0,
              "ticks": ""
             }
            },
            "marker": {
             "colorbar": {
              "outlinewidth": 0,
              "ticks": ""
             }
            },
            "type": "scatter3d"
           }
          ],
          "scattercarpet": [
           {
            "marker": {
             "colorbar": {
              "outlinewidth": 0,
              "ticks": ""
             }
            },
            "type": "scattercarpet"
           }
          ],
          "scattergeo": [
           {
            "marker": {
             "colorbar": {
              "outlinewidth": 0,
              "ticks": ""
             }
            },
            "type": "scattergeo"
           }
          ],
          "scattergl": [
           {
            "marker": {
             "colorbar": {
              "outlinewidth": 0,
              "ticks": ""
             }
            },
            "type": "scattergl"
           }
          ],
          "scattermapbox": [
           {
            "marker": {
             "colorbar": {
              "outlinewidth": 0,
              "ticks": ""
             }
            },
            "type": "scattermapbox"
           }
          ],
          "scatterpolar": [
           {
            "marker": {
             "colorbar": {
              "outlinewidth": 0,
              "ticks": ""
             }
            },
            "type": "scatterpolar"
           }
          ],
          "scatterpolargl": [
           {
            "marker": {
             "colorbar": {
              "outlinewidth": 0,
              "ticks": ""
             }
            },
            "type": "scatterpolargl"
           }
          ],
          "scatterternary": [
           {
            "marker": {
             "colorbar": {
              "outlinewidth": 0,
              "ticks": ""
             }
            },
            "type": "scatterternary"
           }
          ],
          "surface": [
           {
            "colorbar": {
             "outlinewidth": 0,
             "ticks": ""
            },
            "colorscale": [
             [
              0,
              "#0d0887"
             ],
             [
              0.1111111111111111,
              "#46039f"
             ],
             [
              0.2222222222222222,
              "#7201a8"
             ],
             [
              0.3333333333333333,
              "#9c179e"
             ],
             [
              0.4444444444444444,
              "#bd3786"
             ],
             [
              0.5555555555555556,
              "#d8576b"
             ],
             [
              0.6666666666666666,
              "#ed7953"
             ],
             [
              0.7777777777777778,
              "#fb9f3a"
             ],
             [
              0.8888888888888888,
              "#fdca26"
             ],
             [
              1,
              "#f0f921"
             ]
            ],
            "type": "surface"
           }
          ],
          "table": [
           {
            "cells": {
             "fill": {
              "color": "#EBF0F8"
             },
             "line": {
              "color": "white"
             }
            },
            "header": {
             "fill": {
              "color": "#C8D4E3"
             },
             "line": {
              "color": "white"
             }
            },
            "type": "table"
           }
          ]
         },
         "layout": {
          "annotationdefaults": {
           "arrowcolor": "#2a3f5f",
           "arrowhead": 0,
           "arrowwidth": 1
          },
          "autotypenumbers": "strict",
          "coloraxis": {
           "colorbar": {
            "outlinewidth": 0,
            "ticks": ""
           }
          },
          "colorscale": {
           "diverging": [
            [
             0,
             "#8e0152"
            ],
            [
             0.1,
             "#c51b7d"
            ],
            [
             0.2,
             "#de77ae"
            ],
            [
             0.3,
             "#f1b6da"
            ],
            [
             0.4,
             "#fde0ef"
            ],
            [
             0.5,
             "#f7f7f7"
            ],
            [
             0.6,
             "#e6f5d0"
            ],
            [
             0.7,
             "#b8e186"
            ],
            [
             0.8,
             "#7fbc41"
            ],
            [
             0.9,
             "#4d9221"
            ],
            [
             1,
             "#276419"
            ]
           ],
           "sequential": [
            [
             0,
             "#0d0887"
            ],
            [
             0.1111111111111111,
             "#46039f"
            ],
            [
             0.2222222222222222,
             "#7201a8"
            ],
            [
             0.3333333333333333,
             "#9c179e"
            ],
            [
             0.4444444444444444,
             "#bd3786"
            ],
            [
             0.5555555555555556,
             "#d8576b"
            ],
            [
             0.6666666666666666,
             "#ed7953"
            ],
            [
             0.7777777777777778,
             "#fb9f3a"
            ],
            [
             0.8888888888888888,
             "#fdca26"
            ],
            [
             1,
             "#f0f921"
            ]
           ],
           "sequentialminus": [
            [
             0,
             "#0d0887"
            ],
            [
             0.1111111111111111,
             "#46039f"
            ],
            [
             0.2222222222222222,
             "#7201a8"
            ],
            [
             0.3333333333333333,
             "#9c179e"
            ],
            [
             0.4444444444444444,
             "#bd3786"
            ],
            [
             0.5555555555555556,
             "#d8576b"
            ],
            [
             0.6666666666666666,
             "#ed7953"
            ],
            [
             0.7777777777777778,
             "#fb9f3a"
            ],
            [
             0.8888888888888888,
             "#fdca26"
            ],
            [
             1,
             "#f0f921"
            ]
           ]
          },
          "colorway": [
           "#636efa",
           "#EF553B",
           "#00cc96",
           "#ab63fa",
           "#FFA15A",
           "#19d3f3",
           "#FF6692",
           "#B6E880",
           "#FF97FF",
           "#FECB52"
          ],
          "font": {
           "color": "#2a3f5f"
          },
          "geo": {
           "bgcolor": "white",
           "lakecolor": "white",
           "landcolor": "white",
           "showlakes": true,
           "showland": true,
           "subunitcolor": "#C8D4E3"
          },
          "hoverlabel": {
           "align": "left"
          },
          "hovermode": "closest",
          "mapbox": {
           "style": "light"
          },
          "paper_bgcolor": "white",
          "plot_bgcolor": "white",
          "polar": {
           "angularaxis": {
            "gridcolor": "#EBF0F8",
            "linecolor": "#EBF0F8",
            "ticks": ""
           },
           "bgcolor": "white",
           "radialaxis": {
            "gridcolor": "#EBF0F8",
            "linecolor": "#EBF0F8",
            "ticks": ""
           }
          },
          "scene": {
           "xaxis": {
            "backgroundcolor": "white",
            "gridcolor": "#DFE8F3",
            "gridwidth": 2,
            "linecolor": "#EBF0F8",
            "showbackground": true,
            "ticks": "",
            "zerolinecolor": "#EBF0F8"
           },
           "yaxis": {
            "backgroundcolor": "white",
            "gridcolor": "#DFE8F3",
            "gridwidth": 2,
            "linecolor": "#EBF0F8",
            "showbackground": true,
            "ticks": "",
            "zerolinecolor": "#EBF0F8"
           },
           "zaxis": {
            "backgroundcolor": "white",
            "gridcolor": "#DFE8F3",
            "gridwidth": 2,
            "linecolor": "#EBF0F8",
            "showbackground": true,
            "ticks": "",
            "zerolinecolor": "#EBF0F8"
           }
          },
          "shapedefaults": {
           "line": {
            "color": "#2a3f5f"
           }
          },
          "ternary": {
           "aaxis": {
            "gridcolor": "#DFE8F3",
            "linecolor": "#A2B1C6",
            "ticks": ""
           },
           "baxis": {
            "gridcolor": "#DFE8F3",
            "linecolor": "#A2B1C6",
            "ticks": ""
           },
           "bgcolor": "white",
           "caxis": {
            "gridcolor": "#DFE8F3",
            "linecolor": "#A2B1C6",
            "ticks": ""
           }
          },
          "title": {
           "x": 0.05
          },
          "xaxis": {
           "automargin": true,
           "gridcolor": "#EBF0F8",
           "linecolor": "#EBF0F8",
           "ticks": "",
           "title": {
            "standoff": 15
           },
           "zerolinecolor": "#EBF0F8",
           "zerolinewidth": 2
          },
          "yaxis": {
           "automargin": true,
           "gridcolor": "#EBF0F8",
           "linecolor": "#EBF0F8",
           "ticks": "",
           "title": {
            "standoff": 15
           },
           "zerolinecolor": "#EBF0F8",
           "zerolinewidth": 2
          }
         }
        },
        "title": {
         "text": "Statewise Voting Percentage"
        },
        "width": 1000,
        "xaxis": {
         "anchor": "y",
         "autorange": true,
         "categoryorder": "total descending",
         "domain": [
          0,
          1
         ],
         "range": [
          -0.5,
          35.5
         ],
         "tickangle": -90,
         "title": {
          "text": "State"
         },
         "type": "category"
        },
        "yaxis": {
         "anchor": "x",
         "autorange": true,
         "domain": [
          0,
          1
         ],
         "range": [
          0,
          88.58947368421052
         ],
         "title": {
          "text": "VoteCount(%)"
         },
         "type": "linear"
        }
       }
      },
      "image/png": "[encoded data removed]",
      "text/html": [
       "<div>                            <div id=\"7c1307ec-e839-43e8-8ca3-f8d08e512cdc\" class=\"plotly-graph-div\" style=\"height:600px; width:1000px;\"></div>            <script type=\"text/javascript\">                require([\"plotly\"], function(Plotly) {                    window.PLOTLYENV=window.PLOTLYENV || {};                                    if (document.getElementById(\"7c1307ec-e839-43e8-8ca3-f8d08e512cdc\")) {                    Plotly.newPlot(                        \"7c1307ec-e839-43e8-8ca3-f8d08e512cdc\",                        [{\"alignmentgroup\":\"True\",\"hovertemplate\":\"State=%{x}<br>VoteCount(%)=%{y}<extra></extra>\",\"legendgroup\":\"\",\"marker\":{\"color\":\"#636efa\",\"pattern\":{\"shape\":\"\"}},\"name\":\"\",\"offsetgroup\":\"\",\"orientation\":\"v\",\"showlegend\":false,\"textposition\":\"auto\",\"x\":[\"andaman & nicobar islands\",\"andhra pradesh\",\"arunachal pradesh\",\"assam\",\"bihar\",\"chandigarh\",\"chhattisgarh\",\"dadra & nagar haveli and\\ndaman & diu\",\"goa\",\"gujarat\",\"haryana\",\"himachal pradesh\",\"jammu and kashmir\",\"jharkhand\",\"karnataka\",\"kerala\",\"ladakh\",\"lakshadweep\",\"madhya pradesh\",\"maharashtra\",\"manipur\",\"meghalaya\",\"mizoram\",\"nagaland\",\"nct of delhi\",\"odisha\",\"puducherry\",\"punjab\",\"rajasthan\",\"sikkim\",\"tamil nadu\",\"telangana\",\"tripura\",\"uttar pradesh\",\"uttarakhand\",\"west bengal\"],\"xaxis\":\"x\",\"y\":[64.1,80.7708,78.455,80.88285714285713,56.329499999999996,67.98,73.10545454545455,70.645,76.08,60.1404,65.019,70.965,58.696000000000005,66.605,71.71464285714286,71.1895,71.82,84.16,66.97034482758622,61.46,78.03,77.575,56.87,57.72,58.50285714285714,74.51,78.9,62.80384615384616,61.4264,79.88,70.03538461538461,67.66294117647058,80.92,57.047000000000004,56.184000000000005,79.18809523809524],\"yaxis\":\"y\",\"type\":\"bar\"}],                        {\"template\":{\"data\":{\"histogram2dcontour\":[{\"type\":\"histogram2dcontour\",\"colorbar\":{\"outlinewidth\":0,\"ticks\":\"\"},\"colorscale\":[[0.0,\"#0d0887\"],[0.1111111111111111,\"#46039f\"],[0.2222222222222222,\"#7201a8\"],[0.3333333333333333,\"#9c179e\"],[0.4444444444444444,\"#bd3786\"],[0.5555555555555556,\"#d8576b\"],[0.6666666666666666,\"#ed7953\"],[0.7777777777777778,\"#fb9f3a\"],[0.8888888888888888,\"#fdca26\"],[1.0,\"#f0f921\"]]}],\"choropleth\":[{\"type\":\"choropleth\",\"colorbar\":{\"outlinewidth\":0,\"ticks\":\"\"}}],\"histogram2d\":[{\"type\":\"histogram2d\",\"colorbar\":{\"outlinewidth\":0,\"ticks\":\"\"},\"colorscale\":[[0.0,\"#0d0887\"],[0.1111111111111111,\"#46039f\"],[0.2222222222222222,\"#7201a8\"],[0.3333333333333333,\"#9c179e\"],[0.4444444444444444,\"#bd3786\"],[0.5555555555555556,\"#d8576b\"],[0.6666666666666666,\"#ed7953\"],[0.7777777777777778,\"#fb9f3a\"],[0.8888888888888888,\"#fdca26\"],[1.0,\"#f0f921\"]]}],\"heatmap\":[{\"type\":\"heatmap\",\"colorbar\":{\"outlinewidth\":0,\"ticks\":\"\"},\"colorscale\":[[0.0,\"#0d0887\"],[0.1111111111111111,\"#46039f\"],[0.2222222222222222,\"#7201a8\"],[0.3333333333333333,\"#9c179e\"],[0.4444444444444444,\"#bd3786\"],[0.5555555555555556,\"#d8576b\"],[0.6666666666666666,\"#ed7953\"],[0.7777777777777778,\"#fb9f3a\"],[0.8888888888888888,\"#fdca26\"],[1.0,\"#f0f921\"]]}],\"heatmapgl\":[{\"type\":\"heatmapgl\",\"colorbar\":{\"outlinewidth\":0,\"ticks\":\"\"},\"colorscale\":[[0.0,\"#0d0887\"],[0.1111111111111111,\"#46039f\"],[0.2222222222222222,\"#7201a8\"],[0.3333333333333333,\"#9c179e\"],[0.4444444444444444,\"#bd3786\"],[0.5555555555555556,\"#d8576b\"],[0.6666666666666666,\"#ed7953\"],[0.7777777777777778,\"#fb9f3a\"],[0.8888888888888888,\"#fdca26\"],[1.0,\"#f0f921\"]]}],\"contourcarpet\":[{\"type\":\"contourcarpet\",\"colorbar\":{\"outlinewidth\":0,\"ticks\":\"\"}}],\"contour\":[{\"type\":\"contour\",\"colorbar\":{\"outlinewidth\":0,\"ticks\":\"\"},\"colorscale\":[[0.0,\"#0d0887\"],[0.1111111111111111,\"#46039f\"],[0.2222222222222222,\"#7201a8\"],[0.3333333333333333,\"#9c179e\"],[0.4444444444444444,\"#bd3786\"],[0.5555555555555556,\"#d8576b\"],[0.6666666666666666,\"#ed7953\"],[0.7777777777777778,\"#fb9f3a\"],[0.8888888888888888,\"#fdca26\"],[1.0,\"#f0f921\"]]}],\"surface\":[{\"type\":\"surface\",\"colorbar\":{\"outlinewidth\":0,\"ticks\":\"\"},\"colorscale\":[[0.0,\"#0d0887\"],[0.1111111111111111,\"#46039f\"],[0.2222222222222222,\"#7201a8\"],[0.3333333333333333,\"#9c179e\"],[0.4444444444444444,\"#bd3786\"],[0.5555555555555556,\"#d8576b\"],[0.6666666666666666,\"#ed7953\"],[0.7777777777777778,\"#fb9f3a\"],[0.8888888888888888,\"#fdca26\"],[1.0,\"#f0f921\"]]}],\"mesh3d\":[{\"type\":\"mesh3d\",\"colorbar\":{\"outlinewidth\":0,\"ticks\":\"\"}}],\"scatter\":[{\"fillpattern\":{\"fillmode\":\"overlay\",\"size\":10,\"solidity\":0.2},\"type\":\"scatter\"}],\"parcoords\":[{\"type\":\"parcoords\",\"line\":{\"colorbar\":{\"outlinewidth\":0,\"ticks\":\"\"}}}],\"scatterpolargl\":[{\"type\":\"scatterpolargl\",\"marker\":{\"colorbar\":{\"outlinewidth\":0,\"ticks\":\"\"}}}],\"bar\":[{\"error_x\":{\"color\":\"#2a3f5f\"},\"error_y\":{\"color\":\"#2a3f5f\"},\"marker\":{\"line\":{\"color\":\"white\",\"width\":0.5},\"pattern\":{\"fillmode\":\"overlay\",\"size\":10,\"solidity\":0.2}},\"type\":\"bar\"}],\"scattergeo\":[{\"type\":\"scattergeo\",\"marker\":{\"colorbar\":{\"outlinewidth\":0,\"ticks\":\"\"}}}],\"scatterpolar\":[{\"type\":\"scatterpolar\",\"marker\":{\"colorbar\":{\"outlinewidth\":0,\"ticks\":\"\"}}}],\"histogram\":[{\"marker\":{\"pattern\":{\"fillmode\":\"overlay\",\"size\":10,\"solidity\":0.2}},\"type\":\"histogram\"}],\"scattergl\":[{\"type\":\"scattergl\",\"marker\":{\"colorbar\":{\"outlinewidth\":0,\"ticks\":\"\"}}}],\"scatter3d\":[{\"type\":\"scatter3d\",\"line\":{\"colorbar\":{\"outlinewidth\":0,\"ticks\":\"\"}},\"marker\":{\"colorbar\":{\"outlinewidth\":0,\"ticks\":\"\"}}}],\"scattermapbox\":[{\"type\":\"scattermapbox\",\"marker\":{\"colorbar\":{\"outlinewidth\":0,\"ticks\":\"\"}}}],\"scatterternary\":[{\"type\":\"scatterternary\",\"marker\":{\"colorbar\":{\"outlinewidth\":0,\"ticks\":\"\"}}}],\"scattercarpet\":[{\"type\":\"scattercarpet\",\"marker\":{\"colorbar\":{\"outlinewidth\":0,\"ticks\":\"\"}}}],\"carpet\":[{\"aaxis\":{\"endlinecolor\":\"#2a3f5f\",\"gridcolor\":\"#C8D4E3\",\"linecolor\":\"#C8D4E3\",\"minorgridcolor\":\"#C8D4E3\",\"startlinecolor\":\"#2a3f5f\"},\"baxis\":{\"endlinecolor\":\"#2a3f5f\",\"gridcolor\":\"#C8D4E3\",\"linecolor\":\"#C8D4E3\",\"minorgridcolor\":\"#C8D4E3\",\"startlinecolor\":\"#2a3f5f\"},\"type\":\"carpet\"}],\"table\":[{\"cells\":{\"fill\":{\"color\":\"#EBF0F8\"},\"line\":{\"color\":\"white\"}},\"header\":{\"fill\":{\"color\":\"#C8D4E3\"},\"line\":{\"color\":\"white\"}},\"type\":\"table\"}],\"barpolar\":[{\"marker\":{\"line\":{\"color\":\"white\",\"width\":0.5},\"pattern\":{\"fillmode\":\"overlay\",\"size\":10,\"solidity\":0.2}},\"type\":\"barpolar\"}],\"pie\":[{\"automargin\":true,\"type\":\"pie\"}]},\"layout\":{\"autotypenumbers\":\"strict\",\"colorway\":[\"#636efa\",\"#EF553B\",\"#00cc96\",\"#ab63fa\",\"#FFA15A\",\"#19d3f3\",\"#FF6692\",\"#B6E880\",\"#FF97FF\",\"#FECB52\"],\"font\":{\"color\":\"#2a3f5f\"},\"hovermode\":\"closest\",\"hoverlabel\":{\"align\":\"left\"},\"paper_bgcolor\":\"white\",\"plot_bgcolor\":\"white\",\"polar\":{\"bgcolor\":\"white\",\"angularaxis\":{\"gridcolor\":\"#EBF0F8\",\"linecolor\":\"#EBF0F8\",\"ticks\":\"\"},\"radialaxis\":{\"gridcolor\":\"#EBF0F8\",\"linecolor\":\"#EBF0F8\",\"ticks\":\"\"}},\"ternary\":{\"bgcolor\":\"white\",\"aaxis\":{\"gridcolor\":\"#DFE8F3\",\"linecolor\":\"#A2B1C6\",\"ticks\":\"\"},\"baxis\":{\"gridcolor\":\"#DFE8F3\",\"linecolor\":\"#A2B1C6\",\"ticks\":\"\"},\"caxis\":{\"gridcolor\":\"#DFE8F3\",\"linecolor\":\"#A2B1C6\",\"ticks\":\"\"}},\"coloraxis\":{\"colorbar\":{\"outlinewidth\":0,\"ticks\":\"\"}},\"colorscale\":{\"sequential\":[[0.0,\"#0d0887\"],[0.1111111111111111,\"#46039f\"],[0.2222222222222222,\"#7201a8\"],[0.3333333333333333,\"#9c179e\"],[0.4444444444444444,\"#bd3786\"],[0.5555555555555556,\"#d8576b\"],[0.6666666666666666,\"#ed7953\"],[0.7777777777777778,\"#fb9f3a\"],[0.8888888888888888,\"#fdca26\"],[1.0,\"#f0f921\"]],\"sequentialminus\":[[0.0,\"#0d0887\"],[0.1111111111111111,\"#46039f\"],[0.2222222222222222,\"#7201a8\"],[0.3333333333333333,\"#9c179e\"],[0.4444444444444444,\"#bd3786\"],[0.5555555555555556,\"#d8576b\"],[0.6666666666666666,\"#ed7953\"],[0.7777777777777778,\"#fb9f3a\"],[0.8888888888888888,\"#fdca26\"],[1.0,\"#f0f921\"]],\"diverging\":[[0,\"#8e0152\"],[0.1,\"#c51b7d\"],[0.2,\"#de77ae\"],[0.3,\"#f1b6da\"],[0.4,\"#fde0ef\"],[0.5,\"#f7f7f7\"],[0.6,\"#e6f5d0\"],[0.7,\"#b8e186\"],[0.8,\"#7fbc41\"],[0.9,\"#4d9221\"],[1,\"#276419\"]]},\"xaxis\":{\"gridcolor\":\"#EBF0F8\",\"linecolor\":\"#EBF0F8\",\"ticks\":\"\",\"title\":{\"standoff\":15},\"zerolinecolor\":\"#EBF0F8\",\"automargin\":true,\"zerolinewidth\":2},\"yaxis\":{\"gridcolor\":\"#EBF0F8\",\"linecolor\":\"#EBF0F8\",\"ticks\":\"\",\"title\":{\"standoff\":15},\"zerolinecolor\":\"#EBF0F8\",\"automargin\":true,\"zerolinewidth\":2},\"scene\":{\"xaxis\":{\"backgroundcolor\":\"white\",\"gridcolor\":\"#DFE8F3\",\"linecolor\":\"#EBF0F8\",\"showbackground\":true,\"ticks\":\"\",\"zerolinecolor\":\"#EBF0F8\",\"gridwidth\":2},\"yaxis\":{\"backgroundcolor\":\"white\",\"gridcolor\":\"#DFE8F3\",\"linecolor\":\"#EBF0F8\",\"showbackground\":true,\"ticks\":\"\",\"zerolinecolor\":\"#EBF0F8\",\"gridwidth\":2},\"zaxis\":{\"backgroundcolor\":\"white\",\"gridcolor\":\"#DFE8F3\",\"linecolor\":\"#EBF0F8\",\"showbackground\":true,\"ticks\":\"\",\"zerolinecolor\":\"#EBF0F8\",\"gridwidth\":2}},\"shapedefaults\":{\"line\":{\"color\":\"#2a3f5f\"}},\"annotationdefaults\":{\"arrowcolor\":\"#2a3f5f\",\"arrowhead\":0,\"arrowwidth\":1},\"geo\":{\"bgcolor\":\"white\",\"landcolor\":\"white\",\"subunitcolor\":\"#C8D4E3\",\"showland\":true,\"showlakes\":true,\"lakecolor\":\"white\"},\"title\":{\"x\":0.05},\"mapbox\":{\"style\":\"light\"}}},\"xaxis\":{\"anchor\":\"y\",\"domain\":[0.0,1.0],\"title\":{\"text\":\"State\"},\"categoryorder\":\"total descending\",\"tickangle\":-90},\"yaxis\":{\"anchor\":\"x\",\"domain\":[0.0,1.0],\"title\":{\"text\":\"VoteCount(%)\"}},\"legend\":{\"tracegroupgap\":0},\"title\":{\"text\":\"Statewise Voting Percentage\"},\"barmode\":\"relative\",\"width\":1000,\"height\":600},                        {\"responsive\": true}                    ).then(function(){\n",
       "                            \n",
       "var gd = document.getElementById('7c1307ec-e839-43e8-8ca3-f8d08e512cdc');\n",
       "var x = new MutationObserver(function (mutations, observer) {{\n",
       "        var display = window.getComputedStyle(gd).display;\n",
       "        if (!display || display === 'none') {{\n",
       "            console.log([gd, 'removed!']);\n",
       "            Plotly.purge(gd);\n",
       "            observer.disconnect();\n",
       "        }}\n",
       "}});\n",
       "\n",
       "// Listen for the removal of the full notebook cells\n",
       "var notebookContainer = gd.closest('#notebook-container');\n",
       "if (notebookContainer) {{\n",
       "    x.observe(notebookContainer, {childList: true});\n",
       "}}\n",
       "\n",
       "// Listen for the clearing of the current output cell\n",
       "var outputEl = gd.closest('.output');\n",
       "if (outputEl) {{\n",
       "    x.observe(outputEl, {childList: true});\n",
       "}}\n",
       "\n",
       "                        })                };                });            </script>        </div>"
      ]
     },
     "metadata": {},
     "output_type": "display_data"
    }
   ],
   "source": [
    "Polledfig = px.bar(statewise_polled, x='State', y='Polled (%)',\n",
    "                  labels = {'Polled (%)': 'VoteCount(%)'},\n",
    "                  title='Statewise Voting Percentage'\n",
    "                  )\n",
    "Polledfig.update_layout(xaxis={'categoryorder': 'total descending'},\n",
    "                  xaxis_tickangle=-90,\n",
    "                  width=1000,\n",
    "                  height=600)\n",
    "\n",
    "Polledfig.show()"
   ]
  },
  {
   "cell_type": "markdown",
   "id": "ae690f9e-add1-41ca-b30b-b408828061e3",
   "metadata": {},
   "source": [
    "### The top 5 parties by ad spend:"
   ]
  },
  {
   "cell_type": "code",
   "execution_count": 253,
   "id": "a722f1cf-f53c-40f9-bcf8-9f9fdf96f4cd",
   "metadata": {},
   "outputs": [
    {
     "data": {
      "text/html": [
       "<div>\n",
       "<style scoped>\n",
       "    .dataframe tbody tr th:only-of-type {\n",
       "        vertical-align: middle;\n",
       "    }\n",
       "\n",
       "    .dataframe tbody tr th {\n",
       "        vertical-align: top;\n",
       "    }\n",
       "\n",
       "    .dataframe thead th {\n",
       "        text-align: right;\n",
       "    }\n",
       "</style>\n",
       "<table border=\"1\" class=\"dataframe\">\n",
       "  <thead>\n",
       "    <tr style=\"text-align: right;\">\n",
       "      <th></th>\n",
       "      <th>Page ID</th>\n",
       "      <th>Page name</th>\n",
       "      <th>Disclaimer</th>\n",
       "      <th>Amount spent (INR)</th>\n",
       "      <th>Number of ads in Library</th>\n",
       "    </tr>\n",
       "  </thead>\n",
       "  <tbody>\n",
       "    <tr>\n",
       "      <th>0</th>\n",
       "      <td>121439954563203</td>\n",
       "      <td>Bharatiya Janata Party (BJP)</td>\n",
       "      <td>Bharatiya Janata Party (BJP)</td>\n",
       "      <td>193854342</td>\n",
       "      <td>43455</td>\n",
       "    </tr>\n",
       "    <tr>\n",
       "      <th>1</th>\n",
       "      <td>351616078284404</td>\n",
       "      <td>Indian National Congress</td>\n",
       "      <td>Indian National Congress</td>\n",
       "      <td>108787100</td>\n",
       "      <td>846</td>\n",
       "    </tr>\n",
       "    <tr>\n",
       "      <th>2</th>\n",
       "      <td>132715103269897</td>\n",
       "      <td>Ama Chinha Sankha Chinha</td>\n",
       "      <td>Ama Chinha Sankha Chinha</td>\n",
       "      <td>73361399</td>\n",
       "      <td>1799</td>\n",
       "    </tr>\n",
       "    <tr>\n",
       "      <th>3</th>\n",
       "      <td>192856493908290</td>\n",
       "      <td>Ama Chinha Sankha Chinha</td>\n",
       "      <td>Ama Chinha Sankha Chinha</td>\n",
       "      <td>32294327</td>\n",
       "      <td>680</td>\n",
       "    </tr>\n",
       "    <tr>\n",
       "      <th>4</th>\n",
       "      <td>109470364774303</td>\n",
       "      <td>Ellorum Nammudan</td>\n",
       "      <td>Populus Empowerment Network Private Limited</td>\n",
       "      <td>22399499</td>\n",
       "      <td>879</td>\n",
       "    </tr>\n",
       "    <tr>\n",
       "      <th>...</th>\n",
       "      <td>...</td>\n",
       "      <td>...</td>\n",
       "      <td>...</td>\n",
       "      <td>...</td>\n",
       "      <td>...</td>\n",
       "    </tr>\n",
       "    <tr>\n",
       "      <th>20827</th>\n",
       "      <td>104633268709556</td>\n",
       "      <td>If You Don't Bark</td>\n",
       "      <td>These ads ran without a disclaimer</td>\n",
       "      <td>≤100</td>\n",
       "      <td>2</td>\n",
       "    </tr>\n",
       "    <tr>\n",
       "      <th>20828</th>\n",
       "      <td>118271861357765</td>\n",
       "      <td>Story time</td>\n",
       "      <td>These ads ran without a disclaimer</td>\n",
       "      <td>≤100</td>\n",
       "      <td>1</td>\n",
       "    </tr>\n",
       "    <tr>\n",
       "      <th>20829</th>\n",
       "      <td>218017134738366</td>\n",
       "      <td>know_sacred_wisdom</td>\n",
       "      <td>These ads ran without a disclaimer</td>\n",
       "      <td>≤100</td>\n",
       "      <td>1</td>\n",
       "    </tr>\n",
       "    <tr>\n",
       "      <th>20830</th>\n",
       "      <td>270489126793</td>\n",
       "      <td>Energy Globe Award</td>\n",
       "      <td>These ads ran without a disclaimer</td>\n",
       "      <td>≤100</td>\n",
       "      <td>1</td>\n",
       "    </tr>\n",
       "    <tr>\n",
       "      <th>20831</th>\n",
       "      <td>114025938452734</td>\n",
       "      <td>FactFusion</td>\n",
       "      <td>These ads ran without a disclaimer</td>\n",
       "      <td>≤100</td>\n",
       "      <td>1</td>\n",
       "    </tr>\n",
       "  </tbody>\n",
       "</table>\n",
       "<p>20832 rows × 5 columns</p>\n",
       "</div>"
      ],
      "text/plain": [
       "               Page ID                     Page name  \\\n",
       "0      121439954563203  Bharatiya Janata Party (BJP)   \n",
       "1      351616078284404      Indian National Congress   \n",
       "2      132715103269897      Ama Chinha Sankha Chinha   \n",
       "3      192856493908290      Ama Chinha Sankha Chinha   \n",
       "4      109470364774303              Ellorum Nammudan   \n",
       "...                ...                           ...   \n",
       "20827  104633268709556             If You Don't Bark   \n",
       "20828  118271861357765                    Story time   \n",
       "20829  218017134738366            know_sacred_wisdom   \n",
       "20830     270489126793            Energy Globe Award   \n",
       "20831  114025938452734                    FactFusion   \n",
       "\n",
       "                                        Disclaimer Amount spent (INR)  \\\n",
       "0                     Bharatiya Janata Party (BJP)          193854342   \n",
       "1                         Indian National Congress          108787100   \n",
       "2                         Ama Chinha Sankha Chinha           73361399   \n",
       "3                         Ama Chinha Sankha Chinha           32294327   \n",
       "4      Populus Empowerment Network Private Limited           22399499   \n",
       "...                                            ...                ...   \n",
       "20827           These ads ran without a disclaimer               ≤100   \n",
       "20828           These ads ran without a disclaimer               ≤100   \n",
       "20829           These ads ran without a disclaimer               ≤100   \n",
       "20830           These ads ran without a disclaimer               ≤100   \n",
       "20831           These ads ran without a disclaimer               ≤100   \n",
       "\n",
       "       Number of ads in Library  \n",
       "0                         43455  \n",
       "1                           846  \n",
       "2                          1799  \n",
       "3                           680  \n",
       "4                           879  \n",
       "...                         ...  \n",
       "20827                         2  \n",
       "20828                         1  \n",
       "20829                         1  \n",
       "20830                         1  \n",
       "20831                         1  \n",
       "\n",
       "[20832 rows x 5 columns]"
      ]
     },
     "execution_count": 253,
     "metadata": {},
     "output_type": "execute_result"
    }
   ],
   "source": [
    "advertisers"
   ]
  },
  {
   "cell_type": "code",
   "execution_count": 281,
   "id": "66199539-1b2b-4957-8f8b-ebfca55d96a4",
   "metadata": {},
   "outputs": [
    {
     "data": {
      "text/html": [
       "<div>\n",
       "<style scoped>\n",
       "    .dataframe tbody tr th:only-of-type {\n",
       "        vertical-align: middle;\n",
       "    }\n",
       "\n",
       "    .dataframe tbody tr th {\n",
       "        vertical-align: top;\n",
       "    }\n",
       "\n",
       "    .dataframe thead th {\n",
       "        text-align: right;\n",
       "    }\n",
       "</style>\n",
       "<table border=\"1\" class=\"dataframe\">\n",
       "  <thead>\n",
       "    <tr style=\"text-align: right;\">\n",
       "      <th></th>\n",
       "      <th>Page ID</th>\n",
       "      <th>Page name</th>\n",
       "      <th>Disclaimer</th>\n",
       "      <th>Amount spent (INR)</th>\n",
       "      <th>Number of ads in Library</th>\n",
       "    </tr>\n",
       "  </thead>\n",
       "  <tbody>\n",
       "    <tr>\n",
       "      <th>0</th>\n",
       "      <td>121439954563203</td>\n",
       "      <td>Bharatiya Janata Party (BJP)</td>\n",
       "      <td>Bharatiya Janata Party (BJP)</td>\n",
       "      <td>193854342.0</td>\n",
       "      <td>43455</td>\n",
       "    </tr>\n",
       "    <tr>\n",
       "      <th>1</th>\n",
       "      <td>351616078284404</td>\n",
       "      <td>Indian National Congress</td>\n",
       "      <td>Indian National Congress</td>\n",
       "      <td>108787100.0</td>\n",
       "      <td>846</td>\n",
       "    </tr>\n",
       "    <tr>\n",
       "      <th>2</th>\n",
       "      <td>132715103269897</td>\n",
       "      <td>Ama Chinha Sankha Chinha</td>\n",
       "      <td>Ama Chinha Sankha Chinha</td>\n",
       "      <td>73361399.0</td>\n",
       "      <td>1799</td>\n",
       "    </tr>\n",
       "    <tr>\n",
       "      <th>3</th>\n",
       "      <td>192856493908290</td>\n",
       "      <td>Ama Chinha Sankha Chinha</td>\n",
       "      <td>Ama Chinha Sankha Chinha</td>\n",
       "      <td>32294327.0</td>\n",
       "      <td>680</td>\n",
       "    </tr>\n",
       "    <tr>\n",
       "      <th>4</th>\n",
       "      <td>109470364774303</td>\n",
       "      <td>Ellorum Nammudan</td>\n",
       "      <td>Populus Empowerment Network Private Limited</td>\n",
       "      <td>22399499.0</td>\n",
       "      <td>879</td>\n",
       "    </tr>\n",
       "    <tr>\n",
       "      <th>...</th>\n",
       "      <td>...</td>\n",
       "      <td>...</td>\n",
       "      <td>...</td>\n",
       "      <td>...</td>\n",
       "      <td>...</td>\n",
       "    </tr>\n",
       "    <tr>\n",
       "      <th>12267</th>\n",
       "      <td>271345446057081</td>\n",
       "      <td>pen pencil ka job Ghar Baithe kar sakte ho 150...</td>\n",
       "      <td>These ads ran without a disclaimer</td>\n",
       "      <td>101.0</td>\n",
       "      <td>2</td>\n",
       "    </tr>\n",
       "    <tr>\n",
       "      <th>12268</th>\n",
       "      <td>171491159388294</td>\n",
       "      <td>drpriyankatulla</td>\n",
       "      <td>These ads ran without a disclaimer</td>\n",
       "      <td>101.0</td>\n",
       "      <td>1</td>\n",
       "    </tr>\n",
       "    <tr>\n",
       "      <th>12269</th>\n",
       "      <td>215226828333240</td>\n",
       "      <td>Old coin selling company in Mumbai India</td>\n",
       "      <td>These ads ran without a disclaimer</td>\n",
       "      <td>101.0</td>\n",
       "      <td>1</td>\n",
       "    </tr>\n",
       "    <tr>\n",
       "      <th>12270</th>\n",
       "      <td>121081480930086</td>\n",
       "      <td>RAHUL KUMAR SINGH</td>\n",
       "      <td>Faltech Services Private Limited</td>\n",
       "      <td>101.0</td>\n",
       "      <td>1</td>\n",
       "    </tr>\n",
       "    <tr>\n",
       "      <th>12271</th>\n",
       "      <td>136841126190077</td>\n",
       "      <td>nihitsirpolity</td>\n",
       "      <td>These ads ran without a disclaimer</td>\n",
       "      <td>101.0</td>\n",
       "      <td>1</td>\n",
       "    </tr>\n",
       "  </tbody>\n",
       "</table>\n",
       "<p>12272 rows × 5 columns</p>\n",
       "</div>"
      ],
      "text/plain": [
       "               Page ID                                          Page name  \\\n",
       "0      121439954563203                       Bharatiya Janata Party (BJP)   \n",
       "1      351616078284404                           Indian National Congress   \n",
       "2      132715103269897                           Ama Chinha Sankha Chinha   \n",
       "3      192856493908290                           Ama Chinha Sankha Chinha   \n",
       "4      109470364774303                                   Ellorum Nammudan   \n",
       "...                ...                                                ...   \n",
       "12267  271345446057081  pen pencil ka job Ghar Baithe kar sakte ho 150...   \n",
       "12268  171491159388294                                    drpriyankatulla   \n",
       "12269  215226828333240           Old coin selling company in Mumbai India   \n",
       "12270  121081480930086                                  RAHUL KUMAR SINGH   \n",
       "12271  136841126190077                                     nihitsirpolity   \n",
       "\n",
       "                                        Disclaimer  Amount spent (INR)  \\\n",
       "0                     Bharatiya Janata Party (BJP)         193854342.0   \n",
       "1                         Indian National Congress         108787100.0   \n",
       "2                         Ama Chinha Sankha Chinha          73361399.0   \n",
       "3                         Ama Chinha Sankha Chinha          32294327.0   \n",
       "4      Populus Empowerment Network Private Limited          22399499.0   \n",
       "...                                            ...                 ...   \n",
       "12267           These ads ran without a disclaimer               101.0   \n",
       "12268           These ads ran without a disclaimer               101.0   \n",
       "12269           These ads ran without a disclaimer               101.0   \n",
       "12270             Faltech Services Private Limited               101.0   \n",
       "12271           These ads ran without a disclaimer               101.0   \n",
       "\n",
       "       Number of ads in Library  \n",
       "0                         43455  \n",
       "1                           846  \n",
       "2                          1799  \n",
       "3                           680  \n",
       "4                           879  \n",
       "...                         ...  \n",
       "12267                         2  \n",
       "12268                         1  \n",
       "12269                         1  \n",
       "12270                         1  \n",
       "12271                         1  \n",
       "\n",
       "[12272 rows x 5 columns]"
      ]
     },
     "execution_count": 281,
     "metadata": {},
     "output_type": "execute_result"
    }
   ],
   "source": [
    "advertisers['Amount spent (INR)'] = pd.to_numeric(advertisers['Amount spent (INR)'], errors='coerce')\n",
    "advertisers.dropna(subset=['Amount spent (INR)'], inplace=True)\n",
    "\n",
    "advertisers"
   ]
  },
  {
   "cell_type": "code",
   "execution_count": 294,
   "id": "43f515da-5fdb-4612-a28a-c4a6688f53bf",
   "metadata": {},
   "outputs": [],
   "source": [
    "party_ad_spend = advertisers.groupby('Page name')['Amount spent (INR)'].sum().sort_values(ascending=False)\n",
    "top_5_parties = party_ad_spend.head(5).reset_index()"
   ]
  },
  {
   "cell_type": "code",
   "execution_count": 338,
   "id": "e93fb683-d1cf-435a-a1ee-1a24f0373a8a",
   "metadata": {},
   "outputs": [
    {
     "data": {
      "application/vnd.plotly.v1+json": {
       "config": {
        "plotlyServerURL": "https://plot.ly"
       },
       "data": [
        {
         "domain": {
          "x": [
           0,
           1
          ],
          "y": [
           0,
           1
          ]
         },
         "hovertemplate": "Political Party=%{label}<br>Ad Spend (INR)=%{value}<extra></extra>",
         "labels": [
          "Bharatiya Janata Party (BJP)",
          "Ama Chinha Sankha Chinha",
          "Indian National Congress",
          "Ellorum Nammudan",
          "BJP Odisha"
         ],
         "legendgroup": "",
         "name": "",
         "showlegend": true,
         "textinfo": "percent",
         "type": "pie",
         "values": [
          193854342,
          112412941,
          108787100,
          23806041,
          19573782
         ]
        }
       ],
       "layout": {
        "autosize": true,
        "legend": {
         "orientation": "v",
         "tracegroupgap": 0,
         "x": -0.3,
         "xanchor": "left",
         "y": 1,
         "yanchor": "top"
        },
        "margin": {
         "b": 50,
         "l": 200,
         "r": 50,
         "t": 100
        },
        "showlegend": true,
        "template": {
         "data": {
          "bar": [
           {
            "error_x": {
             "color": "#2a3f5f"
            },
            "error_y": {
             "color": "#2a3f5f"
            },
            "marker": {
             "line": {
              "color": "white",
              "width": 0.5
             },
             "pattern": {
              "fillmode": "overlay",
              "size": 10,
              "solidity": 0.2
             }
            },
            "type": "bar"
           }
          ],
          "barpolar": [
           {
            "marker": {
             "line": {
              "color": "white",
              "width": 0.5
             },
             "pattern": {
              "fillmode": "overlay",
              "size": 10,
              "solidity": 0.2
             }
            },
            "type": "barpolar"
           }
          ],
          "carpet": [
           {
            "aaxis": {
             "endlinecolor": "#2a3f5f",
             "gridcolor": "#C8D4E3",
             "linecolor": "#C8D4E3",
             "minorgridcolor": "#C8D4E3",
             "startlinecolor": "#2a3f5f"
            },
            "baxis": {
             "endlinecolor": "#2a3f5f",
             "gridcolor": "#C8D4E3",
             "linecolor": "#C8D4E3",
             "minorgridcolor": "#C8D4E3",
             "startlinecolor": "#2a3f5f"
            },
            "type": "carpet"
           }
          ],
          "choropleth": [
           {
            "colorbar": {
             "outlinewidth": 0,
             "ticks": ""
            },
            "type": "choropleth"
           }
          ],
          "contour": [
           {
            "colorbar": {
             "outlinewidth": 0,
             "ticks": ""
            },
            "colorscale": [
             [
              0,
              "#0d0887"
             ],
             [
              0.1111111111111111,
              "#46039f"
             ],
             [
              0.2222222222222222,
              "#7201a8"
             ],
             [
              0.3333333333333333,
              "#9c179e"
             ],
             [
              0.4444444444444444,
              "#bd3786"
             ],
             [
              0.5555555555555556,
              "#d8576b"
             ],
             [
              0.6666666666666666,
              "#ed7953"
             ],
             [
              0.7777777777777778,
              "#fb9f3a"
             ],
             [
              0.8888888888888888,
              "#fdca26"
             ],
             [
              1,
              "#f0f921"
             ]
            ],
            "type": "contour"
           }
          ],
          "contourcarpet": [
           {
            "colorbar": {
             "outlinewidth": 0,
             "ticks": ""
            },
            "type": "contourcarpet"
           }
          ],
          "heatmap": [
           {
            "colorbar": {
             "outlinewidth": 0,
             "ticks": ""
            },
            "colorscale": [
             [
              0,
              "#0d0887"
             ],
             [
              0.1111111111111111,
              "#46039f"
             ],
             [
              0.2222222222222222,
              "#7201a8"
             ],
             [
              0.3333333333333333,
              "#9c179e"
             ],
             [
              0.4444444444444444,
              "#bd3786"
             ],
             [
              0.5555555555555556,
              "#d8576b"
             ],
             [
              0.6666666666666666,
              "#ed7953"
             ],
             [
              0.7777777777777778,
              "#fb9f3a"
             ],
             [
              0.8888888888888888,
              "#fdca26"
             ],
             [
              1,
              "#f0f921"
             ]
            ],
            "type": "heatmap"
           }
          ],
          "heatmapgl": [
           {
            "colorbar": {
             "outlinewidth": 0,
             "ticks": ""
            },
            "colorscale": [
             [
              0,
              "#0d0887"
             ],
             [
              0.1111111111111111,
              "#46039f"
             ],
             [
              0.2222222222222222,
              "#7201a8"
             ],
             [
              0.3333333333333333,
              "#9c179e"
             ],
             [
              0.4444444444444444,
              "#bd3786"
             ],
             [
              0.5555555555555556,
              "#d8576b"
             ],
             [
              0.6666666666666666,
              "#ed7953"
             ],
             [
              0.7777777777777778,
              "#fb9f3a"
             ],
             [
              0.8888888888888888,
              "#fdca26"
             ],
             [
              1,
              "#f0f921"
             ]
            ],
            "type": "heatmapgl"
           }
          ],
          "histogram": [
           {
            "marker": {
             "pattern": {
              "fillmode": "overlay",
              "size": 10,
              "solidity": 0.2
             }
            },
            "type": "histogram"
           }
          ],
          "histogram2d": [
           {
            "colorbar": {
             "outlinewidth": 0,
             "ticks": ""
            },
            "colorscale": [
             [
              0,
              "#0d0887"
             ],
             [
              0.1111111111111111,
              "#46039f"
             ],
             [
              0.2222222222222222,
              "#7201a8"
             ],
             [
              0.3333333333333333,
              "#9c179e"
             ],
             [
              0.4444444444444444,
              "#bd3786"
             ],
             [
              0.5555555555555556,
              "#d8576b"
             ],
             [
              0.6666666666666666,
              "#ed7953"
             ],
             [
              0.7777777777777778,
              "#fb9f3a"
             ],
             [
              0.8888888888888888,
              "#fdca26"
             ],
             [
              1,
              "#f0f921"
             ]
            ],
            "type": "histogram2d"
           }
          ],
          "histogram2dcontour": [
           {
            "colorbar": {
             "outlinewidth": 0,
             "ticks": ""
            },
            "colorscale": [
             [
              0,
              "#0d0887"
             ],
             [
              0.1111111111111111,
              "#46039f"
             ],
             [
              0.2222222222222222,
              "#7201a8"
             ],
             [
              0.3333333333333333,
              "#9c179e"
             ],
             [
              0.4444444444444444,
              "#bd3786"
             ],
             [
              0.5555555555555556,
              "#d8576b"
             ],
             [
              0.6666666666666666,
              "#ed7953"
             ],
             [
              0.7777777777777778,
              "#fb9f3a"
             ],
             [
              0.8888888888888888,
              "#fdca26"
             ],
             [
              1,
              "#f0f921"
             ]
            ],
            "type": "histogram2dcontour"
           }
          ],
          "mesh3d": [
           {
            "colorbar": {
             "outlinewidth": 0,
             "ticks": ""
            },
            "type": "mesh3d"
           }
          ],
          "parcoords": [
           {
            "line": {
             "colorbar": {
              "outlinewidth": 0,
              "ticks": ""
             }
            },
            "type": "parcoords"
           }
          ],
          "pie": [
           {
            "automargin": true,
            "type": "pie"
           }
          ],
          "scatter": [
           {
            "fillpattern": {
             "fillmode": "overlay",
             "size": 10,
             "solidity": 0.2
            },
            "type": "scatter"
           }
          ],
          "scatter3d": [
           {
            "line": {
             "colorbar": {
              "outlinewidth": 0,
              "ticks": ""
             }
            },
            "marker": {
             "colorbar": {
              "outlinewidth": 0,
              "ticks": ""
             }
            },
            "type": "scatter3d"
           }
          ],
          "scattercarpet": [
           {
            "marker": {
             "colorbar": {
              "outlinewidth": 0,
              "ticks": ""
             }
            },
            "type": "scattercarpet"
           }
          ],
          "scattergeo": [
           {
            "marker": {
             "colorbar": {
              "outlinewidth": 0,
              "ticks": ""
             }
            },
            "type": "scattergeo"
           }
          ],
          "scattergl": [
           {
            "marker": {
             "colorbar": {
              "outlinewidth": 0,
              "ticks": ""
             }
            },
            "type": "scattergl"
           }
          ],
          "scattermapbox": [
           {
            "marker": {
             "colorbar": {
              "outlinewidth": 0,
              "ticks": ""
             }
            },
            "type": "scattermapbox"
           }
          ],
          "scatterpolar": [
           {
            "marker": {
             "colorbar": {
              "outlinewidth": 0,
              "ticks": ""
             }
            },
            "type": "scatterpolar"
           }
          ],
          "scatterpolargl": [
           {
            "marker": {
             "colorbar": {
              "outlinewidth": 0,
              "ticks": ""
             }
            },
            "type": "scatterpolargl"
           }
          ],
          "scatterternary": [
           {
            "marker": {
             "colorbar": {
              "outlinewidth": 0,
              "ticks": ""
             }
            },
            "type": "scatterternary"
           }
          ],
          "surface": [
           {
            "colorbar": {
             "outlinewidth": 0,
             "ticks": ""
            },
            "colorscale": [
             [
              0,
              "#0d0887"
             ],
             [
              0.1111111111111111,
              "#46039f"
             ],
             [
              0.2222222222222222,
              "#7201a8"
             ],
             [
              0.3333333333333333,
              "#9c179e"
             ],
             [
              0.4444444444444444,
              "#bd3786"
             ],
             [
              0.5555555555555556,
              "#d8576b"
             ],
             [
              0.6666666666666666,
              "#ed7953"
             ],
             [
              0.7777777777777778,
              "#fb9f3a"
             ],
             [
              0.8888888888888888,
              "#fdca26"
             ],
             [
              1,
              "#f0f921"
             ]
            ],
            "type": "surface"
           }
          ],
          "table": [
           {
            "cells": {
             "fill": {
              "color": "#EBF0F8"
             },
             "line": {
              "color": "white"
             }
            },
            "header": {
             "fill": {
              "color": "#C8D4E3"
             },
             "line": {
              "color": "white"
             }
            },
            "type": "table"
           }
          ]
         },
         "layout": {
          "annotationdefaults": {
           "arrowcolor": "#2a3f5f",
           "arrowhead": 0,
           "arrowwidth": 1
          },
          "autotypenumbers": "strict",
          "coloraxis": {
           "colorbar": {
            "outlinewidth": 0,
            "ticks": ""
           }
          },
          "colorscale": {
           "diverging": [
            [
             0,
             "#8e0152"
            ],
            [
             0.1,
             "#c51b7d"
            ],
            [
             0.2,
             "#de77ae"
            ],
            [
             0.3,
             "#f1b6da"
            ],
            [
             0.4,
             "#fde0ef"
            ],
            [
             0.5,
             "#f7f7f7"
            ],
            [
             0.6,
             "#e6f5d0"
            ],
            [
             0.7,
             "#b8e186"
            ],
            [
             0.8,
             "#7fbc41"
            ],
            [
             0.9,
             "#4d9221"
            ],
            [
             1,
             "#276419"
            ]
           ],
           "sequential": [
            [
             0,
             "#0d0887"
            ],
            [
             0.1111111111111111,
             "#46039f"
            ],
            [
             0.2222222222222222,
             "#7201a8"
            ],
            [
             0.3333333333333333,
             "#9c179e"
            ],
            [
             0.4444444444444444,
             "#bd3786"
            ],
            [
             0.5555555555555556,
             "#d8576b"
            ],
            [
             0.6666666666666666,
             "#ed7953"
            ],
            [
             0.7777777777777778,
             "#fb9f3a"
            ],
            [
             0.8888888888888888,
             "#fdca26"
            ],
            [
             1,
             "#f0f921"
            ]
           ],
           "sequentialminus": [
            [
             0,
             "#0d0887"
            ],
            [
             0.1111111111111111,
             "#46039f"
            ],
            [
             0.2222222222222222,
             "#7201a8"
            ],
            [
             0.3333333333333333,
             "#9c179e"
            ],
            [
             0.4444444444444444,
             "#bd3786"
            ],
            [
             0.5555555555555556,
             "#d8576b"
            ],
            [
             0.6666666666666666,
             "#ed7953"
            ],
            [
             0.7777777777777778,
             "#fb9f3a"
            ],
            [
             0.8888888888888888,
             "#fdca26"
            ],
            [
             1,
             "#f0f921"
            ]
           ]
          },
          "colorway": [
           "#636efa",
           "#EF553B",
           "#00cc96",
           "#ab63fa",
           "#FFA15A",
           "#19d3f3",
           "#FF6692",
           "#B6E880",
           "#FF97FF",
           "#FECB52"
          ],
          "font": {
           "color": "#2a3f5f"
          },
          "geo": {
           "bgcolor": "white",
           "lakecolor": "white",
           "landcolor": "white",
           "showlakes": true,
           "showland": true,
           "subunitcolor": "#C8D4E3"
          },
          "hoverlabel": {
           "align": "left"
          },
          "hovermode": "closest",
          "mapbox": {
           "style": "light"
          },
          "paper_bgcolor": "white",
          "plot_bgcolor": "white",
          "polar": {
           "angularaxis": {
            "gridcolor": "#EBF0F8",
            "linecolor": "#EBF0F8",
            "ticks": ""
           },
           "bgcolor": "white",
           "radialaxis": {
            "gridcolor": "#EBF0F8",
            "linecolor": "#EBF0F8",
            "ticks": ""
           }
          },
          "scene": {
           "xaxis": {
            "backgroundcolor": "white",
            "gridcolor": "#DFE8F3",
            "gridwidth": 2,
            "linecolor": "#EBF0F8",
            "showbackground": true,
            "ticks": "",
            "zerolinecolor": "#EBF0F8"
           },
           "yaxis": {
            "backgroundcolor": "white",
            "gridcolor": "#DFE8F3",
            "gridwidth": 2,
            "linecolor": "#EBF0F8",
            "showbackground": true,
            "ticks": "",
            "zerolinecolor": "#EBF0F8"
           },
           "zaxis": {
            "backgroundcolor": "white",
            "gridcolor": "#DFE8F3",
            "gridwidth": 2,
            "linecolor": "#EBF0F8",
            "showbackground": true,
            "ticks": "",
            "zerolinecolor": "#EBF0F8"
           }
          },
          "shapedefaults": {
           "line": {
            "color": "#2a3f5f"
           }
          },
          "ternary": {
           "aaxis": {
            "gridcolor": "#DFE8F3",
            "linecolor": "#A2B1C6",
            "ticks": ""
           },
           "baxis": {
            "gridcolor": "#DFE8F3",
            "linecolor": "#A2B1C6",
            "ticks": ""
           },
           "bgcolor": "white",
           "caxis": {
            "gridcolor": "#DFE8F3",
            "linecolor": "#A2B1C6",
            "ticks": ""
           }
          },
          "title": {
           "x": 0.05
          },
          "xaxis": {
           "automargin": true,
           "gridcolor": "#EBF0F8",
           "linecolor": "#EBF0F8",
           "ticks": "",
           "title": {
            "standoff": 15
           },
           "zerolinecolor": "#EBF0F8",
           "zerolinewidth": 2
          },
          "yaxis": {
           "automargin": true,
           "gridcolor": "#EBF0F8",
           "linecolor": "#EBF0F8",
           "ticks": "",
           "title": {
            "standoff": 15
           },
           "zerolinecolor": "#EBF0F8",
           "zerolinewidth": 2
          }
         }
        },
        "title": {
         "text": "Top 5 Parties by Ad Spend",
         "x": 0.5,
         "xanchor": "center",
         "y": 0.95,
         "yanchor": "top"
        }
       }
      },
      "image/png": "[encoded data removed]",
      "text/html": [
       "<div>                            <div id=\"1142ec46-33ed-47ff-827f-c411d38d98b6\" class=\"plotly-graph-div\" style=\"height:525px; width:100%;\"></div>            <script type=\"text/javascript\">                require([\"plotly\"], function(Plotly) {                    window.PLOTLYENV=window.PLOTLYENV || {};                                    if (document.getElementById(\"1142ec46-33ed-47ff-827f-c411d38d98b6\")) {                    Plotly.newPlot(                        \"1142ec46-33ed-47ff-827f-c411d38d98b6\",                        [{\"domain\":{\"x\":[0.0,1.0],\"y\":[0.0,1.0]},\"hovertemplate\":\"Political Party=%{label}<br>Ad Spend (INR)=%{value}<extra></extra>\",\"labels\":[\"Bharatiya Janata Party (BJP)\",\"Ama Chinha Sankha Chinha\",\"Indian National Congress\",\"Ellorum Nammudan\",\"BJP Odisha\"],\"legendgroup\":\"\",\"name\":\"\",\"showlegend\":true,\"values\":[193854342.0,112412941.0,108787100.0,23806041.0,19573782.0],\"type\":\"pie\",\"textinfo\":\"percent\"}],                        {\"template\":{\"data\":{\"histogram2dcontour\":[{\"type\":\"histogram2dcontour\",\"colorbar\":{\"outlinewidth\":0,\"ticks\":\"\"},\"colorscale\":[[0.0,\"#0d0887\"],[0.1111111111111111,\"#46039f\"],[0.2222222222222222,\"#7201a8\"],[0.3333333333333333,\"#9c179e\"],[0.4444444444444444,\"#bd3786\"],[0.5555555555555556,\"#d8576b\"],[0.6666666666666666,\"#ed7953\"],[0.7777777777777778,\"#fb9f3a\"],[0.8888888888888888,\"#fdca26\"],[1.0,\"#f0f921\"]]}],\"choropleth\":[{\"type\":\"choropleth\",\"colorbar\":{\"outlinewidth\":0,\"ticks\":\"\"}}],\"histogram2d\":[{\"type\":\"histogram2d\",\"colorbar\":{\"outlinewidth\":0,\"ticks\":\"\"},\"colorscale\":[[0.0,\"#0d0887\"],[0.1111111111111111,\"#46039f\"],[0.2222222222222222,\"#7201a8\"],[0.3333333333333333,\"#9c179e\"],[0.4444444444444444,\"#bd3786\"],[0.5555555555555556,\"#d8576b\"],[0.6666666666666666,\"#ed7953\"],[0.7777777777777778,\"#fb9f3a\"],[0.8888888888888888,\"#fdca26\"],[1.0,\"#f0f921\"]]}],\"heatmap\":[{\"type\":\"heatmap\",\"colorbar\":{\"outlinewidth\":0,\"ticks\":\"\"},\"colorscale\":[[0.0,\"#0d0887\"],[0.1111111111111111,\"#46039f\"],[0.2222222222222222,\"#7201a8\"],[0.3333333333333333,\"#9c179e\"],[0.4444444444444444,\"#bd3786\"],[0.5555555555555556,\"#d8576b\"],[0.6666666666666666,\"#ed7953\"],[0.7777777777777778,\"#fb9f3a\"],[0.8888888888888888,\"#fdca26\"],[1.0,\"#f0f921\"]]}],\"heatmapgl\":[{\"type\":\"heatmapgl\",\"colorbar\":{\"outlinewidth\":0,\"ticks\":\"\"},\"colorscale\":[[0.0,\"#0d0887\"],[0.1111111111111111,\"#46039f\"],[0.2222222222222222,\"#7201a8\"],[0.3333333333333333,\"#9c179e\"],[0.4444444444444444,\"#bd3786\"],[0.5555555555555556,\"#d8576b\"],[0.6666666666666666,\"#ed7953\"],[0.7777777777777778,\"#fb9f3a\"],[0.8888888888888888,\"#fdca26\"],[1.0,\"#f0f921\"]]}],\"contourcarpet\":[{\"type\":\"contourcarpet\",\"colorbar\":{\"outlinewidth\":0,\"ticks\":\"\"}}],\"contour\":[{\"type\":\"contour\",\"colorbar\":{\"outlinewidth\":0,\"ticks\":\"\"},\"colorscale\":[[0.0,\"#0d0887\"],[0.1111111111111111,\"#46039f\"],[0.2222222222222222,\"#7201a8\"],[0.3333333333333333,\"#9c179e\"],[0.4444444444444444,\"#bd3786\"],[0.5555555555555556,\"#d8576b\"],[0.6666666666666666,\"#ed7953\"],[0.7777777777777778,\"#fb9f3a\"],[0.8888888888888888,\"#fdca26\"],[1.0,\"#f0f921\"]]}],\"surface\":[{\"type\":\"surface\",\"colorbar\":{\"outlinewidth\":0,\"ticks\":\"\"},\"colorscale\":[[0.0,\"#0d0887\"],[0.1111111111111111,\"#46039f\"],[0.2222222222222222,\"#7201a8\"],[0.3333333333333333,\"#9c179e\"],[0.4444444444444444,\"#bd3786\"],[0.5555555555555556,\"#d8576b\"],[0.6666666666666666,\"#ed7953\"],[0.7777777777777778,\"#fb9f3a\"],[0.8888888888888888,\"#fdca26\"],[1.0,\"#f0f921\"]]}],\"mesh3d\":[{\"type\":\"mesh3d\",\"colorbar\":{\"outlinewidth\":0,\"ticks\":\"\"}}],\"scatter\":[{\"fillpattern\":{\"fillmode\":\"overlay\",\"size\":10,\"solidity\":0.2},\"type\":\"scatter\"}],\"parcoords\":[{\"type\":\"parcoords\",\"line\":{\"colorbar\":{\"outlinewidth\":0,\"ticks\":\"\"}}}],\"scatterpolargl\":[{\"type\":\"scatterpolargl\",\"marker\":{\"colorbar\":{\"outlinewidth\":0,\"ticks\":\"\"}}}],\"bar\":[{\"error_x\":{\"color\":\"#2a3f5f\"},\"error_y\":{\"color\":\"#2a3f5f\"},\"marker\":{\"line\":{\"color\":\"white\",\"width\":0.5},\"pattern\":{\"fillmode\":\"overlay\",\"size\":10,\"solidity\":0.2}},\"type\":\"bar\"}],\"scattergeo\":[{\"type\":\"scattergeo\",\"marker\":{\"colorbar\":{\"outlinewidth\":0,\"ticks\":\"\"}}}],\"scatterpolar\":[{\"type\":\"scatterpolar\",\"marker\":{\"colorbar\":{\"outlinewidth\":0,\"ticks\":\"\"}}}],\"histogram\":[{\"marker\":{\"pattern\":{\"fillmode\":\"overlay\",\"size\":10,\"solidity\":0.2}},\"type\":\"histogram\"}],\"scattergl\":[{\"type\":\"scattergl\",\"marker\":{\"colorbar\":{\"outlinewidth\":0,\"ticks\":\"\"}}}],\"scatter3d\":[{\"type\":\"scatter3d\",\"line\":{\"colorbar\":{\"outlinewidth\":0,\"ticks\":\"\"}},\"marker\":{\"colorbar\":{\"outlinewidth\":0,\"ticks\":\"\"}}}],\"scattermapbox\":[{\"type\":\"scattermapbox\",\"marker\":{\"colorbar\":{\"outlinewidth\":0,\"ticks\":\"\"}}}],\"scatterternary\":[{\"type\":\"scatterternary\",\"marker\":{\"colorbar\":{\"outlinewidth\":0,\"ticks\":\"\"}}}],\"scattercarpet\":[{\"type\":\"scattercarpet\",\"marker\":{\"colorbar\":{\"outlinewidth\":0,\"ticks\":\"\"}}}],\"carpet\":[{\"aaxis\":{\"endlinecolor\":\"#2a3f5f\",\"gridcolor\":\"#C8D4E3\",\"linecolor\":\"#C8D4E3\",\"minorgridcolor\":\"#C8D4E3\",\"startlinecolor\":\"#2a3f5f\"},\"baxis\":{\"endlinecolor\":\"#2a3f5f\",\"gridcolor\":\"#C8D4E3\",\"linecolor\":\"#C8D4E3\",\"minorgridcolor\":\"#C8D4E3\",\"startlinecolor\":\"#2a3f5f\"},\"type\":\"carpet\"}],\"table\":[{\"cells\":{\"fill\":{\"color\":\"#EBF0F8\"},\"line\":{\"color\":\"white\"}},\"header\":{\"fill\":{\"color\":\"#C8D4E3\"},\"line\":{\"color\":\"white\"}},\"type\":\"table\"}],\"barpolar\":[{\"marker\":{\"line\":{\"color\":\"white\",\"width\":0.5},\"pattern\":{\"fillmode\":\"overlay\",\"size\":10,\"solidity\":0.2}},\"type\":\"barpolar\"}],\"pie\":[{\"automargin\":true,\"type\":\"pie\"}]},\"layout\":{\"autotypenumbers\":\"strict\",\"colorway\":[\"#636efa\",\"#EF553B\",\"#00cc96\",\"#ab63fa\",\"#FFA15A\",\"#19d3f3\",\"#FF6692\",\"#B6E880\",\"#FF97FF\",\"#FECB52\"],\"font\":{\"color\":\"#2a3f5f\"},\"hovermode\":\"closest\",\"hoverlabel\":{\"align\":\"left\"},\"paper_bgcolor\":\"white\",\"plot_bgcolor\":\"white\",\"polar\":{\"bgcolor\":\"white\",\"angularaxis\":{\"gridcolor\":\"#EBF0F8\",\"linecolor\":\"#EBF0F8\",\"ticks\":\"\"},\"radialaxis\":{\"gridcolor\":\"#EBF0F8\",\"linecolor\":\"#EBF0F8\",\"ticks\":\"\"}},\"ternary\":{\"bgcolor\":\"white\",\"aaxis\":{\"gridcolor\":\"#DFE8F3\",\"linecolor\":\"#A2B1C6\",\"ticks\":\"\"},\"baxis\":{\"gridcolor\":\"#DFE8F3\",\"linecolor\":\"#A2B1C6\",\"ticks\":\"\"},\"caxis\":{\"gridcolor\":\"#DFE8F3\",\"linecolor\":\"#A2B1C6\",\"ticks\":\"\"}},\"coloraxis\":{\"colorbar\":{\"outlinewidth\":0,\"ticks\":\"\"}},\"colorscale\":{\"sequential\":[[0.0,\"#0d0887\"],[0.1111111111111111,\"#46039f\"],[0.2222222222222222,\"#7201a8\"],[0.3333333333333333,\"#9c179e\"],[0.4444444444444444,\"#bd3786\"],[0.5555555555555556,\"#d8576b\"],[0.6666666666666666,\"#ed7953\"],[0.7777777777777778,\"#fb9f3a\"],[0.8888888888888888,\"#fdca26\"],[1.0,\"#f0f921\"]],\"sequentialminus\":[[0.0,\"#0d0887\"],[0.1111111111111111,\"#46039f\"],[0.2222222222222222,\"#7201a8\"],[0.3333333333333333,\"#9c179e\"],[0.4444444444444444,\"#bd3786\"],[0.5555555555555556,\"#d8576b\"],[0.6666666666666666,\"#ed7953\"],[0.7777777777777778,\"#fb9f3a\"],[0.8888888888888888,\"#fdca26\"],[1.0,\"#f0f921\"]],\"diverging\":[[0,\"#8e0152\"],[0.1,\"#c51b7d\"],[0.2,\"#de77ae\"],[0.3,\"#f1b6da\"],[0.4,\"#fde0ef\"],[0.5,\"#f7f7f7\"],[0.6,\"#e6f5d0\"],[0.7,\"#b8e186\"],[0.8,\"#7fbc41\"],[0.9,\"#4d9221\"],[1,\"#276419\"]]},\"xaxis\":{\"gridcolor\":\"#EBF0F8\",\"linecolor\":\"#EBF0F8\",\"ticks\":\"\",\"title\":{\"standoff\":15},\"zerolinecolor\":\"#EBF0F8\",\"automargin\":true,\"zerolinewidth\":2},\"yaxis\":{\"gridcolor\":\"#EBF0F8\",\"linecolor\":\"#EBF0F8\",\"ticks\":\"\",\"title\":{\"standoff\":15},\"zerolinecolor\":\"#EBF0F8\",\"automargin\":true,\"zerolinewidth\":2},\"scene\":{\"xaxis\":{\"backgroundcolor\":\"white\",\"gridcolor\":\"#DFE8F3\",\"linecolor\":\"#EBF0F8\",\"showbackground\":true,\"ticks\":\"\",\"zerolinecolor\":\"#EBF0F8\",\"gridwidth\":2},\"yaxis\":{\"backgroundcolor\":\"white\",\"gridcolor\":\"#DFE8F3\",\"linecolor\":\"#EBF0F8\",\"showbackground\":true,\"ticks\":\"\",\"zerolinecolor\":\"#EBF0F8\",\"gridwidth\":2},\"zaxis\":{\"backgroundcolor\":\"white\",\"gridcolor\":\"#DFE8F3\",\"linecolor\":\"#EBF0F8\",\"showbackground\":true,\"ticks\":\"\",\"zerolinecolor\":\"#EBF0F8\",\"gridwidth\":2}},\"shapedefaults\":{\"line\":{\"color\":\"#2a3f5f\"}},\"annotationdefaults\":{\"arrowcolor\":\"#2a3f5f\",\"arrowhead\":0,\"arrowwidth\":1},\"geo\":{\"bgcolor\":\"white\",\"landcolor\":\"white\",\"subunitcolor\":\"#C8D4E3\",\"showland\":true,\"showlakes\":true,\"lakecolor\":\"white\"},\"title\":{\"x\":0.05},\"mapbox\":{\"style\":\"light\"}}},\"legend\":{\"tracegroupgap\":0,\"orientation\":\"v\",\"yanchor\":\"top\",\"y\":1,\"xanchor\":\"left\",\"x\":-0.3},\"title\":{\"text\":\"Top 5 Parties by Ad Spend\",\"y\":0.95,\"x\":0.5,\"xanchor\":\"center\",\"yanchor\":\"top\"},\"margin\":{\"l\":200,\"r\":50,\"t\":100,\"b\":50},\"showlegend\":true},                        {\"responsive\": true}                    ).then(function(){\n",
       "                            \n",
       "var gd = document.getElementById('1142ec46-33ed-47ff-827f-c411d38d98b6');\n",
       "var x = new MutationObserver(function (mutations, observer) {{\n",
       "        var display = window.getComputedStyle(gd).display;\n",
       "        if (!display || display === 'none') {{\n",
       "            console.log([gd, 'removed!']);\n",
       "            Plotly.purge(gd);\n",
       "            observer.disconnect();\n",
       "        }}\n",
       "}});\n",
       "\n",
       "// Listen for the removal of the full notebook cells\n",
       "var notebookContainer = gd.closest('#notebook-container');\n",
       "if (notebookContainer) {{\n",
       "    x.observe(notebookContainer, {childList: true});\n",
       "}}\n",
       "\n",
       "// Listen for the clearing of the current output cell\n",
       "var outputEl = gd.closest('.output');\n",
       "if (outputEl) {{\n",
       "    x.observe(outputEl, {childList: true});\n",
       "}}\n",
       "\n",
       "                        })                };                });            </script>        </div>"
      ]
     },
     "metadata": {},
     "output_type": "display_data"
    }
   ],
   "source": [
    "Top5PartiesAdSpentFig = px.pie(top_5_parties, values='Amount spent (INR)', names='Page name',\n",
    "             title='Top 5 Parties by Ad Spend', #color_discrete_sequence=colors,\n",
    "             labels={'Page name': 'Political Party', 'Amount spent (INR)': 'Ad Spend (INR)'})\n",
    "\n",
    "Top5PartiesAdSpentFig.update_traces(textinfo='percent')\n",
    "\n",
    "Top5PartiesAdSpentFig.update_layout(\n",
    "    showlegend=True,\n",
    "    legend=dict(\n",
    "        orientation=\"v\",\n",
    "        yanchor=\"top\",\n",
    "        y=1,\n",
    "        xanchor=\"left\",\n",
    "        x=-0.3\n",
    "    ),\n",
    "    title=dict(\n",
    "        y=0.95,\n",
    "        x=0.5,\n",
    "        xanchor='center',\n",
    "        yanchor='top'\n",
    "    ),\n",
    "    margin=dict(l=200, r=50, t=100, b=50) \n",
    ")\n",
    "\n",
    "\n",
    "Top5PartiesAdSpentFig.show()"
   ]
  },
  {
   "cell_type": "markdown",
   "id": "2914f803-5353-4084-b7b8-1be0daabd1e9",
   "metadata": {},
   "source": [
    "### Relationship Between VoteCount and Amount Spent\n"
   ]
  },
  {
   "cell_type": "code",
   "execution_count": 342,
   "id": "155d3bb2-bbdd-4bc4-8574-3cb2859b5fe4",
   "metadata": {},
   "outputs": [
    {
     "data": {
      "text/html": [
       "<div>\n",
       "<style scoped>\n",
       "    .dataframe tbody tr th:only-of-type {\n",
       "        vertical-align: middle;\n",
       "    }\n",
       "\n",
       "    .dataframe tbody tr th {\n",
       "        vertical-align: top;\n",
       "    }\n",
       "\n",
       "    .dataframe thead th {\n",
       "        text-align: right;\n",
       "    }\n",
       "</style>\n",
       "<table border=\"1\" class=\"dataframe\">\n",
       "  <thead>\n",
       "    <tr style=\"text-align: right;\">\n",
       "      <th></th>\n",
       "      <th>Amount spent (INR)</th>\n",
       "      <th>Polled (%)</th>\n",
       "    </tr>\n",
       "  </thead>\n",
       "  <tbody>\n",
       "    <tr>\n",
       "      <th>Amount spent (INR)</th>\n",
       "      <td>1.000000</td>\n",
       "      <td>-0.010688</td>\n",
       "    </tr>\n",
       "    <tr>\n",
       "      <th>Polled (%)</th>\n",
       "      <td>-0.010688</td>\n",
       "      <td>1.000000</td>\n",
       "    </tr>\n",
       "  </tbody>\n",
       "</table>\n",
       "</div>"
      ],
      "text/plain": [
       "                    Amount spent (INR)  Polled (%)\n",
       "Amount spent (INR)            1.000000   -0.010688\n",
       "Polled (%)                   -0.010688    1.000000"
      ]
     },
     "execution_count": 342,
     "metadata": {},
     "output_type": "execute_result"
    }
   ],
   "source": [
    "correlation = merged_data[['Amount spent (INR)', 'Polled (%)']].corr()\n",
    "correlation"
   ]
  },
  {
   "cell_type": "markdown",
   "id": "4b9d15a2-a29b-4d64-8979-47d26b75cb32",
   "metadata": {},
   "source": [
    "- This signifies increasing the amount spent on advertising does not significantly affect the percentage of voter turnout."
   ]
  },
  {
   "cell_type": "markdown",
   "id": "ac1be8b9-0d5b-42d1-ab5d-996360a04d3f",
   "metadata": {},
   "source": [
    "### Relationship between ad spend and voter turnout by parliamentary constituency:"
   ]
  },
  {
   "cell_type": "code",
   "execution_count": 350,
   "id": "153f094d-db50-4d5c-828c-4a01017a0ede",
   "metadata": {},
   "outputs": [
    {
     "data": {
      "text/html": [
       "<div>\n",
       "<style scoped>\n",
       "    .dataframe tbody tr th:only-of-type {\n",
       "        vertical-align: middle;\n",
       "    }\n",
       "\n",
       "    .dataframe tbody tr th {\n",
       "        vertical-align: top;\n",
       "    }\n",
       "\n",
       "    .dataframe thead th {\n",
       "        text-align: right;\n",
       "    }\n",
       "</style>\n",
       "<table border=\"1\" class=\"dataframe\">\n",
       "  <thead>\n",
       "    <tr style=\"text-align: right;\">\n",
       "      <th></th>\n",
       "      <th>_id</th>\n",
       "      <th>Sl No</th>\n",
       "      <th>State</th>\n",
       "      <th>PC_Name</th>\n",
       "      <th>Total Electors</th>\n",
       "      <th>Polled (%)</th>\n",
       "      <th>Total Votes</th>\n",
       "      <th>Phase</th>\n",
       "      <th>Location name</th>\n",
       "      <th>Amount spent (INR)</th>\n",
       "    </tr>\n",
       "  </thead>\n",
       "  <tbody>\n",
       "    <tr>\n",
       "      <th>0</th>\n",
       "      <td>1</td>\n",
       "      <td>1.0</td>\n",
       "      <td>andaman &amp; nicobar islands</td>\n",
       "      <td>Andaman &amp; Nicobar Islands</td>\n",
       "      <td>315148</td>\n",
       "      <td>64.10</td>\n",
       "      <td>202018</td>\n",
       "      <td>1.0</td>\n",
       "      <td>NaN</td>\n",
       "      <td>NaN</td>\n",
       "    </tr>\n",
       "    <tr>\n",
       "      <th>1</th>\n",
       "      <td>2</td>\n",
       "      <td>2.0</td>\n",
       "      <td>arunachal pradesh</td>\n",
       "      <td>Arunachal East</td>\n",
       "      <td>375310</td>\n",
       "      <td>83.31</td>\n",
       "      <td>312658</td>\n",
       "      <td>1.0</td>\n",
       "      <td>arunachal pradesh</td>\n",
       "      <td>1385654.0</td>\n",
       "    </tr>\n",
       "    <tr>\n",
       "      <th>2</th>\n",
       "      <td>3</td>\n",
       "      <td>3.0</td>\n",
       "      <td>arunachal pradesh</td>\n",
       "      <td>Arunachal West</td>\n",
       "      <td>517384</td>\n",
       "      <td>73.60</td>\n",
       "      <td>380783</td>\n",
       "      <td>1.0</td>\n",
       "      <td>arunachal pradesh</td>\n",
       "      <td>1385654.0</td>\n",
       "    </tr>\n",
       "    <tr>\n",
       "      <th>3</th>\n",
       "      <td>4</td>\n",
       "      <td>4.0</td>\n",
       "      <td>assam</td>\n",
       "      <td>Dibrugarh</td>\n",
       "      <td>1659588</td>\n",
       "      <td>76.75</td>\n",
       "      <td>1273744</td>\n",
       "      <td>1.0</td>\n",
       "      <td>assam</td>\n",
       "      <td>17478091.0</td>\n",
       "    </tr>\n",
       "    <tr>\n",
       "      <th>4</th>\n",
       "      <td>5</td>\n",
       "      <td>5.0</td>\n",
       "      <td>assam</td>\n",
       "      <td>Jorhat</td>\n",
       "      <td>1727121</td>\n",
       "      <td>79.89</td>\n",
       "      <td>1379749</td>\n",
       "      <td>1.0</td>\n",
       "      <td>assam</td>\n",
       "      <td>17478091.0</td>\n",
       "    </tr>\n",
       "    <tr>\n",
       "      <th>...</th>\n",
       "      <td>...</td>\n",
       "      <td>...</td>\n",
       "      <td>...</td>\n",
       "      <td>...</td>\n",
       "      <td>...</td>\n",
       "      <td>...</td>\n",
       "      <td>...</td>\n",
       "      <td>...</td>\n",
       "      <td>...</td>\n",
       "      <td>...</td>\n",
       "    </tr>\n",
       "    <tr>\n",
       "      <th>545</th>\n",
       "      <td>546</td>\n",
       "      <td>54.0</td>\n",
       "      <td>west bengal</td>\n",
       "      <td>Joynagar</td>\n",
       "      <td>1844780</td>\n",
       "      <td>80.08</td>\n",
       "      <td>1477298</td>\n",
       "      <td>NaN</td>\n",
       "      <td>west bengal</td>\n",
       "      <td>77244996.0</td>\n",
       "    </tr>\n",
       "    <tr>\n",
       "      <th>546</th>\n",
       "      <td>547</td>\n",
       "      <td>55.0</td>\n",
       "      <td>west bengal</td>\n",
       "      <td>Kolkata Dakshin</td>\n",
       "      <td>1849520</td>\n",
       "      <td>66.95</td>\n",
       "      <td>1238256</td>\n",
       "      <td>NaN</td>\n",
       "      <td>west bengal</td>\n",
       "      <td>77244996.0</td>\n",
       "    </tr>\n",
       "    <tr>\n",
       "      <th>547</th>\n",
       "      <td>548</td>\n",
       "      <td>56.0</td>\n",
       "      <td>west bengal</td>\n",
       "      <td>Kolkata Uttar</td>\n",
       "      <td>1505356</td>\n",
       "      <td>63.59</td>\n",
       "      <td>957319</td>\n",
       "      <td>NaN</td>\n",
       "      <td>west bengal</td>\n",
       "      <td>77244996.0</td>\n",
       "    </tr>\n",
       "    <tr>\n",
       "      <th>548</th>\n",
       "      <td>549</td>\n",
       "      <td>57.0</td>\n",
       "      <td>west bengal</td>\n",
       "      <td>Mathurapur</td>\n",
       "      <td>1817068</td>\n",
       "      <td>82.02</td>\n",
       "      <td>1490299</td>\n",
       "      <td>NaN</td>\n",
       "      <td>west bengal</td>\n",
       "      <td>77244996.0</td>\n",
       "    </tr>\n",
       "    <tr>\n",
       "      <th>549</th>\n",
       "      <td>550</td>\n",
       "      <td>NaN</td>\n",
       "      <td>NaN</td>\n",
       "      <td>Phase 7 Total</td>\n",
       "      <td>100653884</td>\n",
       "      <td>63.88</td>\n",
       "      <td>64296221</td>\n",
       "      <td>NaN</td>\n",
       "      <td>NaN</td>\n",
       "      <td>NaN</td>\n",
       "    </tr>\n",
       "  </tbody>\n",
       "</table>\n",
       "<p>550 rows × 10 columns</p>\n",
       "</div>"
      ],
      "text/plain": [
       "     _id  Sl No                      State                    PC_Name  \\\n",
       "0      1    1.0  andaman & nicobar islands  Andaman & Nicobar Islands   \n",
       "1      2    2.0          arunachal pradesh             Arunachal East   \n",
       "2      3    3.0          arunachal pradesh             Arunachal West   \n",
       "3      4    4.0                      assam                  Dibrugarh   \n",
       "4      5    5.0                      assam                     Jorhat   \n",
       "..   ...    ...                        ...                        ...   \n",
       "545  546   54.0                west bengal                   Joynagar   \n",
       "546  547   55.0                west bengal            Kolkata Dakshin   \n",
       "547  548   56.0                west bengal              Kolkata Uttar   \n",
       "548  549   57.0                west bengal                 Mathurapur   \n",
       "549  550    NaN                        NaN              Phase 7 Total   \n",
       "\n",
       "     Total Electors  Polled (%)  Total Votes  Phase      Location name  \\\n",
       "0            315148       64.10       202018    1.0                NaN   \n",
       "1            375310       83.31       312658    1.0  arunachal pradesh   \n",
       "2            517384       73.60       380783    1.0  arunachal pradesh   \n",
       "3           1659588       76.75      1273744    1.0              assam   \n",
       "4           1727121       79.89      1379749    1.0              assam   \n",
       "..              ...         ...          ...    ...                ...   \n",
       "545         1844780       80.08      1477298    NaN        west bengal   \n",
       "546         1849520       66.95      1238256    NaN        west bengal   \n",
       "547         1505356       63.59       957319    NaN        west bengal   \n",
       "548         1817068       82.02      1490299    NaN        west bengal   \n",
       "549       100653884       63.88     64296221    NaN                NaN   \n",
       "\n",
       "     Amount spent (INR)  \n",
       "0                   NaN  \n",
       "1             1385654.0  \n",
       "2             1385654.0  \n",
       "3            17478091.0  \n",
       "4            17478091.0  \n",
       "..                  ...  \n",
       "545          77244996.0  \n",
       "546          77244996.0  \n",
       "547          77244996.0  \n",
       "548          77244996.0  \n",
       "549                 NaN  \n",
       "\n",
       "[550 rows x 10 columns]"
      ]
     },
     "execution_count": 350,
     "metadata": {},
     "output_type": "execute_result"
    }
   ],
   "source": [
    "merged_constituency_data = results.merge(\n",
    "    locations,\n",
    "    left_on='State',\n",
    "    right_on='Location name',\n",
    "    how='left'\n",
    ")\n",
    "\n",
    "merged_constituency_data"
   ]
  },
  {
   "cell_type": "code",
   "execution_count": 352,
   "id": "056f3400-d40c-4e40-8a91-9634d5c7b9e3",
   "metadata": {},
   "outputs": [
    {
     "data": {
      "application/vnd.plotly.v1+json": {
       "config": {
        "plotlyServerURL": "https://plot.ly"
       },
       "data": [
        {
         "hovertemplate": "State=andaman & nicobar islands<br>Ad Spend (INR)=%{x}<br>Voter Turnout (%)=%{y}<extra></extra>",
         "legendgroup": "andaman & nicobar islands",
         "marker": {
          "color": "#636efa",
          "symbol": "circle"
         },
         "mode": "markers",
         "name": "andaman & nicobar islands",
         "orientation": "v",
         "showlegend": true,
         "type": "scatter",
         "x": [
          null
         ],
         "xaxis": "x",
         "y": [
          64.1
         ],
         "yaxis": "y"
        },
        {
         "hovertemplate": "State=arunachal pradesh<br>Ad Spend (INR)=%{x}<br>Voter Turnout (%)=%{y}<extra></extra>",
         "legendgroup": "arunachal pradesh",
         "marker": {
          "color": "#EF553B",
          "symbol": "circle"
         },
         "mode": "markers",
         "name": "arunachal pradesh",
         "orientation": "v",
         "showlegend": true,
         "type": "scatter",
         "x": [
          1385654,
          1385654
         ],
         "xaxis": "x",
         "y": [
          83.31,
          73.6
         ],
         "yaxis": "y"
        },
        {
         "hovertemplate": "State=assam<br>Ad Spend (INR)=%{x}<br>Voter Turnout (%)=%{y}<extra></extra>",
         "legendgroup": "assam",
         "marker": {
          "color": "#00cc96",
          "symbol": "circle"
         },
         "mode": "markers",
         "name": "assam",
         "orientation": "v",
         "showlegend": true,
         "type": "scatter",
         "x": [
          17478091,
          17478091,
          17478091,
          17478091,
          17478091,
          17478091,
          17478091,
          17478091,
          17478091,
          17478091,
          17478091,
          17478091,
          17478091,
          17478091
         ],
         "xaxis": "x",
         "y": [
          76.75,
          79.89,
          79.33,
          76.42,
          78.46,
          82.01,
          75.74,
          80.48,
          84.97,
          79.05,
          85.24,
          92.08,
          78.39,
          83.55
         ],
         "yaxis": "y"
        },
        {
         "hovertemplate": "State=bihar<br>Ad Spend (INR)=%{x}<br>Voter Turnout (%)=%{y}<extra></extra>",
         "legendgroup": "bihar",
         "marker": {
          "color": "#ab63fa",
          "symbol": "circle"
         },
         "mode": "markers",
         "name": "bihar",
         "orientation": "v",
         "showlegend": true,
         "type": "scatter",
         "x": [
          53619242,
          53619242,
          53619242,
          53619242,
          53619242,
          53619242,
          53619242,
          53619242,
          53619242,
          53619242,
          53619242,
          53619242,
          53619242,
          53619242,
          53619242,
          53619242,
          53619242,
          53619242,
          53619242,
          53619242,
          53619242,
          53619242,
          53619242,
          53619242,
          53619242,
          53619242,
          53619242,
          53619242,
          53619242,
          53619242,
          53619242,
          53619242,
          53619242,
          53619242,
          53619242,
          53619242,
          53619242,
          53619242,
          53619242,
          53619242
         ],
         "xaxis": "x",
         "y": [
          50.35,
          52.76,
          51.25,
          43.17,
          54.48,
          53.5,
          63.76,
          62.84,
          63.08,
          61.93,
          54.48,
          57.52,
          58.29,
          63.55,
          58.7,
          57.37,
          55.55,
          60.11,
          59.59,
          58.43,
          53.04,
          59.47,
          56.73,
          56.21,
          52.32,
          52.27,
          61.62,
          59.68,
          57.4,
          52.49,
          62.59,
          60.19,
          50.27,
          55.39,
          55.09,
          54.68,
          49.78,
          59.24,
          46.85,
          57.16
         ],
         "yaxis": "y"
        },
        {
         "hovertemplate": "State=chhattisgarh<br>Ad Spend (INR)=%{x}<br>Voter Turnout (%)=%{y}<extra></extra>",
         "legendgroup": "chhattisgarh",
         "marker": {
          "color": "#FFA15A",
          "symbol": "circle"
         },
         "mode": "markers",
         "name": "chhattisgarh",
         "orientation": "v",
         "showlegend": true,
         "type": "scatter",
         "x": [
          14803286,
          14803286,
          14803286,
          14803286,
          14803286,
          14803286,
          14803286,
          14803286,
          14803286,
          14803286,
          14803286
         ],
         "xaxis": "x",
         "y": [
          68.29,
          76.23,
          75.02,
          77.42,
          64.77,
          73.68,
          67.56,
          75.63,
          78.85,
          66.82,
          79.89
         ],
         "yaxis": "y"
        },
        {
         "hovertemplate": "State=jammu and kashmir<br>Ad Spend (INR)=%{x}<br>Voter Turnout (%)=%{y}<extra></extra>",
         "legendgroup": "jammu and kashmir",
         "marker": {
          "color": "#19d3f3",
          "symbol": "circle"
         },
         "mode": "markers",
         "name": "jammu and kashmir",
         "orientation": "v",
         "showlegend": true,
         "type": "scatter",
         "x": [
          6575061,
          6575061,
          6575061,
          6575061,
          6575061
         ],
         "xaxis": "x",
         "y": [
          68.27,
          72.22,
          38.49,
          59.1,
          55.4
         ],
         "yaxis": "y"
        },
        {
         "hovertemplate": "State=lakshadweep<br>Ad Spend (INR)=%{x}<br>Voter Turnout (%)=%{y}<extra></extra>",
         "legendgroup": "lakshadweep",
         "marker": {
          "color": "#FF6692",
          "symbol": "circle"
         },
         "mode": "markers",
         "name": "lakshadweep",
         "orientation": "v",
         "showlegend": true,
         "type": "scatter",
         "x": [
          19847
         ],
         "xaxis": "x",
         "y": [
          84.16
         ],
         "yaxis": "y"
        },
        {
         "hovertemplate": "State=madhya pradesh<br>Ad Spend (INR)=%{x}<br>Voter Turnout (%)=%{y}<extra></extra>",
         "legendgroup": "madhya pradesh",
         "marker": {
          "color": "#B6E880",
          "symbol": "circle"
         },
         "mode": "markers",
         "name": "madhya pradesh",
         "orientation": "v",
         "showlegend": true,
         "type": "scatter",
         "x": [
          39992952,
          39992952,
          39992952,
          39992952,
          39992952,
          39992952,
          39992952,
          39992952,
          39992952,
          39992952,
          39992952,
          39992952,
          39992952,
          39992952,
          39992952,
          39992952,
          39992952,
          39992952,
          39992952,
          39992952,
          39992952,
          39992952,
          39992952,
          39992952,
          39992952,
          39992952,
          39992952,
          39992952,
          39992952
         ],
         "xaxis": "x",
         "y": [
          73.45,
          79.83,
          61,
          72.84,
          64.68,
          56.5,
          56.48,
          67.21,
          56.97,
          49.43,
          61.94,
          60,
          73.53,
          54.93,
          64.06,
          72.43,
          62.13,
          58.97,
          76.04,
          65.75,
          74.48,
          75.48,
          72.76,
          61.67,
          71.52,
          76.03,
          75.27,
          72.94,
          73.82
         ],
         "yaxis": "y"
        },
        {
         "hovertemplate": "State=maharashtra<br>Ad Spend (INR)=%{x}<br>Voter Turnout (%)=%{y}<extra></extra>",
         "legendgroup": "maharashtra",
         "marker": {
          "color": "#FF97FF",
          "symbol": "circle"
         },
         "mode": "markers",
         "name": "maharashtra",
         "orientation": "v",
         "showlegend": true,
         "type": "scatter",
         "x": [
          101917091,
          101917091,
          101917091,
          101917091,
          101917091,
          101917091,
          101917091,
          101917091,
          101917091,
          101917091,
          101917091,
          101917091,
          101917091,
          101917091,
          101917091,
          101917091,
          101917091,
          101917091,
          101917091,
          101917091,
          101917091,
          101917091,
          101917091,
          101917091,
          101917091,
          101917091,
          101917091,
          101917091,
          101917091,
          101917091,
          101917091,
          101917091,
          101917091,
          101917091,
          101917091,
          101917091,
          101917091,
          101917091,
          101917091,
          101917091,
          101917091,
          101917091,
          101917091,
          101917091,
          101917091,
          101917091,
          101917091,
          101917091
         ],
         "xaxis": "x",
         "y": [
          67.04,
          67.55,
          71.88,
          54.32,
          61.01,
          61.79,
          63.67,
          62.03,
          63.54,
          60.94,
          62.26,
          64.85,
          62.87,
          59.5,
          71.11,
          71.59,
          62.59,
          63.65,
          63.88,
          60.51,
          62.52,
          62.27,
          63.16,
          59.19,
          66.61,
          63.03,
          70.92,
          58.47,
          69.18,
          54.87,
          70.68,
          53.54,
          64.28,
          63.03,
          54.16,
          59.89,
          60.21,
          66.75,
          50.12,
          57.02,
          51.98,
          56.37,
          54.84,
          50.06,
          53.6,
          60.75,
          63.91,
          52.09
         ],
         "yaxis": "y"
        },
        {
         "hovertemplate": "State=manipur<br>Ad Spend (INR)=%{x}<br>Voter Turnout (%)=%{y}<extra></extra>",
         "legendgroup": "manipur",
         "marker": {
          "color": "#FECB52",
          "symbol": "circle"
         },
         "mode": "markers",
         "name": "manipur",
         "orientation": "v",
         "showlegend": true,
         "type": "scatter",
         "x": [
          889062,
          889062,
          889062
         ],
         "xaxis": "x",
         "y": [
          80.15,
          68.83,
          85.11
         ],
         "yaxis": "y"
        },
        {
         "hovertemplate": "State=meghalaya<br>Ad Spend (INR)=%{x}<br>Voter Turnout (%)=%{y}<extra></extra>",
         "legendgroup": "meghalaya",
         "marker": {
          "color": "#636efa",
          "symbol": "circle"
         },
         "mode": "markers",
         "name": "meghalaya",
         "orientation": "v",
         "showlegend": true,
         "type": "scatter",
         "x": [
          884220,
          884220
         ],
         "xaxis": "x",
         "y": [
          73.78,
          81.37
         ],
         "yaxis": "y"
        },
        {
         "hovertemplate": "State=mizoram<br>Ad Spend (INR)=%{x}<br>Voter Turnout (%)=%{y}<extra></extra>",
         "legendgroup": "mizoram",
         "marker": {
          "color": "#EF553B",
          "symbol": "circle"
         },
         "mode": "markers",
         "name": "mizoram",
         "orientation": "v",
         "showlegend": true,
         "type": "scatter",
         "x": [
          481052
         ],
         "xaxis": "x",
         "y": [
          56.87
         ],
         "yaxis": "y"
        },
        {
         "hovertemplate": "State=nagaland<br>Ad Spend (INR)=%{x}<br>Voter Turnout (%)=%{y}<extra></extra>",
         "legendgroup": "nagaland",
         "marker": {
          "color": "#00cc96",
          "symbol": "circle"
         },
         "mode": "markers",
         "name": "nagaland",
         "orientation": "v",
         "showlegend": true,
         "type": "scatter",
         "x": [
          599170
         ],
         "xaxis": "x",
         "y": [
          57.72
         ],
         "yaxis": "y"
        },
        {
         "hovertemplate": "State=puducherry<br>Ad Spend (INR)=%{x}<br>Voter Turnout (%)=%{y}<extra></extra>",
         "legendgroup": "puducherry",
         "marker": {
          "color": "#ab63fa",
          "symbol": "circle"
         },
         "mode": "markers",
         "name": "puducherry",
         "orientation": "v",
         "showlegend": true,
         "type": "scatter",
         "x": [
          1535672
         ],
         "xaxis": "x",
         "y": [
          78.9
         ],
         "yaxis": "y"
        },
        {
         "hovertemplate": "State=rajasthan<br>Ad Spend (INR)=%{x}<br>Voter Turnout (%)=%{y}<extra></extra>",
         "legendgroup": "rajasthan",
         "marker": {
          "color": "#FFA15A",
          "symbol": "circle"
         },
         "mode": "markers",
         "name": "rajasthan",
         "orientation": "v",
         "showlegend": true,
         "type": "scatter",
         "x": [
          41268323,
          41268323,
          41268323,
          41268323,
          41268323,
          41268323,
          41268323,
          41268323,
          41268323,
          41268323,
          41268323,
          41268323,
          41268323,
          41268323,
          41268323,
          41268323,
          41268323,
          41268323,
          41268323,
          41268323,
          41268323,
          41268323,
          41268323,
          41268323,
          41268323
         ],
         "xaxis": "x",
         "y": [
          60.07,
          52.8,
          54.11,
          63.61,
          55.72,
          66.59,
          63.38,
          56.7,
          52.93,
          49.59,
          57.23,
          57.53,
          59.66,
          73.88,
          75.93,
          60.37,
          68.61,
          62.89,
          69.71,
          64.27,
          71.26,
          57.19,
          58.39,
          56.58,
          66.66
         ],
         "yaxis": "y"
        },
        {
         "hovertemplate": "State=sikkim<br>Ad Spend (INR)=%{x}<br>Voter Turnout (%)=%{y}<extra></extra>",
         "legendgroup": "sikkim",
         "marker": {
          "color": "#19d3f3",
          "symbol": "circle"
         },
         "mode": "markers",
         "name": "sikkim",
         "orientation": "v",
         "showlegend": true,
         "type": "scatter",
         "x": [
          4379297
         ],
         "xaxis": "x",
         "y": [
          79.88
         ],
         "yaxis": "y"
        },
        {
         "hovertemplate": "State=tamil nadu<br>Ad Spend (INR)=%{x}<br>Voter Turnout (%)=%{y}<extra></extra>",
         "legendgroup": "tamil nadu",
         "marker": {
          "color": "#FF6692",
          "symbol": "circle"
         },
         "mode": "markers",
         "name": "tamil nadu",
         "orientation": "v",
         "showlegend": true,
         "type": "scatter",
         "x": [
          76622608,
          76622608,
          76622608,
          76622608,
          76622608,
          76622608,
          76622608,
          76622608,
          76622608,
          76622608,
          76622608,
          76622608,
          76622608,
          76622608,
          76622608,
          76622608,
          76622608,
          76622608,
          76622608,
          76622608,
          76622608,
          76622608,
          76622608,
          76622608,
          76622608,
          76622608,
          76622608,
          76622608,
          76622608,
          76622608,
          76622608,
          76622608,
          76622608,
          76622608,
          76622608,
          76622608,
          76622608,
          76622608,
          76622608
         ],
         "xaxis": "x",
         "y": [
          74.19,
          75.76,
          53.96,
          60.11,
          54.17,
          76.37,
          64.89,
          72.57,
          81.2,
          71.14,
          70.59,
          79.21,
          71.68,
          65.44,
          78.7,
          71.5,
          62.04,
          70.09,
          71.94,
          78.21,
          70.95,
          77.43,
          70.41,
          68.19,
          78.16,
          64.26,
          60.25,
          67.65,
          68.27,
          69.84,
          66.88,
          67.51,
          64.1,
          70.62,
          68.59,
          74.24,
          73.53,
          76.52,
          70.22
         ],
         "yaxis": "y"
        },
        {
         "hovertemplate": "State=tripura<br>Ad Spend (INR)=%{x}<br>Voter Turnout (%)=%{y}<extra></extra>",
         "legendgroup": "tripura",
         "marker": {
          "color": "#B6E880",
          "symbol": "circle"
         },
         "mode": "markers",
         "name": "tripura",
         "orientation": "v",
         "showlegend": true,
         "type": "scatter",
         "x": [
          1857459,
          1857459
         ],
         "xaxis": "x",
         "y": [
          81.48,
          80.36
         ],
         "yaxis": "y"
        },
        {
         "hovertemplate": "State=uttar pradesh<br>Ad Spend (INR)=%{x}<br>Voter Turnout (%)=%{y}<extra></extra>",
         "legendgroup": "uttar pradesh",
         "marker": {
          "color": "#FF97FF",
          "symbol": "circle"
         },
         "mode": "markers",
         "name": "uttar pradesh",
         "orientation": "v",
         "showlegend": true,
         "type": "scatter",
         "x": [
          89668131,
          89668131,
          89668131,
          89668131,
          89668131,
          89668131,
          89668131,
          89668131,
          89668131,
          89668131,
          89668131,
          89668131,
          89668131,
          89668131,
          89668131,
          89668131,
          89668131,
          89668131,
          89668131,
          89668131,
          89668131,
          89668131,
          89668131,
          89668131,
          89668131,
          89668131,
          89668131,
          89668131,
          89668131,
          89668131,
          89668131,
          89668131,
          89668131,
          89668131,
          89668131,
          89668131,
          89668131,
          89668131,
          89668131,
          89668131,
          89668131,
          89668131,
          89668131,
          89668131,
          89668131,
          89668131,
          89668131,
          89668131,
          89668131,
          89668131,
          89668131,
          89668131,
          89668131,
          89668131,
          89668131,
          89668131,
          89668131,
          89668131,
          89668131,
          89668131,
          89668131,
          89668131,
          89668131,
          89668131,
          89668131,
          89668131,
          89668131,
          89668131,
          89668131,
          89668131,
          89668131,
          89668131,
          89668131,
          89668131,
          89668131,
          89668131,
          89668131,
          89668131,
          89668131,
          89668131
         ],
         "xaxis": "x",
         "y": [
          58.73,
          62.46,
          62.18,
          59.13,
          60.75,
          63.11,
          55.85,
          66.14,
          56.93,
          64.58,
          56.16,
          56.42,
          53.63,
          49.88,
          49.41,
          58.94,
          54.08,
          57.44,
          54.35,
          58.03,
          59.31,
          57.19,
          58.53,
          55.71,
          58.73,
          62.91,
          57.78,
          57.42,
          64.54,
          56.36,
          59.08,
          57.52,
          61.08,
          53.05,
          64.68,
          55.89,
          53.36,
          62.54,
          55.46,
          54.34,
          59.7,
          67.2,
          59.14,
          57.09,
          51.62,
          60.6,
          56.18,
          63.86,
          55.68,
          52.8,
          52.28,
          62.88,
          58.12,
          51.82,
          61.58,
          56.16,
          56.67,
          53.07,
          51.97,
          55.59,
          54.38,
          54.49,
          48.91,
          51.45,
          52.57,
          52.83,
          55.63,
          52.05,
          51.79,
          60.58,
          55.51,
          55.45,
          55.05,
          54.93,
          57.57,
          60.31,
          57.92,
          56.78,
          51.38,
          56.49
         ],
         "yaxis": "y"
        },
        {
         "hovertemplate": "State=uttarakhand<br>Ad Spend (INR)=%{x}<br>Voter Turnout (%)=%{y}<extra></extra>",
         "legendgroup": "uttarakhand",
         "marker": {
          "color": "#FECB52",
          "symbol": "circle"
         },
         "mode": "markers",
         "name": "uttarakhand",
         "orientation": "v",
         "showlegend": true,
         "type": "scatter",
         "x": [
          7140897,
          7140897,
          7140897,
          7140897,
          7140897
         ],
         "xaxis": "x",
         "y": [
          48.74,
          52.42,
          63.53,
          62.47,
          53.76
         ],
         "yaxis": "y"
        },
        {
         "hovertemplate": "State=west bengal<br>Ad Spend (INR)=%{x}<br>Voter Turnout (%)=%{y}<extra></extra>",
         "legendgroup": "west bengal",
         "marker": {
          "color": "#636efa",
          "symbol": "circle"
         },
         "mode": "markers",
         "name": "west bengal",
         "orientation": "v",
         "showlegend": true,
         "type": "scatter",
         "x": [
          77244996,
          77244996,
          77244996,
          77244996,
          77244996,
          77244996,
          77244996,
          77244996,
          77244996,
          77244996,
          77244996,
          77244996,
          77244996,
          77244996,
          77244996,
          77244996,
          77244996,
          77244996,
          77244996,
          77244996,
          77244996,
          77244996,
          77244996,
          77244996,
          77244996,
          77244996,
          77244996,
          77244996,
          77244996,
          77244996,
          77244996,
          77244996,
          77244996,
          77244996,
          77244996,
          77244996,
          77244996,
          77244996,
          77244996,
          77244996,
          77244996,
          77244996
         ],
         "xaxis": "x",
         "y": [
          79.76,
          82.16,
          83.66,
          79.09,
          74.76,
          76.18,
          75.72,
          76.69,
          76.03,
          81.52,
          73.27,
          77.54,
          82.85,
          80.72,
          81.91,
          82.66,
          80.65,
          81.87,
          82.62,
          81.04,
          75.41,
          81.38,
          71.73,
          76.44,
          79.78,
          80.75,
          85.91,
          82.17,
          83.47,
          84.77,
          81.56,
          78.39,
          84.79,
          80.17,
          84.31,
          81.04,
          73.81,
          76.68,
          80.08,
          66.95,
          63.59,
          82.02
         ],
         "yaxis": "y"
        },
        {
         "hovertemplate": "State=karnataka<br>Ad Spend (INR)=%{x}<br>Voter Turnout (%)=%{y}<extra></extra>",
         "legendgroup": "karnataka",
         "marker": {
          "color": "#00cc96",
          "symbol": "circle"
         },
         "mode": "markers",
         "name": "karnataka",
         "orientation": "v",
         "showlegend": true,
         "type": "scatter",
         "x": [
          41659397,
          41659397,
          41659397,
          41659397,
          41659397,
          41659397,
          41659397,
          41659397,
          41659397,
          41659397,
          41659397,
          41659397,
          41659397,
          41659397,
          41659397,
          41659397,
          41659397,
          41659397,
          41659397,
          41659397,
          41659397,
          41659397,
          41659397,
          41659397,
          41659397,
          41659397,
          41659397,
          41659397
         ],
         "xaxis": "x",
         "y": [
          54.06,
          54.45,
          68.3,
          53.17,
          76.82,
          77,
          73.3,
          77.56,
          77.68,
          78.27,
          81.67,
          70.62,
          78.05,
          77.15,
          72.66,
          71.49,
          73.59,
          65.47,
          66.32,
          78.66,
          76.99,
          74.37,
          62.25,
          77.6,
          70.99,
          64.66,
          78.33,
          76.53
         ],
         "yaxis": "y"
        },
        {
         "hovertemplate": "State=kerala<br>Ad Spend (INR)=%{x}<br>Voter Turnout (%)=%{y}<extra></extra>",
         "legendgroup": "kerala",
         "marker": {
          "color": "#ab63fa",
          "symbol": "circle"
         },
         "mode": "markers",
         "name": "kerala",
         "orientation": "v",
         "showlegend": true,
         "type": "scatter",
         "x": [
          22681201,
          22681201,
          22681201,
          22681201,
          22681201,
          22681201,
          22681201,
          22681201,
          22681201,
          22681201,
          22681201,
          22681201,
          22681201,
          22681201,
          22681201,
          22681201,
          22681201,
          22681201,
          22681201,
          22681201
         ],
         "xaxis": "x",
         "y": [
          75.05,
          73.42,
          69.48,
          71.94,
          68.29,
          66.55,
          77.21,
          76.04,
          68.15,
          65.61,
          75.52,
          72.95,
          65.95,
          73.57,
          63.37,
          69.34,
          66.47,
          72.9,
          78.41,
          73.57
         ],
         "yaxis": "y"
        },
        {
         "hovertemplate": "State=dadra & nagar haveli and\ndaman & diu<br>Ad Spend (INR)=%{x}<br>Voter Turnout (%)=%{y}<extra></extra>",
         "legendgroup": "dadra & nagar haveli and\ndaman & diu",
         "marker": {
          "color": "#FFA15A",
          "symbol": "circle"
         },
         "mode": "markers",
         "name": "dadra & nagar haveli and\ndaman & diu",
         "orientation": "v",
         "showlegend": true,
         "type": "scatter",
         "x": [
          null,
          null
         ],
         "xaxis": "x",
         "y": [
          72.52,
          68.77
         ],
         "yaxis": "y"
        },
        {
         "hovertemplate": "State=goa<br>Ad Spend (INR)=%{x}<br>Voter Turnout (%)=%{y}<extra></extra>",
         "legendgroup": "goa",
         "marker": {
          "color": "#19d3f3",
          "symbol": "circle"
         },
         "mode": "markers",
         "name": "goa",
         "orientation": "v",
         "showlegend": true,
         "type": "scatter",
         "x": [
          2164209,
          2164209
         ],
         "xaxis": "x",
         "y": [
          77.69,
          74.47
         ],
         "yaxis": "y"
        },
        {
         "hovertemplate": "State=gujarat<br>Ad Spend (INR)=%{x}<br>Voter Turnout (%)=%{y}<extra></extra>",
         "legendgroup": "gujarat",
         "marker": {
          "color": "#FF6692",
          "symbol": "circle"
         },
         "mode": "markers",
         "name": "gujarat",
         "orientation": "v",
         "showlegend": true,
         "type": "scatter",
         "x": [
          40425399,
          40425399,
          40425399,
          40425399,
          40425399,
          40425399,
          40425399,
          40425399,
          40425399,
          40425399,
          40425399,
          40425399,
          40425399,
          40425399,
          40425399,
          40425399,
          40425399,
          40425399,
          40425399,
          40425399,
          40425399,
          40425399,
          40425399,
          40425399,
          40425399
         ],
         "xaxis": "x",
         "y": [
          54.72,
          55.45,
          50.29,
          65.04,
          69.62,
          64.81,
          69.16,
          53.92,
          69.15,
          59.31,
          59.8,
          57.67,
          58.91,
          56.14,
          58.12,
          59.86,
          59.66,
          58.85,
          58.56,
          51.83,
          59.69,
          63.56,
          55.09,
          61.59,
          72.71
         ],
         "yaxis": "y"
        },
        {
         "hovertemplate": "State=andhra pradesh<br>Ad Spend (INR)=%{x}<br>Voter Turnout (%)=%{y}<extra></extra>",
         "legendgroup": "andhra pradesh",
         "marker": {
          "color": "#B6E880",
          "symbol": "circle"
         },
         "mode": "markers",
         "name": "andhra pradesh",
         "orientation": "v",
         "showlegend": true,
         "type": "scatter",
         "x": [
          100819732,
          100819732,
          100819732,
          100819732,
          100819732,
          100819732,
          100819732,
          100819732,
          100819732,
          100819732,
          100819732,
          100819732,
          100819732,
          100819732,
          100819732,
          100819732,
          100819732,
          100819732,
          100819732,
          100819732,
          100819732,
          100819732,
          100819732,
          100819732,
          100819732
         ],
         "xaxis": "x",
         "y": [
          83.85,
          82.03,
          80.51,
          73.68,
          85.48,
          85.77,
          83.68,
          78.81,
          84.7,
          79.57,
          80.3,
          76.8,
          84.05,
          80.61,
          82.59,
          85.65,
          79.05,
          87.06,
          80.93,
          79.09,
          74.43,
          79.1,
          79.37,
          71.11,
          81.05
         ],
         "yaxis": "y"
        },
        {
         "hovertemplate": "State=jharkhand<br>Ad Spend (INR)=%{x}<br>Voter Turnout (%)=%{y}<extra></extra>",
         "legendgroup": "jharkhand",
         "marker": {
          "color": "#FF97FF",
          "symbol": "circle"
         },
         "mode": "markers",
         "name": "jharkhand",
         "orientation": "v",
         "showlegend": true,
         "type": "scatter",
         "x": [
          16380139,
          16380139,
          16380139,
          16380139,
          16380139,
          16380139,
          16380139,
          16380139,
          16380139,
          16380139,
          16380139,
          16380139,
          16380139,
          16380139
         ],
         "xaxis": "x",
         "y": [
          69.93,
          66.45,
          61.27,
          69.32,
          63.69,
          64.39,
          61.81,
          62.06,
          67.23,
          67.68,
          65.36,
          73.87,
          68.63,
          70.78
         ],
         "yaxis": "y"
        },
        {
         "hovertemplate": "State=odisha<br>Ad Spend (INR)=%{x}<br>Voter Turnout (%)=%{y}<extra></extra>",
         "legendgroup": "odisha",
         "marker": {
          "color": "#FECB52",
          "symbol": "circle"
         },
         "mode": "markers",
         "name": "odisha",
         "orientation": "v",
         "showlegend": true,
         "type": "scatter",
         "x": [
          180252277,
          180252277,
          180252277,
          180252277,
          180252277,
          180252277,
          180252277,
          180252277,
          180252277,
          180252277,
          180252277,
          180252277,
          180252277,
          180252277,
          180252277,
          180252277,
          180252277,
          180252277,
          180252277,
          180252277,
          180252277
         ],
         "xaxis": "x",
         "y": [
          65.41,
          77.9,
          77.53,
          82.16,
          62.67,
          79.78,
          77.52,
          74.16,
          73.02,
          64.49,
          71.2,
          78.01,
          78.97,
          75.43,
          79.5,
          76.77,
          73.23,
          75.48,
          74.47,
          71.22,
          75.79
         ],
         "yaxis": "y"
        },
        {
         "hovertemplate": "State=telangana<br>Ad Spend (INR)=%{x}<br>Voter Turnout (%)=%{y}<extra></extra>",
         "legendgroup": "telangana",
         "marker": {
          "color": "#636efa",
          "symbol": "circle"
         },
         "mode": "markers",
         "name": "telangana",
         "orientation": "v",
         "showlegend": true,
         "type": "scatter",
         "x": [
          54496166,
          54496166,
          54496166,
          54496166,
          54496166,
          54496166,
          54496166,
          54496166,
          54496166,
          54496166,
          54496166,
          54496166,
          54496166,
          54496166,
          54496166,
          54496166,
          54496166
         ],
         "xaxis": "x",
         "y": [
          74.03,
          76.78,
          56.4,
          48.48,
          72.54,
          76.09,
          71.85,
          72.43,
          50.78,
          75.09,
          69.46,
          74.02,
          71.92,
          67.87,
          49.04,
          68.86,
          74.63
         ],
         "yaxis": "y"
        },
        {
         "hovertemplate": "State=ladakh<br>Ad Spend (INR)=%{x}<br>Voter Turnout (%)=%{y}<extra></extra>",
         "legendgroup": "ladakh",
         "marker": {
          "color": "#EF553B",
          "symbol": "circle"
         },
         "mode": "markers",
         "name": "ladakh",
         "orientation": "v",
         "showlegend": true,
         "type": "scatter",
         "x": [
          null
         ],
         "xaxis": "x",
         "y": [
          71.82
         ],
         "yaxis": "y"
        },
        {
         "hovertemplate": "State=haryana<br>Ad Spend (INR)=%{x}<br>Voter Turnout (%)=%{y}<extra></extra>",
         "legendgroup": "haryana",
         "marker": {
          "color": "#00cc96",
          "symbol": "circle"
         },
         "mode": "markers",
         "name": "haryana",
         "orientation": "v",
         "showlegend": true,
         "type": "scatter",
         "x": [
          41683411,
          41683411,
          41683411,
          41683411,
          41683411,
          41683411,
          41683411,
          41683411,
          41683411,
          41683411
         ],
         "xaxis": "x",
         "y": [
          67.34,
          65.39,
          60.52,
          62.03,
          65.27,
          63.74,
          67.01,
          65.68,
          69.77,
          63.44
         ],
         "yaxis": "y"
        },
        {
         "hovertemplate": "State=nct of delhi<br>Ad Spend (INR)=%{x}<br>Voter Turnout (%)=%{y}<extra></extra>",
         "legendgroup": "nct of delhi",
         "marker": {
          "color": "#ab63fa",
          "symbol": "circle"
         },
         "mode": "markers",
         "name": "nct of delhi",
         "orientation": "v",
         "showlegend": true,
         "type": "scatter",
         "x": [
          null,
          null,
          null,
          null,
          null,
          null,
          null
         ],
         "xaxis": "x",
         "y": [
          58.6,
          59.51,
          55.43,
          62.89,
          57.85,
          56.45,
          58.79
         ],
         "yaxis": "y"
        },
        {
         "hovertemplate": "State=chandigarh<br>Ad Spend (INR)=%{x}<br>Voter Turnout (%)=%{y}<extra></extra>",
         "legendgroup": "chandigarh",
         "marker": {
          "color": "#FFA15A",
          "symbol": "circle"
         },
         "mode": "markers",
         "name": "chandigarh",
         "orientation": "v",
         "showlegend": true,
         "type": "scatter",
         "x": [
          6507258
         ],
         "xaxis": "x",
         "y": [
          67.98
         ],
         "yaxis": "y"
        },
        {
         "hovertemplate": "State=himachal pradesh<br>Ad Spend (INR)=%{x}<br>Voter Turnout (%)=%{y}<extra></extra>",
         "legendgroup": "himachal pradesh",
         "marker": {
          "color": "#19d3f3",
          "symbol": "circle"
         },
         "mode": "markers",
         "name": "himachal pradesh",
         "orientation": "v",
         "showlegend": true,
         "type": "scatter",
         "x": [
          12011616,
          12011616,
          12011616,
          12011616
         ],
         "xaxis": "x",
         "y": [
          71.56,
          67.89,
          73.15,
          71.26
         ],
         "yaxis": "y"
        },
        {
         "hovertemplate": "State=punjab<br>Ad Spend (INR)=%{x}<br>Voter Turnout (%)=%{y}<extra></extra>",
         "legendgroup": "punjab",
         "marker": {
          "color": "#FF6692",
          "symbol": "circle"
         },
         "mode": "markers",
         "name": "punjab",
         "orientation": "v",
         "showlegend": true,
         "type": "scatter",
         "x": [
          null,
          null,
          null,
          null,
          null,
          null,
          null,
          null,
          null,
          null,
          null,
          null,
          null
         ],
         "xaxis": "x",
         "y": [
          56.06,
          61.98,
          69.36,
          63.34,
          62.53,
          67.02,
          66.67,
          58.86,
          59.7,
          62.55,
          60.12,
          63.63,
          64.63
         ],
         "yaxis": "y"
        }
       ],
       "layout": {
        "height": 600,
        "legend": {
         "title": {
          "text": "State"
         },
         "tracegroupgap": 0
        },
        "template": {
         "data": {
          "bar": [
           {
            "error_x": {
             "color": "#2a3f5f"
            },
            "error_y": {
             "color": "#2a3f5f"
            },
            "marker": {
             "line": {
              "color": "white",
              "width": 0.5
             },
             "pattern": {
              "fillmode": "overlay",
              "size": 10,
              "solidity": 0.2
             }
            },
            "type": "bar"
           }
          ],
          "barpolar": [
           {
            "marker": {
             "line": {
              "color": "white",
              "width": 0.5
             },
             "pattern": {
              "fillmode": "overlay",
              "size": 10,
              "solidity": 0.2
             }
            },
            "type": "barpolar"
           }
          ],
          "carpet": [
           {
            "aaxis": {
             "endlinecolor": "#2a3f5f",
             "gridcolor": "#C8D4E3",
             "linecolor": "#C8D4E3",
             "minorgridcolor": "#C8D4E3",
             "startlinecolor": "#2a3f5f"
            },
            "baxis": {
             "endlinecolor": "#2a3f5f",
             "gridcolor": "#C8D4E3",
             "linecolor": "#C8D4E3",
             "minorgridcolor": "#C8D4E3",
             "startlinecolor": "#2a3f5f"
            },
            "type": "carpet"
           }
          ],
          "choropleth": [
           {
            "colorbar": {
             "outlinewidth": 0,
             "ticks": ""
            },
            "type": "choropleth"
           }
          ],
          "contour": [
           {
            "colorbar": {
             "outlinewidth": 0,
             "ticks": ""
            },
            "colorscale": [
             [
              0,
              "#0d0887"
             ],
             [
              0.1111111111111111,
              "#46039f"
             ],
             [
              0.2222222222222222,
              "#7201a8"
             ],
             [
              0.3333333333333333,
              "#9c179e"
             ],
             [
              0.4444444444444444,
              "#bd3786"
             ],
             [
              0.5555555555555556,
              "#d8576b"
             ],
             [
              0.6666666666666666,
              "#ed7953"
             ],
             [
              0.7777777777777778,
              "#fb9f3a"
             ],
             [
              0.8888888888888888,
              "#fdca26"
             ],
             [
              1,
              "#f0f921"
             ]
            ],
            "type": "contour"
           }
          ],
          "contourcarpet": [
           {
            "colorbar": {
             "outlinewidth": 0,
             "ticks": ""
            },
            "type": "contourcarpet"
           }
          ],
          "heatmap": [
           {
            "colorbar": {
             "outlinewidth": 0,
             "ticks": ""
            },
            "colorscale": [
             [
              0,
              "#0d0887"
             ],
             [
              0.1111111111111111,
              "#46039f"
             ],
             [
              0.2222222222222222,
              "#7201a8"
             ],
             [
              0.3333333333333333,
              "#9c179e"
             ],
             [
              0.4444444444444444,
              "#bd3786"
             ],
             [
              0.5555555555555556,
              "#d8576b"
             ],
             [
              0.6666666666666666,
              "#ed7953"
             ],
             [
              0.7777777777777778,
              "#fb9f3a"
             ],
             [
              0.8888888888888888,
              "#fdca26"
             ],
             [
              1,
              "#f0f921"
             ]
            ],
            "type": "heatmap"
           }
          ],
          "heatmapgl": [
           {
            "colorbar": {
             "outlinewidth": 0,
             "ticks": ""
            },
            "colorscale": [
             [
              0,
              "#0d0887"
             ],
             [
              0.1111111111111111,
              "#46039f"
             ],
             [
              0.2222222222222222,
              "#7201a8"
             ],
             [
              0.3333333333333333,
              "#9c179e"
             ],
             [
              0.4444444444444444,
              "#bd3786"
             ],
             [
              0.5555555555555556,
              "#d8576b"
             ],
             [
              0.6666666666666666,
              "#ed7953"
             ],
             [
              0.7777777777777778,
              "#fb9f3a"
             ],
             [
              0.8888888888888888,
              "#fdca26"
             ],
             [
              1,
              "#f0f921"
             ]
            ],
            "type": "heatmapgl"
           }
          ],
          "histogram": [
           {
            "marker": {
             "pattern": {
              "fillmode": "overlay",
              "size": 10,
              "solidity": 0.2
             }
            },
            "type": "histogram"
           }
          ],
          "histogram2d": [
           {
            "colorbar": {
             "outlinewidth": 0,
             "ticks": ""
            },
            "colorscale": [
             [
              0,
              "#0d0887"
             ],
             [
              0.1111111111111111,
              "#46039f"
             ],
             [
              0.2222222222222222,
              "#7201a8"
             ],
             [
              0.3333333333333333,
              "#9c179e"
             ],
             [
              0.4444444444444444,
              "#bd3786"
             ],
             [
              0.5555555555555556,
              "#d8576b"
             ],
             [
              0.6666666666666666,
              "#ed7953"
             ],
             [
              0.7777777777777778,
              "#fb9f3a"
             ],
             [
              0.8888888888888888,
              "#fdca26"
             ],
             [
              1,
              "#f0f921"
             ]
            ],
            "type": "histogram2d"
           }
          ],
          "histogram2dcontour": [
           {
            "colorbar": {
             "outlinewidth": 0,
             "ticks": ""
            },
            "colorscale": [
             [
              0,
              "#0d0887"
             ],
             [
              0.1111111111111111,
              "#46039f"
             ],
             [
              0.2222222222222222,
              "#7201a8"
             ],
             [
              0.3333333333333333,
              "#9c179e"
             ],
             [
              0.4444444444444444,
              "#bd3786"
             ],
             [
              0.5555555555555556,
              "#d8576b"
             ],
             [
              0.6666666666666666,
              "#ed7953"
             ],
             [
              0.7777777777777778,
              "#fb9f3a"
             ],
             [
              0.8888888888888888,
              "#fdca26"
             ],
             [
              1,
              "#f0f921"
             ]
            ],
            "type": "histogram2dcontour"
           }
          ],
          "mesh3d": [
           {
            "colorbar": {
             "outlinewidth": 0,
             "ticks": ""
            },
            "type": "mesh3d"
           }
          ],
          "parcoords": [
           {
            "line": {
             "colorbar": {
              "outlinewidth": 0,
              "ticks": ""
             }
            },
            "type": "parcoords"
           }
          ],
          "pie": [
           {
            "automargin": true,
            "type": "pie"
           }
          ],
          "scatter": [
           {
            "fillpattern": {
             "fillmode": "overlay",
             "size": 10,
             "solidity": 0.2
            },
            "type": "scatter"
           }
          ],
          "scatter3d": [
           {
            "line": {
             "colorbar": {
              "outlinewidth": 0,
              "ticks": ""
             }
            },
            "marker": {
             "colorbar": {
              "outlinewidth": 0,
              "ticks": ""
             }
            },
            "type": "scatter3d"
           }
          ],
          "scattercarpet": [
           {
            "marker": {
             "colorbar": {
              "outlinewidth": 0,
              "ticks": ""
             }
            },
            "type": "scattercarpet"
           }
          ],
          "scattergeo": [
           {
            "marker": {
             "colorbar": {
              "outlinewidth": 0,
              "ticks": ""
             }
            },
            "type": "scattergeo"
           }
          ],
          "scattergl": [
           {
            "marker": {
             "colorbar": {
              "outlinewidth": 0,
              "ticks": ""
             }
            },
            "type": "scattergl"
           }
          ],
          "scattermapbox": [
           {
            "marker": {
             "colorbar": {
              "outlinewidth": 0,
              "ticks": ""
             }
            },
            "type": "scattermapbox"
           }
          ],
          "scatterpolar": [
           {
            "marker": {
             "colorbar": {
              "outlinewidth": 0,
              "ticks": ""
             }
            },
            "type": "scatterpolar"
           }
          ],
          "scatterpolargl": [
           {
            "marker": {
             "colorbar": {
              "outlinewidth": 0,
              "ticks": ""
             }
            },
            "type": "scatterpolargl"
           }
          ],
          "scatterternary": [
           {
            "marker": {
             "colorbar": {
              "outlinewidth": 0,
              "ticks": ""
             }
            },
            "type": "scatterternary"
           }
          ],
          "surface": [
           {
            "colorbar": {
             "outlinewidth": 0,
             "ticks": ""
            },
            "colorscale": [
             [
              0,
              "#0d0887"
             ],
             [
              0.1111111111111111,
              "#46039f"
             ],
             [
              0.2222222222222222,
              "#7201a8"
             ],
             [
              0.3333333333333333,
              "#9c179e"
             ],
             [
              0.4444444444444444,
              "#bd3786"
             ],
             [
              0.5555555555555556,
              "#d8576b"
             ],
             [
              0.6666666666666666,
              "#ed7953"
             ],
             [
              0.7777777777777778,
              "#fb9f3a"
             ],
             [
              0.8888888888888888,
              "#fdca26"
             ],
             [
              1,
              "#f0f921"
             ]
            ],
            "type": "surface"
           }
          ],
          "table": [
           {
            "cells": {
             "fill": {
              "color": "#EBF0F8"
             },
             "line": {
              "color": "white"
             }
            },
            "header": {
             "fill": {
              "color": "#C8D4E3"
             },
             "line": {
              "color": "white"
             }
            },
            "type": "table"
           }
          ]
         },
         "layout": {
          "annotationdefaults": {
           "arrowcolor": "#2a3f5f",
           "arrowhead": 0,
           "arrowwidth": 1
          },
          "autotypenumbers": "strict",
          "coloraxis": {
           "colorbar": {
            "outlinewidth": 0,
            "ticks": ""
           }
          },
          "colorscale": {
           "diverging": [
            [
             0,
             "#8e0152"
            ],
            [
             0.1,
             "#c51b7d"
            ],
            [
             0.2,
             "#de77ae"
            ],
            [
             0.3,
             "#f1b6da"
            ],
            [
             0.4,
             "#fde0ef"
            ],
            [
             0.5,
             "#f7f7f7"
            ],
            [
             0.6,
             "#e6f5d0"
            ],
            [
             0.7,
             "#b8e186"
            ],
            [
             0.8,
             "#7fbc41"
            ],
            [
             0.9,
             "#4d9221"
            ],
            [
             1,
             "#276419"
            ]
           ],
           "sequential": [
            [
             0,
             "#0d0887"
            ],
            [
             0.1111111111111111,
             "#46039f"
            ],
            [
             0.2222222222222222,
             "#7201a8"
            ],
            [
             0.3333333333333333,
             "#9c179e"
            ],
            [
             0.4444444444444444,
             "#bd3786"
            ],
            [
             0.5555555555555556,
             "#d8576b"
            ],
            [
             0.6666666666666666,
             "#ed7953"
            ],
            [
             0.7777777777777778,
             "#fb9f3a"
            ],
            [
             0.8888888888888888,
             "#fdca26"
            ],
            [
             1,
             "#f0f921"
            ]
           ],
           "sequentialminus": [
            [
             0,
             "#0d0887"
            ],
            [
             0.1111111111111111,
             "#46039f"
            ],
            [
             0.2222222222222222,
             "#7201a8"
            ],
            [
             0.3333333333333333,
             "#9c179e"
            ],
            [
             0.4444444444444444,
             "#bd3786"
            ],
            [
             0.5555555555555556,
             "#d8576b"
            ],
            [
             0.6666666666666666,
             "#ed7953"
            ],
            [
             0.7777777777777778,
             "#fb9f3a"
            ],
            [
             0.8888888888888888,
             "#fdca26"
            ],
            [
             1,
             "#f0f921"
            ]
           ]
          },
          "colorway": [
           "#636efa",
           "#EF553B",
           "#00cc96",
           "#ab63fa",
           "#FFA15A",
           "#19d3f3",
           "#FF6692",
           "#B6E880",
           "#FF97FF",
           "#FECB52"
          ],
          "font": {
           "color": "#2a3f5f"
          },
          "geo": {
           "bgcolor": "white",
           "lakecolor": "white",
           "landcolor": "white",
           "showlakes": true,
           "showland": true,
           "subunitcolor": "#C8D4E3"
          },
          "hoverlabel": {
           "align": "left"
          },
          "hovermode": "closest",
          "mapbox": {
           "style": "light"
          },
          "paper_bgcolor": "white",
          "plot_bgcolor": "white",
          "polar": {
           "angularaxis": {
            "gridcolor": "#EBF0F8",
            "linecolor": "#EBF0F8",
            "ticks": ""
           },
           "bgcolor": "white",
           "radialaxis": {
            "gridcolor": "#EBF0F8",
            "linecolor": "#EBF0F8",
            "ticks": ""
           }
          },
          "scene": {
           "xaxis": {
            "backgroundcolor": "white",
            "gridcolor": "#DFE8F3",
            "gridwidth": 2,
            "linecolor": "#EBF0F8",
            "showbackground": true,
            "ticks": "",
            "zerolinecolor": "#EBF0F8"
           },
           "yaxis": {
            "backgroundcolor": "white",
            "gridcolor": "#DFE8F3",
            "gridwidth": 2,
            "linecolor": "#EBF0F8",
            "showbackground": true,
            "ticks": "",
            "zerolinecolor": "#EBF0F8"
           },
           "zaxis": {
            "backgroundcolor": "white",
            "gridcolor": "#DFE8F3",
            "gridwidth": 2,
            "linecolor": "#EBF0F8",
            "showbackground": true,
            "ticks": "",
            "zerolinecolor": "#EBF0F8"
           }
          },
          "shapedefaults": {
           "line": {
            "color": "#2a3f5f"
           }
          },
          "ternary": {
           "aaxis": {
            "gridcolor": "#DFE8F3",
            "linecolor": "#A2B1C6",
            "ticks": ""
           },
           "baxis": {
            "gridcolor": "#DFE8F3",
            "linecolor": "#A2B1C6",
            "ticks": ""
           },
           "bgcolor": "white",
           "caxis": {
            "gridcolor": "#DFE8F3",
            "linecolor": "#A2B1C6",
            "ticks": ""
           }
          },
          "title": {
           "x": 0.05
          },
          "xaxis": {
           "automargin": true,
           "gridcolor": "#EBF0F8",
           "linecolor": "#EBF0F8",
           "ticks": "",
           "title": {
            "standoff": 15
           },
           "zerolinecolor": "#EBF0F8",
           "zerolinewidth": 2
          },
          "yaxis": {
           "automargin": true,
           "gridcolor": "#EBF0F8",
           "linecolor": "#EBF0F8",
           "ticks": "",
           "title": {
            "standoff": 15
           },
           "zerolinecolor": "#EBF0F8",
           "zerolinewidth": 2
          }
         }
        },
        "title": {
         "text": "Ad Spend and Voter Turnout by Parliamentary Constituency"
        },
        "width": 800,
        "xaxis": {
         "anchor": "y",
         "autorange": true,
         "domain": [
          0,
          1
         ],
         "range": [
          -12015059.472805602,
          192287183.4728056
         ],
         "title": {
          "text": "Ad Spend (INR)"
         }
        },
        "yaxis": {
         "anchor": "x",
         "autorange": true,
         "domain": [
          0,
          1
         ],
         "range": [
          34.9101012145749,
          95.6598987854251
         ],
         "title": {
          "text": "Voter Turnout (%)"
         },
         "type": "linear"
        }
       }
      },
      "image/png": "[encoded data removed]",
      "text/html": [
       "<div>                            <div id=\"c68645f2-4df0-44ab-8797-23d539e2c798\" class=\"plotly-graph-div\" style=\"height:600px; width:800px;\"></div>            <script type=\"text/javascript\">                require([\"plotly\"], function(Plotly) {                    window.PLOTLYENV=window.PLOTLYENV || {};                                    if (document.getElementById(\"c68645f2-4df0-44ab-8797-23d539e2c798\")) {                    Plotly.newPlot(                        \"c68645f2-4df0-44ab-8797-23d539e2c798\",                        [{\"hovertemplate\":\"State=andaman & nicobar islands<br>Ad Spend (INR)=%{x}<br>Voter Turnout (%)=%{y}<extra></extra>\",\"legendgroup\":\"andaman & nicobar islands\",\"marker\":{\"color\":\"#636efa\",\"symbol\":\"circle\"},\"mode\":\"markers\",\"name\":\"andaman & nicobar islands\",\"orientation\":\"v\",\"showlegend\":true,\"x\":[null],\"xaxis\":\"x\",\"y\":[64.1],\"yaxis\":\"y\",\"type\":\"scatter\"},{\"hovertemplate\":\"State=arunachal pradesh<br>Ad Spend (INR)=%{x}<br>Voter Turnout (%)=%{y}<extra></extra>\",\"legendgroup\":\"arunachal pradesh\",\"marker\":{\"color\":\"#EF553B\",\"symbol\":\"circle\"},\"mode\":\"markers\",\"name\":\"arunachal pradesh\",\"orientation\":\"v\",\"showlegend\":true,\"x\":[1385654.0,1385654.0],\"xaxis\":\"x\",\"y\":[83.31,73.6],\"yaxis\":\"y\",\"type\":\"scatter\"},{\"hovertemplate\":\"State=assam<br>Ad Spend (INR)=%{x}<br>Voter Turnout (%)=%{y}<extra></extra>\",\"legendgroup\":\"assam\",\"marker\":{\"color\":\"#00cc96\",\"symbol\":\"circle\"},\"mode\":\"markers\",\"name\":\"assam\",\"orientation\":\"v\",\"showlegend\":true,\"x\":[17478091.0,17478091.0,17478091.0,17478091.0,17478091.0,17478091.0,17478091.0,17478091.0,17478091.0,17478091.0,17478091.0,17478091.0,17478091.0,17478091.0],\"xaxis\":\"x\",\"y\":[76.75,79.89,79.33,76.42,78.46,82.01,75.74,80.48,84.97,79.05,85.24,92.08,78.39,83.55],\"yaxis\":\"y\",\"type\":\"scatter\"},{\"hovertemplate\":\"State=bihar<br>Ad Spend (INR)=%{x}<br>Voter Turnout (%)=%{y}<extra></extra>\",\"legendgroup\":\"bihar\",\"marker\":{\"color\":\"#ab63fa\",\"symbol\":\"circle\"},\"mode\":\"markers\",\"name\":\"bihar\",\"orientation\":\"v\",\"showlegend\":true,\"x\":[53619242.0,53619242.0,53619242.0,53619242.0,53619242.0,53619242.0,53619242.0,53619242.0,53619242.0,53619242.0,53619242.0,53619242.0,53619242.0,53619242.0,53619242.0,53619242.0,53619242.0,53619242.0,53619242.0,53619242.0,53619242.0,53619242.0,53619242.0,53619242.0,53619242.0,53619242.0,53619242.0,53619242.0,53619242.0,53619242.0,53619242.0,53619242.0,53619242.0,53619242.0,53619242.0,53619242.0,53619242.0,53619242.0,53619242.0,53619242.0],\"xaxis\":\"x\",\"y\":[50.35,52.76,51.25,43.17,54.48,53.5,63.76,62.84,63.08,61.93,54.48,57.52,58.29,63.55,58.7,57.37,55.55,60.11,59.59,58.43,53.04,59.47,56.73,56.21,52.32,52.27,61.62,59.68,57.4,52.49,62.59,60.19,50.27,55.39,55.09,54.68,49.78,59.24,46.85,57.16],\"yaxis\":\"y\",\"type\":\"scatter\"},{\"hovertemplate\":\"State=chhattisgarh<br>Ad Spend (INR)=%{x}<br>Voter Turnout (%)=%{y}<extra></extra>\",\"legendgroup\":\"chhattisgarh\",\"marker\":{\"color\":\"#FFA15A\",\"symbol\":\"circle\"},\"mode\":\"markers\",\"name\":\"chhattisgarh\",\"orientation\":\"v\",\"showlegend\":true,\"x\":[14803286.0,14803286.0,14803286.0,14803286.0,14803286.0,14803286.0,14803286.0,14803286.0,14803286.0,14803286.0,14803286.0],\"xaxis\":\"x\",\"y\":[68.29,76.23,75.02,77.42,64.77,73.68,67.56,75.63,78.85,66.82,79.89],\"yaxis\":\"y\",\"type\":\"scatter\"},{\"hovertemplate\":\"State=jammu and kashmir<br>Ad Spend (INR)=%{x}<br>Voter Turnout (%)=%{y}<extra></extra>\",\"legendgroup\":\"jammu and kashmir\",\"marker\":{\"color\":\"#19d3f3\",\"symbol\":\"circle\"},\"mode\":\"markers\",\"name\":\"jammu and kashmir\",\"orientation\":\"v\",\"showlegend\":true,\"x\":[6575061.0,6575061.0,6575061.0,6575061.0,6575061.0],\"xaxis\":\"x\",\"y\":[68.27,72.22,38.49,59.1,55.4],\"yaxis\":\"y\",\"type\":\"scatter\"},{\"hovertemplate\":\"State=lakshadweep<br>Ad Spend (INR)=%{x}<br>Voter Turnout (%)=%{y}<extra></extra>\",\"legendgroup\":\"lakshadweep\",\"marker\":{\"color\":\"#FF6692\",\"symbol\":\"circle\"},\"mode\":\"markers\",\"name\":\"lakshadweep\",\"orientation\":\"v\",\"showlegend\":true,\"x\":[19847.0],\"xaxis\":\"x\",\"y\":[84.16],\"yaxis\":\"y\",\"type\":\"scatter\"},{\"hovertemplate\":\"State=madhya pradesh<br>Ad Spend (INR)=%{x}<br>Voter Turnout (%)=%{y}<extra></extra>\",\"legendgroup\":\"madhya pradesh\",\"marker\":{\"color\":\"#B6E880\",\"symbol\":\"circle\"},\"mode\":\"markers\",\"name\":\"madhya pradesh\",\"orientation\":\"v\",\"showlegend\":true,\"x\":[39992952.0,39992952.0,39992952.0,39992952.0,39992952.0,39992952.0,39992952.0,39992952.0,39992952.0,39992952.0,39992952.0,39992952.0,39992952.0,39992952.0,39992952.0,39992952.0,39992952.0,39992952.0,39992952.0,39992952.0,39992952.0,39992952.0,39992952.0,39992952.0,39992952.0,39992952.0,39992952.0,39992952.0,39992952.0],\"xaxis\":\"x\",\"y\":[73.45,79.83,61.0,72.84,64.68,56.5,56.48,67.21,56.97,49.43,61.94,60.0,73.53,54.93,64.06,72.43,62.13,58.97,76.04,65.75,74.48,75.48,72.76,61.67,71.52,76.03,75.27,72.94,73.82],\"yaxis\":\"y\",\"type\":\"scatter\"},{\"hovertemplate\":\"State=maharashtra<br>Ad Spend (INR)=%{x}<br>Voter Turnout (%)=%{y}<extra></extra>\",\"legendgroup\":\"maharashtra\",\"marker\":{\"color\":\"#FF97FF\",\"symbol\":\"circle\"},\"mode\":\"markers\",\"name\":\"maharashtra\",\"orientation\":\"v\",\"showlegend\":true,\"x\":[101917091.0,101917091.0,101917091.0,101917091.0,101917091.0,101917091.0,101917091.0,101917091.0,101917091.0,101917091.0,101917091.0,101917091.0,101917091.0,101917091.0,101917091.0,101917091.0,101917091.0,101917091.0,101917091.0,101917091.0,101917091.0,101917091.0,101917091.0,101917091.0,101917091.0,101917091.0,101917091.0,101917091.0,101917091.0,101917091.0,101917091.0,101917091.0,101917091.0,101917091.0,101917091.0,101917091.0,101917091.0,101917091.0,101917091.0,101917091.0,101917091.0,101917091.0,101917091.0,101917091.0,101917091.0,101917091.0,101917091.0,101917091.0],\"xaxis\":\"x\",\"y\":[67.04,67.55,71.88,54.32,61.01,61.79,63.67,62.03,63.54,60.94,62.26,64.85,62.87,59.5,71.11,71.59,62.59,63.65,63.88,60.51,62.52,62.27,63.16,59.19,66.61,63.03,70.92,58.47,69.18,54.87,70.68,53.54,64.28,63.03,54.16,59.89,60.21,66.75,50.12,57.02,51.98,56.37,54.84,50.06,53.6,60.75,63.91,52.09],\"yaxis\":\"y\",\"type\":\"scatter\"},{\"hovertemplate\":\"State=manipur<br>Ad Spend (INR)=%{x}<br>Voter Turnout (%)=%{y}<extra></extra>\",\"legendgroup\":\"manipur\",\"marker\":{\"color\":\"#FECB52\",\"symbol\":\"circle\"},\"mode\":\"markers\",\"name\":\"manipur\",\"orientation\":\"v\",\"showlegend\":true,\"x\":[889062.0,889062.0,889062.0],\"xaxis\":\"x\",\"y\":[80.15,68.83,85.11],\"yaxis\":\"y\",\"type\":\"scatter\"},{\"hovertemplate\":\"State=meghalaya<br>Ad Spend (INR)=%{x}<br>Voter Turnout (%)=%{y}<extra></extra>\",\"legendgroup\":\"meghalaya\",\"marker\":{\"color\":\"#636efa\",\"symbol\":\"circle\"},\"mode\":\"markers\",\"name\":\"meghalaya\",\"orientation\":\"v\",\"showlegend\":true,\"x\":[884220.0,884220.0],\"xaxis\":\"x\",\"y\":[73.78,81.37],\"yaxis\":\"y\",\"type\":\"scatter\"},{\"hovertemplate\":\"State=mizoram<br>Ad Spend (INR)=%{x}<br>Voter Turnout (%)=%{y}<extra></extra>\",\"legendgroup\":\"mizoram\",\"marker\":{\"color\":\"#EF553B\",\"symbol\":\"circle\"},\"mode\":\"markers\",\"name\":\"mizoram\",\"orientation\":\"v\",\"showlegend\":true,\"x\":[481052.0],\"xaxis\":\"x\",\"y\":[56.87],\"yaxis\":\"y\",\"type\":\"scatter\"},{\"hovertemplate\":\"State=nagaland<br>Ad Spend (INR)=%{x}<br>Voter Turnout (%)=%{y}<extra></extra>\",\"legendgroup\":\"nagaland\",\"marker\":{\"color\":\"#00cc96\",\"symbol\":\"circle\"},\"mode\":\"markers\",\"name\":\"nagaland\",\"orientation\":\"v\",\"showlegend\":true,\"x\":[599170.0],\"xaxis\":\"x\",\"y\":[57.72],\"yaxis\":\"y\",\"type\":\"scatter\"},{\"hovertemplate\":\"State=puducherry<br>Ad Spend (INR)=%{x}<br>Voter Turnout (%)=%{y}<extra></extra>\",\"legendgroup\":\"puducherry\",\"marker\":{\"color\":\"#ab63fa\",\"symbol\":\"circle\"},\"mode\":\"markers\",\"name\":\"puducherry\",\"orientation\":\"v\",\"showlegend\":true,\"x\":[1535672.0],\"xaxis\":\"x\",\"y\":[78.9],\"yaxis\":\"y\",\"type\":\"scatter\"},{\"hovertemplate\":\"State=rajasthan<br>Ad Spend (INR)=%{x}<br>Voter Turnout (%)=%{y}<extra></extra>\",\"legendgroup\":\"rajasthan\",\"marker\":{\"color\":\"#FFA15A\",\"symbol\":\"circle\"},\"mode\":\"markers\",\"name\":\"rajasthan\",\"orientation\":\"v\",\"showlegend\":true,\"x\":[41268323.0,41268323.0,41268323.0,41268323.0,41268323.0,41268323.0,41268323.0,41268323.0,41268323.0,41268323.0,41268323.0,41268323.0,41268323.0,41268323.0,41268323.0,41268323.0,41268323.0,41268323.0,41268323.0,41268323.0,41268323.0,41268323.0,41268323.0,41268323.0,41268323.0],\"xaxis\":\"x\",\"y\":[60.07,52.8,54.11,63.61,55.72,66.59,63.38,56.7,52.93,49.59,57.23,57.53,59.66,73.88,75.93,60.37,68.61,62.89,69.71,64.27,71.26,57.19,58.39,56.58,66.66],\"yaxis\":\"y\",\"type\":\"scatter\"},{\"hovertemplate\":\"State=sikkim<br>Ad Spend (INR)=%{x}<br>Voter Turnout (%)=%{y}<extra></extra>\",\"legendgroup\":\"sikkim\",\"marker\":{\"color\":\"#19d3f3\",\"symbol\":\"circle\"},\"mode\":\"markers\",\"name\":\"sikkim\",\"orientation\":\"v\",\"showlegend\":true,\"x\":[4379297.0],\"xaxis\":\"x\",\"y\":[79.88],\"yaxis\":\"y\",\"type\":\"scatter\"},{\"hovertemplate\":\"State=tamil nadu<br>Ad Spend (INR)=%{x}<br>Voter Turnout (%)=%{y}<extra></extra>\",\"legendgroup\":\"tamil nadu\",\"marker\":{\"color\":\"#FF6692\",\"symbol\":\"circle\"},\"mode\":\"markers\",\"name\":\"tamil nadu\",\"orientation\":\"v\",\"showlegend\":true,\"x\":[76622608.0,76622608.0,76622608.0,76622608.0,76622608.0,76622608.0,76622608.0,76622608.0,76622608.0,76622608.0,76622608.0,76622608.0,76622608.0,76622608.0,76622608.0,76622608.0,76622608.0,76622608.0,76622608.0,76622608.0,76622608.0,76622608.0,76622608.0,76622608.0,76622608.0,76622608.0,76622608.0,76622608.0,76622608.0,76622608.0,76622608.0,76622608.0,76622608.0,76622608.0,76622608.0,76622608.0,76622608.0,76622608.0,76622608.0],\"xaxis\":\"x\",\"y\":[74.19,75.76,53.96,60.11,54.17,76.37,64.89,72.57,81.2,71.14,70.59,79.21,71.68,65.44,78.7,71.5,62.04,70.09,71.94,78.21,70.95,77.43,70.41,68.19,78.16,64.26,60.25,67.65,68.27,69.84,66.88,67.51,64.1,70.62,68.59,74.24,73.53,76.52,70.22],\"yaxis\":\"y\",\"type\":\"scatter\"},{\"hovertemplate\":\"State=tripura<br>Ad Spend (INR)=%{x}<br>Voter Turnout (%)=%{y}<extra></extra>\",\"legendgroup\":\"tripura\",\"marker\":{\"color\":\"#B6E880\",\"symbol\":\"circle\"},\"mode\":\"markers\",\"name\":\"tripura\",\"orientation\":\"v\",\"showlegend\":true,\"x\":[1857459.0,1857459.0],\"xaxis\":\"x\",\"y\":[81.48,80.36],\"yaxis\":\"y\",\"type\":\"scatter\"},{\"hovertemplate\":\"State=uttar pradesh<br>Ad Spend (INR)=%{x}<br>Voter Turnout (%)=%{y}<extra></extra>\",\"legendgroup\":\"uttar pradesh\",\"marker\":{\"color\":\"#FF97FF\",\"symbol\":\"circle\"},\"mode\":\"markers\",\"name\":\"uttar pradesh\",\"orientation\":\"v\",\"showlegend\":true,\"x\":[89668131.0,89668131.0,89668131.0,89668131.0,89668131.0,89668131.0,89668131.0,89668131.0,89668131.0,89668131.0,89668131.0,89668131.0,89668131.0,89668131.0,89668131.0,89668131.0,89668131.0,89668131.0,89668131.0,89668131.0,89668131.0,89668131.0,89668131.0,89668131.0,89668131.0,89668131.0,89668131.0,89668131.0,89668131.0,89668131.0,89668131.0,89668131.0,89668131.0,89668131.0,89668131.0,89668131.0,89668131.0,89668131.0,89668131.0,89668131.0,89668131.0,89668131.0,89668131.0,89668131.0,89668131.0,89668131.0,89668131.0,89668131.0,89668131.0,89668131.0,89668131.0,89668131.0,89668131.0,89668131.0,89668131.0,89668131.0,89668131.0,89668131.0,89668131.0,89668131.0,89668131.0,89668131.0,89668131.0,89668131.0,89668131.0,89668131.0,89668131.0,89668131.0,89668131.0,89668131.0,89668131.0,89668131.0,89668131.0,89668131.0,89668131.0,89668131.0,89668131.0,89668131.0,89668131.0,89668131.0],\"xaxis\":\"x\",\"y\":[58.73,62.46,62.18,59.13,60.75,63.11,55.85,66.14,56.93,64.58,56.16,56.42,53.63,49.88,49.41,58.94,54.08,57.44,54.35,58.03,59.31,57.19,58.53,55.71,58.73,62.91,57.78,57.42,64.54,56.36,59.08,57.52,61.08,53.05,64.68,55.89,53.36,62.54,55.46,54.34,59.7,67.2,59.14,57.09,51.62,60.6,56.18,63.86,55.68,52.8,52.28,62.88,58.12,51.82,61.58,56.16,56.67,53.07,51.97,55.59,54.38,54.49,48.91,51.45,52.57,52.83,55.63,52.05,51.79,60.58,55.51,55.45,55.05,54.93,57.57,60.31,57.92,56.78,51.38,56.49],\"yaxis\":\"y\",\"type\":\"scatter\"},{\"hovertemplate\":\"State=uttarakhand<br>Ad Spend (INR)=%{x}<br>Voter Turnout (%)=%{y}<extra></extra>\",\"legendgroup\":\"uttarakhand\",\"marker\":{\"color\":\"#FECB52\",\"symbol\":\"circle\"},\"mode\":\"markers\",\"name\":\"uttarakhand\",\"orientation\":\"v\",\"showlegend\":true,\"x\":[7140897.0,7140897.0,7140897.0,7140897.0,7140897.0],\"xaxis\":\"x\",\"y\":[48.74,52.42,63.53,62.47,53.76],\"yaxis\":\"y\",\"type\":\"scatter\"},{\"hovertemplate\":\"State=west bengal<br>Ad Spend (INR)=%{x}<br>Voter Turnout (%)=%{y}<extra></extra>\",\"legendgroup\":\"west bengal\",\"marker\":{\"color\":\"#636efa\",\"symbol\":\"circle\"},\"mode\":\"markers\",\"name\":\"west bengal\",\"orientation\":\"v\",\"showlegend\":true,\"x\":[77244996.0,77244996.0,77244996.0,77244996.0,77244996.0,77244996.0,77244996.0,77244996.0,77244996.0,77244996.0,77244996.0,77244996.0,77244996.0,77244996.0,77244996.0,77244996.0,77244996.0,77244996.0,77244996.0,77244996.0,77244996.0,77244996.0,77244996.0,77244996.0,77244996.0,77244996.0,77244996.0,77244996.0,77244996.0,77244996.0,77244996.0,77244996.0,77244996.0,77244996.0,77244996.0,77244996.0,77244996.0,77244996.0,77244996.0,77244996.0,77244996.0,77244996.0],\"xaxis\":\"x\",\"y\":[79.76,82.16,83.66,79.09,74.76,76.18,75.72,76.69,76.03,81.52,73.27,77.54,82.85,80.72,81.91,82.66,80.65,81.87,82.62,81.04,75.41,81.38,71.73,76.44,79.78,80.75,85.91,82.17,83.47,84.77,81.56,78.39,84.79,80.17,84.31,81.04,73.81,76.68,80.08,66.95,63.59,82.02],\"yaxis\":\"y\",\"type\":\"scatter\"},{\"hovertemplate\":\"State=karnataka<br>Ad Spend (INR)=%{x}<br>Voter Turnout (%)=%{y}<extra></extra>\",\"legendgroup\":\"karnataka\",\"marker\":{\"color\":\"#00cc96\",\"symbol\":\"circle\"},\"mode\":\"markers\",\"name\":\"karnataka\",\"orientation\":\"v\",\"showlegend\":true,\"x\":[41659397.0,41659397.0,41659397.0,41659397.0,41659397.0,41659397.0,41659397.0,41659397.0,41659397.0,41659397.0,41659397.0,41659397.0,41659397.0,41659397.0,41659397.0,41659397.0,41659397.0,41659397.0,41659397.0,41659397.0,41659397.0,41659397.0,41659397.0,41659397.0,41659397.0,41659397.0,41659397.0,41659397.0],\"xaxis\":\"x\",\"y\":[54.06,54.45,68.3,53.17,76.82,77.0,73.3,77.56,77.68,78.27,81.67,70.62,78.05,77.15,72.66,71.49,73.59,65.47,66.32,78.66,76.99,74.37,62.25,77.6,70.99,64.66,78.33,76.53],\"yaxis\":\"y\",\"type\":\"scatter\"},{\"hovertemplate\":\"State=kerala<br>Ad Spend (INR)=%{x}<br>Voter Turnout (%)=%{y}<extra></extra>\",\"legendgroup\":\"kerala\",\"marker\":{\"color\":\"#ab63fa\",\"symbol\":\"circle\"},\"mode\":\"markers\",\"name\":\"kerala\",\"orientation\":\"v\",\"showlegend\":true,\"x\":[22681201.0,22681201.0,22681201.0,22681201.0,22681201.0,22681201.0,22681201.0,22681201.0,22681201.0,22681201.0,22681201.0,22681201.0,22681201.0,22681201.0,22681201.0,22681201.0,22681201.0,22681201.0,22681201.0,22681201.0],\"xaxis\":\"x\",\"y\":[75.05,73.42,69.48,71.94,68.29,66.55,77.21,76.04,68.15,65.61,75.52,72.95,65.95,73.57,63.37,69.34,66.47,72.9,78.41,73.57],\"yaxis\":\"y\",\"type\":\"scatter\"},{\"hovertemplate\":\"State=dadra & nagar haveli and\\ndaman & diu<br>Ad Spend (INR)=%{x}<br>Voter Turnout (%)=%{y}<extra></extra>\",\"legendgroup\":\"dadra & nagar haveli and\\ndaman & diu\",\"marker\":{\"color\":\"#FFA15A\",\"symbol\":\"circle\"},\"mode\":\"markers\",\"name\":\"dadra & nagar haveli and\\ndaman & diu\",\"orientation\":\"v\",\"showlegend\":true,\"x\":[null,null],\"xaxis\":\"x\",\"y\":[72.52,68.77],\"yaxis\":\"y\",\"type\":\"scatter\"},{\"hovertemplate\":\"State=goa<br>Ad Spend (INR)=%{x}<br>Voter Turnout (%)=%{y}<extra></extra>\",\"legendgroup\":\"goa\",\"marker\":{\"color\":\"#19d3f3\",\"symbol\":\"circle\"},\"mode\":\"markers\",\"name\":\"goa\",\"orientation\":\"v\",\"showlegend\":true,\"x\":[2164209.0,2164209.0],\"xaxis\":\"x\",\"y\":[77.69,74.47],\"yaxis\":\"y\",\"type\":\"scatter\"},{\"hovertemplate\":\"State=gujarat<br>Ad Spend (INR)=%{x}<br>Voter Turnout (%)=%{y}<extra></extra>\",\"legendgroup\":\"gujarat\",\"marker\":{\"color\":\"#FF6692\",\"symbol\":\"circle\"},\"mode\":\"markers\",\"name\":\"gujarat\",\"orientation\":\"v\",\"showlegend\":true,\"x\":[40425399.0,40425399.0,40425399.0,40425399.0,40425399.0,40425399.0,40425399.0,40425399.0,40425399.0,40425399.0,40425399.0,40425399.0,40425399.0,40425399.0,40425399.0,40425399.0,40425399.0,40425399.0,40425399.0,40425399.0,40425399.0,40425399.0,40425399.0,40425399.0,40425399.0],\"xaxis\":\"x\",\"y\":[54.72,55.45,50.29,65.04,69.62,64.81,69.16,53.92,69.15,59.31,59.8,57.67,58.91,56.14,58.12,59.86,59.66,58.85,58.56,51.83,59.69,63.56,55.09,61.59,72.71],\"yaxis\":\"y\",\"type\":\"scatter\"},{\"hovertemplate\":\"State=andhra pradesh<br>Ad Spend (INR)=%{x}<br>Voter Turnout (%)=%{y}<extra></extra>\",\"legendgroup\":\"andhra pradesh\",\"marker\":{\"color\":\"#B6E880\",\"symbol\":\"circle\"},\"mode\":\"markers\",\"name\":\"andhra pradesh\",\"orientation\":\"v\",\"showlegend\":true,\"x\":[100819732.0,100819732.0,100819732.0,100819732.0,100819732.0,100819732.0,100819732.0,100819732.0,100819732.0,100819732.0,100819732.0,100819732.0,100819732.0,100819732.0,100819732.0,100819732.0,100819732.0,100819732.0,100819732.0,100819732.0,100819732.0,100819732.0,100819732.0,100819732.0,100819732.0],\"xaxis\":\"x\",\"y\":[83.85,82.03,80.51,73.68,85.48,85.77,83.68,78.81,84.7,79.57,80.3,76.8,84.05,80.61,82.59,85.65,79.05,87.06,80.93,79.09,74.43,79.1,79.37,71.11,81.05],\"yaxis\":\"y\",\"type\":\"scatter\"},{\"hovertemplate\":\"State=jharkhand<br>Ad Spend (INR)=%{x}<br>Voter Turnout (%)=%{y}<extra></extra>\",\"legendgroup\":\"jharkhand\",\"marker\":{\"color\":\"#FF97FF\",\"symbol\":\"circle\"},\"mode\":\"markers\",\"name\":\"jharkhand\",\"orientation\":\"v\",\"showlegend\":true,\"x\":[16380139.0,16380139.0,16380139.0,16380139.0,16380139.0,16380139.0,16380139.0,16380139.0,16380139.0,16380139.0,16380139.0,16380139.0,16380139.0,16380139.0],\"xaxis\":\"x\",\"y\":[69.93,66.45,61.27,69.32,63.69,64.39,61.81,62.06,67.23,67.68,65.36,73.87,68.63,70.78],\"yaxis\":\"y\",\"type\":\"scatter\"},{\"hovertemplate\":\"State=odisha<br>Ad Spend (INR)=%{x}<br>Voter Turnout (%)=%{y}<extra></extra>\",\"legendgroup\":\"odisha\",\"marker\":{\"color\":\"#FECB52\",\"symbol\":\"circle\"},\"mode\":\"markers\",\"name\":\"odisha\",\"orientation\":\"v\",\"showlegend\":true,\"x\":[180252277.0,180252277.0,180252277.0,180252277.0,180252277.0,180252277.0,180252277.0,180252277.0,180252277.0,180252277.0,180252277.0,180252277.0,180252277.0,180252277.0,180252277.0,180252277.0,180252277.0,180252277.0,180252277.0,180252277.0,180252277.0],\"xaxis\":\"x\",\"y\":[65.41,77.9,77.53,82.16,62.67,79.78,77.52,74.16,73.02,64.49,71.2,78.01,78.97,75.43,79.5,76.77,73.23,75.48,74.47,71.22,75.79],\"yaxis\":\"y\",\"type\":\"scatter\"},{\"hovertemplate\":\"State=telangana<br>Ad Spend (INR)=%{x}<br>Voter Turnout (%)=%{y}<extra></extra>\",\"legendgroup\":\"telangana\",\"marker\":{\"color\":\"#636efa\",\"symbol\":\"circle\"},\"mode\":\"markers\",\"name\":\"telangana\",\"orientation\":\"v\",\"showlegend\":true,\"x\":[54496166.0,54496166.0,54496166.0,54496166.0,54496166.0,54496166.0,54496166.0,54496166.0,54496166.0,54496166.0,54496166.0,54496166.0,54496166.0,54496166.0,54496166.0,54496166.0,54496166.0],\"xaxis\":\"x\",\"y\":[74.03,76.78,56.4,48.48,72.54,76.09,71.85,72.43,50.78,75.09,69.46,74.02,71.92,67.87,49.04,68.86,74.63],\"yaxis\":\"y\",\"type\":\"scatter\"},{\"hovertemplate\":\"State=ladakh<br>Ad Spend (INR)=%{x}<br>Voter Turnout (%)=%{y}<extra></extra>\",\"legendgroup\":\"ladakh\",\"marker\":{\"color\":\"#EF553B\",\"symbol\":\"circle\"},\"mode\":\"markers\",\"name\":\"ladakh\",\"orientation\":\"v\",\"showlegend\":true,\"x\":[null],\"xaxis\":\"x\",\"y\":[71.82],\"yaxis\":\"y\",\"type\":\"scatter\"},{\"hovertemplate\":\"State=haryana<br>Ad Spend (INR)=%{x}<br>Voter Turnout (%)=%{y}<extra></extra>\",\"legendgroup\":\"haryana\",\"marker\":{\"color\":\"#00cc96\",\"symbol\":\"circle\"},\"mode\":\"markers\",\"name\":\"haryana\",\"orientation\":\"v\",\"showlegend\":true,\"x\":[41683411.0,41683411.0,41683411.0,41683411.0,41683411.0,41683411.0,41683411.0,41683411.0,41683411.0,41683411.0],\"xaxis\":\"x\",\"y\":[67.34,65.39,60.52,62.03,65.27,63.74,67.01,65.68,69.77,63.44],\"yaxis\":\"y\",\"type\":\"scatter\"},{\"hovertemplate\":\"State=nct of delhi<br>Ad Spend (INR)=%{x}<br>Voter Turnout (%)=%{y}<extra></extra>\",\"legendgroup\":\"nct of delhi\",\"marker\":{\"color\":\"#ab63fa\",\"symbol\":\"circle\"},\"mode\":\"markers\",\"name\":\"nct of delhi\",\"orientation\":\"v\",\"showlegend\":true,\"x\":[null,null,null,null,null,null,null],\"xaxis\":\"x\",\"y\":[58.6,59.51,55.43,62.89,57.85,56.45,58.79],\"yaxis\":\"y\",\"type\":\"scatter\"},{\"hovertemplate\":\"State=chandigarh<br>Ad Spend (INR)=%{x}<br>Voter Turnout (%)=%{y}<extra></extra>\",\"legendgroup\":\"chandigarh\",\"marker\":{\"color\":\"#FFA15A\",\"symbol\":\"circle\"},\"mode\":\"markers\",\"name\":\"chandigarh\",\"orientation\":\"v\",\"showlegend\":true,\"x\":[6507258.0],\"xaxis\":\"x\",\"y\":[67.98],\"yaxis\":\"y\",\"type\":\"scatter\"},{\"hovertemplate\":\"State=himachal pradesh<br>Ad Spend (INR)=%{x}<br>Voter Turnout (%)=%{y}<extra></extra>\",\"legendgroup\":\"himachal pradesh\",\"marker\":{\"color\":\"#19d3f3\",\"symbol\":\"circle\"},\"mode\":\"markers\",\"name\":\"himachal pradesh\",\"orientation\":\"v\",\"showlegend\":true,\"x\":[12011616.0,12011616.0,12011616.0,12011616.0],\"xaxis\":\"x\",\"y\":[71.56,67.89,73.15,71.26],\"yaxis\":\"y\",\"type\":\"scatter\"},{\"hovertemplate\":\"State=punjab<br>Ad Spend (INR)=%{x}<br>Voter Turnout (%)=%{y}<extra></extra>\",\"legendgroup\":\"punjab\",\"marker\":{\"color\":\"#FF6692\",\"symbol\":\"circle\"},\"mode\":\"markers\",\"name\":\"punjab\",\"orientation\":\"v\",\"showlegend\":true,\"x\":[null,null,null,null,null,null,null,null,null,null,null,null,null],\"xaxis\":\"x\",\"y\":[56.06,61.98,69.36,63.34,62.53,67.02,66.67,58.86,59.7,62.55,60.12,63.63,64.63],\"yaxis\":\"y\",\"type\":\"scatter\"}],                        {\"template\":{\"data\":{\"histogram2dcontour\":[{\"type\":\"histogram2dcontour\",\"colorbar\":{\"outlinewidth\":0,\"ticks\":\"\"},\"colorscale\":[[0.0,\"#0d0887\"],[0.1111111111111111,\"#46039f\"],[0.2222222222222222,\"#7201a8\"],[0.3333333333333333,\"#9c179e\"],[0.4444444444444444,\"#bd3786\"],[0.5555555555555556,\"#d8576b\"],[0.6666666666666666,\"#ed7953\"],[0.7777777777777778,\"#fb9f3a\"],[0.8888888888888888,\"#fdca26\"],[1.0,\"#f0f921\"]]}],\"choropleth\":[{\"type\":\"choropleth\",\"colorbar\":{\"outlinewidth\":0,\"ticks\":\"\"}}],\"histogram2d\":[{\"type\":\"histogram2d\",\"colorbar\":{\"outlinewidth\":0,\"ticks\":\"\"},\"colorscale\":[[0.0,\"#0d0887\"],[0.1111111111111111,\"#46039f\"],[0.2222222222222222,\"#7201a8\"],[0.3333333333333333,\"#9c179e\"],[0.4444444444444444,\"#bd3786\"],[0.5555555555555556,\"#d8576b\"],[0.6666666666666666,\"#ed7953\"],[0.7777777777777778,\"#fb9f3a\"],[0.8888888888888888,\"#fdca26\"],[1.0,\"#f0f921\"]]}],\"heatmap\":[{\"type\":\"heatmap\",\"colorbar\":{\"outlinewidth\":0,\"ticks\":\"\"},\"colorscale\":[[0.0,\"#0d0887\"],[0.1111111111111111,\"#46039f\"],[0.2222222222222222,\"#7201a8\"],[0.3333333333333333,\"#9c179e\"],[0.4444444444444444,\"#bd3786\"],[0.5555555555555556,\"#d8576b\"],[0.6666666666666666,\"#ed7953\"],[0.7777777777777778,\"#fb9f3a\"],[0.8888888888888888,\"#fdca26\"],[1.0,\"#f0f921\"]]}],\"heatmapgl\":[{\"type\":\"heatmapgl\",\"colorbar\":{\"outlinewidth\":0,\"ticks\":\"\"},\"colorscale\":[[0.0,\"#0d0887\"],[0.1111111111111111,\"#46039f\"],[0.2222222222222222,\"#7201a8\"],[0.3333333333333333,\"#9c179e\"],[0.4444444444444444,\"#bd3786\"],[0.5555555555555556,\"#d8576b\"],[0.6666666666666666,\"#ed7953\"],[0.7777777777777778,\"#fb9f3a\"],[0.8888888888888888,\"#fdca26\"],[1.0,\"#f0f921\"]]}],\"contourcarpet\":[{\"type\":\"contourcarpet\",\"colorbar\":{\"outlinewidth\":0,\"ticks\":\"\"}}],\"contour\":[{\"type\":\"contour\",\"colorbar\":{\"outlinewidth\":0,\"ticks\":\"\"},\"colorscale\":[[0.0,\"#0d0887\"],[0.1111111111111111,\"#46039f\"],[0.2222222222222222,\"#7201a8\"],[0.3333333333333333,\"#9c179e\"],[0.4444444444444444,\"#bd3786\"],[0.5555555555555556,\"#d8576b\"],[0.6666666666666666,\"#ed7953\"],[0.7777777777777778,\"#fb9f3a\"],[0.8888888888888888,\"#fdca26\"],[1.0,\"#f0f921\"]]}],\"surface\":[{\"type\":\"surface\",\"colorbar\":{\"outlinewidth\":0,\"ticks\":\"\"},\"colorscale\":[[0.0,\"#0d0887\"],[0.1111111111111111,\"#46039f\"],[0.2222222222222222,\"#7201a8\"],[0.3333333333333333,\"#9c179e\"],[0.4444444444444444,\"#bd3786\"],[0.5555555555555556,\"#d8576b\"],[0.6666666666666666,\"#ed7953\"],[0.7777777777777778,\"#fb9f3a\"],[0.8888888888888888,\"#fdca26\"],[1.0,\"#f0f921\"]]}],\"mesh3d\":[{\"type\":\"mesh3d\",\"colorbar\":{\"outlinewidth\":0,\"ticks\":\"\"}}],\"scatter\":[{\"fillpattern\":{\"fillmode\":\"overlay\",\"size\":10,\"solidity\":0.2},\"type\":\"scatter\"}],\"parcoords\":[{\"type\":\"parcoords\",\"line\":{\"colorbar\":{\"outlinewidth\":0,\"ticks\":\"\"}}}],\"scatterpolargl\":[{\"type\":\"scatterpolargl\",\"marker\":{\"colorbar\":{\"outlinewidth\":0,\"ticks\":\"\"}}}],\"bar\":[{\"error_x\":{\"color\":\"#2a3f5f\"},\"error_y\":{\"color\":\"#2a3f5f\"},\"marker\":{\"line\":{\"color\":\"white\",\"width\":0.5},\"pattern\":{\"fillmode\":\"overlay\",\"size\":10,\"solidity\":0.2}},\"type\":\"bar\"}],\"scattergeo\":[{\"type\":\"scattergeo\",\"marker\":{\"colorbar\":{\"outlinewidth\":0,\"ticks\":\"\"}}}],\"scatterpolar\":[{\"type\":\"scatterpolar\",\"marker\":{\"colorbar\":{\"outlinewidth\":0,\"ticks\":\"\"}}}],\"histogram\":[{\"marker\":{\"pattern\":{\"fillmode\":\"overlay\",\"size\":10,\"solidity\":0.2}},\"type\":\"histogram\"}],\"scattergl\":[{\"type\":\"scattergl\",\"marker\":{\"colorbar\":{\"outlinewidth\":0,\"ticks\":\"\"}}}],\"scatter3d\":[{\"type\":\"scatter3d\",\"line\":{\"colorbar\":{\"outlinewidth\":0,\"ticks\":\"\"}},\"marker\":{\"colorbar\":{\"outlinewidth\":0,\"ticks\":\"\"}}}],\"scattermapbox\":[{\"type\":\"scattermapbox\",\"marker\":{\"colorbar\":{\"outlinewidth\":0,\"ticks\":\"\"}}}],\"scatterternary\":[{\"type\":\"scatterternary\",\"marker\":{\"colorbar\":{\"outlinewidth\":0,\"ticks\":\"\"}}}],\"scattercarpet\":[{\"type\":\"scattercarpet\",\"marker\":{\"colorbar\":{\"outlinewidth\":0,\"ticks\":\"\"}}}],\"carpet\":[{\"aaxis\":{\"endlinecolor\":\"#2a3f5f\",\"gridcolor\":\"#C8D4E3\",\"linecolor\":\"#C8D4E3\",\"minorgridcolor\":\"#C8D4E3\",\"startlinecolor\":\"#2a3f5f\"},\"baxis\":{\"endlinecolor\":\"#2a3f5f\",\"gridcolor\":\"#C8D4E3\",\"linecolor\":\"#C8D4E3\",\"minorgridcolor\":\"#C8D4E3\",\"startlinecolor\":\"#2a3f5f\"},\"type\":\"carpet\"}],\"table\":[{\"cells\":{\"fill\":{\"color\":\"#EBF0F8\"},\"line\":{\"color\":\"white\"}},\"header\":{\"fill\":{\"color\":\"#C8D4E3\"},\"line\":{\"color\":\"white\"}},\"type\":\"table\"}],\"barpolar\":[{\"marker\":{\"line\":{\"color\":\"white\",\"width\":0.5},\"pattern\":{\"fillmode\":\"overlay\",\"size\":10,\"solidity\":0.2}},\"type\":\"barpolar\"}],\"pie\":[{\"automargin\":true,\"type\":\"pie\"}]},\"layout\":{\"autotypenumbers\":\"strict\",\"colorway\":[\"#636efa\",\"#EF553B\",\"#00cc96\",\"#ab63fa\",\"#FFA15A\",\"#19d3f3\",\"#FF6692\",\"#B6E880\",\"#FF97FF\",\"#FECB52\"],\"font\":{\"color\":\"#2a3f5f\"},\"hovermode\":\"closest\",\"hoverlabel\":{\"align\":\"left\"},\"paper_bgcolor\":\"white\",\"plot_bgcolor\":\"white\",\"polar\":{\"bgcolor\":\"white\",\"angularaxis\":{\"gridcolor\":\"#EBF0F8\",\"linecolor\":\"#EBF0F8\",\"ticks\":\"\"},\"radialaxis\":{\"gridcolor\":\"#EBF0F8\",\"linecolor\":\"#EBF0F8\",\"ticks\":\"\"}},\"ternary\":{\"bgcolor\":\"white\",\"aaxis\":{\"gridcolor\":\"#DFE8F3\",\"linecolor\":\"#A2B1C6\",\"ticks\":\"\"},\"baxis\":{\"gridcolor\":\"#DFE8F3\",\"linecolor\":\"#A2B1C6\",\"ticks\":\"\"},\"caxis\":{\"gridcolor\":\"#DFE8F3\",\"linecolor\":\"#A2B1C6\",\"ticks\":\"\"}},\"coloraxis\":{\"colorbar\":{\"outlinewidth\":0,\"ticks\":\"\"}},\"colorscale\":{\"sequential\":[[0.0,\"#0d0887\"],[0.1111111111111111,\"#46039f\"],[0.2222222222222222,\"#7201a8\"],[0.3333333333333333,\"#9c179e\"],[0.4444444444444444,\"#bd3786\"],[0.5555555555555556,\"#d8576b\"],[0.6666666666666666,\"#ed7953\"],[0.7777777777777778,\"#fb9f3a\"],[0.8888888888888888,\"#fdca26\"],[1.0,\"#f0f921\"]],\"sequentialminus\":[[0.0,\"#0d0887\"],[0.1111111111111111,\"#46039f\"],[0.2222222222222222,\"#7201a8\"],[0.3333333333333333,\"#9c179e\"],[0.4444444444444444,\"#bd3786\"],[0.5555555555555556,\"#d8576b\"],[0.6666666666666666,\"#ed7953\"],[0.7777777777777778,\"#fb9f3a\"],[0.8888888888888888,\"#fdca26\"],[1.0,\"#f0f921\"]],\"diverging\":[[0,\"#8e0152\"],[0.1,\"#c51b7d\"],[0.2,\"#de77ae\"],[0.3,\"#f1b6da\"],[0.4,\"#fde0ef\"],[0.5,\"#f7f7f7\"],[0.6,\"#e6f5d0\"],[0.7,\"#b8e186\"],[0.8,\"#7fbc41\"],[0.9,\"#4d9221\"],[1,\"#276419\"]]},\"xaxis\":{\"gridcolor\":\"#EBF0F8\",\"linecolor\":\"#EBF0F8\",\"ticks\":\"\",\"title\":{\"standoff\":15},\"zerolinecolor\":\"#EBF0F8\",\"automargin\":true,\"zerolinewidth\":2},\"yaxis\":{\"gridcolor\":\"#EBF0F8\",\"linecolor\":\"#EBF0F8\",\"ticks\":\"\",\"title\":{\"standoff\":15},\"zerolinecolor\":\"#EBF0F8\",\"automargin\":true,\"zerolinewidth\":2},\"scene\":{\"xaxis\":{\"backgroundcolor\":\"white\",\"gridcolor\":\"#DFE8F3\",\"linecolor\":\"#EBF0F8\",\"showbackground\":true,\"ticks\":\"\",\"zerolinecolor\":\"#EBF0F8\",\"gridwidth\":2},\"yaxis\":{\"backgroundcolor\":\"white\",\"gridcolor\":\"#DFE8F3\",\"linecolor\":\"#EBF0F8\",\"showbackground\":true,\"ticks\":\"\",\"zerolinecolor\":\"#EBF0F8\",\"gridwidth\":2},\"zaxis\":{\"backgroundcolor\":\"white\",\"gridcolor\":\"#DFE8F3\",\"linecolor\":\"#EBF0F8\",\"showbackground\":true,\"ticks\":\"\",\"zerolinecolor\":\"#EBF0F8\",\"gridwidth\":2}},\"shapedefaults\":{\"line\":{\"color\":\"#2a3f5f\"}},\"annotationdefaults\":{\"arrowcolor\":\"#2a3f5f\",\"arrowhead\":0,\"arrowwidth\":1},\"geo\":{\"bgcolor\":\"white\",\"landcolor\":\"white\",\"subunitcolor\":\"#C8D4E3\",\"showland\":true,\"showlakes\":true,\"lakecolor\":\"white\"},\"title\":{\"x\":0.05},\"mapbox\":{\"style\":\"light\"}}},\"xaxis\":{\"anchor\":\"y\",\"domain\":[0.0,1.0],\"title\":{\"text\":\"Ad Spend (INR)\"}},\"yaxis\":{\"anchor\":\"x\",\"domain\":[0.0,1.0],\"title\":{\"text\":\"Voter Turnout (%)\"}},\"legend\":{\"title\":{\"text\":\"State\"},\"tracegroupgap\":0},\"title\":{\"text\":\"Ad Spend and Voter Turnout by Parliamentary Constituency\"},\"width\":800,\"height\":600},                        {\"responsive\": true}                    ).then(function(){\n",
       "                            \n",
       "var gd = document.getElementById('c68645f2-4df0-44ab-8797-23d539e2c798');\n",
       "var x = new MutationObserver(function (mutations, observer) {{\n",
       "        var display = window.getComputedStyle(gd).display;\n",
       "        if (!display || display === 'none') {{\n",
       "            console.log([gd, 'removed!']);\n",
       "            Plotly.purge(gd);\n",
       "            observer.disconnect();\n",
       "        }}\n",
       "}});\n",
       "\n",
       "// Listen for the removal of the full notebook cells\n",
       "var notebookContainer = gd.closest('#notebook-container');\n",
       "if (notebookContainer) {{\n",
       "    x.observe(notebookContainer, {childList: true});\n",
       "}}\n",
       "\n",
       "// Listen for the clearing of the current output cell\n",
       "var outputEl = gd.closest('.output');\n",
       "if (outputEl) {{\n",
       "    x.observe(outputEl, {childList: true});\n",
       "}}\n",
       "\n",
       "                        })                };                });            </script>        </div>"
      ]
     },
     "metadata": {},
     "output_type": "display_data"
    }
   ],
   "source": [
    "AdSpentVsVotefig = px.scatter(merged_constituency_data, x='Amount spent (INR)', y='Polled (%)',\n",
    "                 color='State',\n",
    "                 labels={'Amount spent (INR)': 'Ad Spend (INR)', 'Polled (%)': 'Voter Turnout (%)'},\n",
    "                 title='Ad Spend and Voter Turnout by Parliamentary Constituency')\n",
    "\n",
    "AdSpentVsVotefig.update_layout(width=800, height=600)\n",
    "\n",
    "AdSpentVsVotefig.show()"
   ]
  },
  {
   "cell_type": "markdown",
   "id": "85d79956-81ba-42b6-9ced-f0808f080e6d",
   "metadata": {},
   "source": [
    "- It shows that higher ad spending does not necessarily correlate with higher voter turnout. Voter turnout seems to cluster between 60% and 80% across most constituencies, regardless of the ad spend amount, which ranges from 0 to 150 million INR. This suggests that other factors besides ad spend may play a significant role in influencing voter turnout."
   ]
  },
  {
   "cell_type": "markdown",
   "id": "95920325-65c1-4a8b-863d-5652b3fbcb77",
   "metadata": {},
   "source": [
    "### The distribution of ad spending:"
   ]
  },
  {
   "cell_type": "code",
   "execution_count": 362,
   "id": "2f2961b1-63ad-468a-a458-96afad134672",
   "metadata": {},
   "outputs": [
    {
     "data": {
      "application/vnd.plotly.v1+json": {
       "config": {
        "plotlyServerURL": "https://plot.ly"
       },
       "data": [
        {
         "alignmentgroup": "True",
         "bingroup": "x",
         "hovertemplate": "Ad Spend (INR)=%{x}<br>count=%{y}<extra></extra>",
         "legendgroup": "",
         "marker": {
          "color": "#636efa",
          "line": {
           "color": "black",
           "width": 1
          },
          "pattern": {
           "shape": ""
          }
         },
         "name": "",
         "nbinsx": 30,
         "offsetgroup": "",
         "orientation": "v",
         "showlegend": false,
         "type": "histogram",
         "x": [
          null,
          1385654,
          1385654,
          17478091,
          17478091,
          17478091,
          17478091,
          17478091,
          53619242,
          53619242,
          53619242,
          53619242,
          14803286,
          6575061,
          19847,
          39992952,
          39992952,
          39992952,
          39992952,
          39992952,
          39992952,
          101917091,
          101917091,
          101917091,
          101917091,
          101917091,
          889062,
          889062,
          884220,
          884220,
          481052,
          599170,
          1535672,
          41268323,
          41268323,
          41268323,
          41268323,
          41268323,
          41268323,
          41268323,
          41268323,
          41268323,
          41268323,
          41268323,
          41268323,
          4379297,
          76622608,
          76622608,
          76622608,
          76622608,
          76622608,
          76622608,
          76622608,
          76622608,
          76622608,
          76622608,
          76622608,
          76622608,
          76622608,
          76622608,
          76622608,
          76622608,
          76622608,
          76622608,
          76622608,
          76622608,
          76622608,
          76622608,
          76622608,
          76622608,
          76622608,
          76622608,
          76622608,
          76622608,
          76622608,
          76622608,
          76622608,
          76622608,
          76622608,
          76622608,
          76622608,
          76622608,
          76622608,
          76622608,
          76622608,
          1857459,
          89668131,
          89668131,
          89668131,
          89668131,
          89668131,
          89668131,
          89668131,
          89668131,
          7140897,
          7140897,
          7140897,
          7140897,
          7140897,
          77244996,
          77244996,
          77244996,
          null,
          17478091,
          17478091,
          17478091,
          17478091,
          17478091,
          53619242,
          53619242,
          53619242,
          53619242,
          53619242,
          14803286,
          14803286,
          14803286,
          6575061,
          41659397,
          41659397,
          41659397,
          41659397,
          41659397,
          41659397,
          41659397,
          41659397,
          41659397,
          41659397,
          41659397,
          41659397,
          41659397,
          41659397,
          22681201,
          22681201,
          22681201,
          22681201,
          22681201,
          22681201,
          22681201,
          22681201,
          22681201,
          22681201,
          22681201,
          22681201,
          22681201,
          22681201,
          22681201,
          22681201,
          22681201,
          22681201,
          22681201,
          22681201,
          39992952,
          39992952,
          39992952,
          39992952,
          39992952,
          39992952,
          101917091,
          101917091,
          101917091,
          101917091,
          101917091,
          101917091,
          101917091,
          101917091,
          889062,
          41268323,
          41268323,
          41268323,
          41268323,
          41268323,
          41268323,
          41268323,
          41268323,
          41268323,
          41268323,
          41268323,
          41268323,
          41268323,
          1857459,
          89668131,
          89668131,
          89668131,
          89668131,
          89668131,
          89668131,
          89668131,
          89668131,
          77244996,
          77244996,
          77244996,
          null,
          17478091,
          17478091,
          17478091,
          17478091,
          53619242,
          53619242,
          53619242,
          53619242,
          53619242,
          14803286,
          14803286,
          14803286,
          14803286,
          14803286,
          14803286,
          14803286,
          null,
          null,
          2164209,
          2164209,
          40425399,
          40425399,
          40425399,
          40425399,
          40425399,
          40425399,
          40425399,
          40425399,
          40425399,
          40425399,
          40425399,
          40425399,
          40425399,
          40425399,
          40425399,
          40425399,
          40425399,
          40425399,
          40425399,
          40425399,
          40425399,
          40425399,
          40425399,
          40425399,
          40425399,
          41659397,
          41659397,
          41659397,
          41659397,
          41659397,
          41659397,
          41659397,
          41659397,
          41659397,
          41659397,
          41659397,
          41659397,
          41659397,
          41659397,
          39992952,
          39992952,
          39992952,
          39992952,
          39992952,
          39992952,
          39992952,
          39992952,
          39992952,
          101917091,
          101917091,
          101917091,
          101917091,
          101917091,
          101917091,
          101917091,
          101917091,
          101917091,
          101917091,
          101917091,
          89668131,
          89668131,
          89668131,
          89668131,
          89668131,
          89668131,
          89668131,
          89668131,
          89668131,
          89668131,
          77244996,
          77244996,
          77244996,
          77244996,
          null,
          100819732,
          100819732,
          100819732,
          100819732,
          100819732,
          100819732,
          100819732,
          100819732,
          100819732,
          100819732,
          100819732,
          100819732,
          100819732,
          100819732,
          100819732,
          100819732,
          100819732,
          100819732,
          100819732,
          100819732,
          100819732,
          100819732,
          100819732,
          100819732,
          100819732,
          53619242,
          53619242,
          53619242,
          53619242,
          53619242,
          6575061,
          16380139,
          16380139,
          16380139,
          16380139,
          39992952,
          39992952,
          39992952,
          39992952,
          39992952,
          39992952,
          39992952,
          39992952,
          101917091,
          101917091,
          101917091,
          101917091,
          101917091,
          101917091,
          101917091,
          101917091,
          101917091,
          101917091,
          101917091,
          180252277,
          180252277,
          180252277,
          180252277,
          54496166,
          54496166,
          54496166,
          54496166,
          54496166,
          54496166,
          54496166,
          54496166,
          54496166,
          54496166,
          54496166,
          54496166,
          54496166,
          54496166,
          54496166,
          54496166,
          54496166,
          89668131,
          89668131,
          89668131,
          89668131,
          89668131,
          89668131,
          89668131,
          89668131,
          89668131,
          89668131,
          89668131,
          89668131,
          89668131,
          77244996,
          77244996,
          77244996,
          77244996,
          77244996,
          77244996,
          77244996,
          77244996,
          null,
          53619242,
          53619242,
          53619242,
          53619242,
          53619242,
          6575061,
          16380139,
          16380139,
          16380139,
          null,
          101917091,
          101917091,
          101917091,
          101917091,
          101917091,
          101917091,
          101917091,
          101917091,
          101917091,
          101917091,
          101917091,
          101917091,
          101917091,
          180252277,
          180252277,
          180252277,
          180252277,
          180252277,
          89668131,
          89668131,
          89668131,
          89668131,
          89668131,
          89668131,
          89668131,
          89668131,
          89668131,
          89668131,
          89668131,
          89668131,
          89668131,
          89668131,
          77244996,
          77244996,
          77244996,
          77244996,
          77244996,
          77244996,
          77244996,
          null,
          53619242,
          53619242,
          53619242,
          53619242,
          53619242,
          53619242,
          53619242,
          53619242,
          41683411,
          41683411,
          41683411,
          41683411,
          41683411,
          41683411,
          41683411,
          41683411,
          41683411,
          41683411,
          6575061,
          16380139,
          16380139,
          16380139,
          16380139,
          null,
          null,
          null,
          null,
          null,
          null,
          null,
          180252277,
          180252277,
          180252277,
          180252277,
          180252277,
          180252277,
          89668131,
          89668131,
          89668131,
          89668131,
          89668131,
          89668131,
          89668131,
          89668131,
          89668131,
          89668131,
          89668131,
          89668131,
          89668131,
          89668131,
          77244996,
          77244996,
          77244996,
          77244996,
          77244996,
          77244996,
          77244996,
          77244996,
          null,
          53619242,
          53619242,
          53619242,
          53619242,
          53619242,
          53619242,
          53619242,
          53619242,
          6507258,
          12011616,
          12011616,
          12011616,
          12011616,
          16380139,
          16380139,
          16380139,
          180252277,
          180252277,
          180252277,
          180252277,
          180252277,
          180252277,
          null,
          null,
          null,
          null,
          null,
          null,
          null,
          null,
          null,
          null,
          null,
          null,
          null,
          89668131,
          89668131,
          89668131,
          89668131,
          89668131,
          89668131,
          89668131,
          89668131,
          89668131,
          89668131,
          89668131,
          89668131,
          89668131,
          77244996,
          77244996,
          77244996,
          77244996,
          77244996,
          77244996,
          77244996,
          77244996,
          77244996,
          null
         ],
         "xaxis": "x",
         "yaxis": "y"
        },
        {
         "alignmentgroup": "True",
         "hovertemplate": "Ad Spend (INR)=%{x}<extra></extra>",
         "legendgroup": "",
         "marker": {
          "color": "#636efa",
          "line": {
           "color": "black",
           "width": 1
          }
         },
         "name": "",
         "notched": true,
         "offsetgroup": "",
         "showlegend": false,
         "type": "box",
         "x": [
          null,
          1385654,
          1385654,
          17478091,
          17478091,
          17478091,
          17478091,
          17478091,
          53619242,
          53619242,
          53619242,
          53619242,
          14803286,
          6575061,
          19847,
          39992952,
          39992952,
          39992952,
          39992952,
          39992952,
          39992952,
          101917091,
          101917091,
          101917091,
          101917091,
          101917091,
          889062,
          889062,
          884220,
          884220,
          481052,
          599170,
          1535672,
          41268323,
          41268323,
          41268323,
          41268323,
          41268323,
          41268323,
          41268323,
          41268323,
          41268323,
          41268323,
          41268323,
          41268323,
          4379297,
          76622608,
          76622608,
          76622608,
          76622608,
          76622608,
          76622608,
          76622608,
          76622608,
          76622608,
          76622608,
          76622608,
          76622608,
          76622608,
          76622608,
          76622608,
          76622608,
          76622608,
          76622608,
          76622608,
          76622608,
          76622608,
          76622608,
          76622608,
          76622608,
          76622608,
          76622608,
          76622608,
          76622608,
          76622608,
          76622608,
          76622608,
          76622608,
          76622608,
          76622608,
          76622608,
          76622608,
          76622608,
          76622608,
          76622608,
          1857459,
          89668131,
          89668131,
          89668131,
          89668131,
          89668131,
          89668131,
          89668131,
          89668131,
          7140897,
          7140897,
          7140897,
          7140897,
          7140897,
          77244996,
          77244996,
          77244996,
          null,
          17478091,
          17478091,
          17478091,
          17478091,
          17478091,
          53619242,
          53619242,
          53619242,
          53619242,
          53619242,
          14803286,
          14803286,
          14803286,
          6575061,
          41659397,
          41659397,
          41659397,
          41659397,
          41659397,
          41659397,
          41659397,
          41659397,
          41659397,
          41659397,
          41659397,
          41659397,
          41659397,
          41659397,
          22681201,
          22681201,
          22681201,
          22681201,
          22681201,
          22681201,
          22681201,
          22681201,
          22681201,
          22681201,
          22681201,
          22681201,
          22681201,
          22681201,
          22681201,
          22681201,
          22681201,
          22681201,
          22681201,
          22681201,
          39992952,
          39992952,
          39992952,
          39992952,
          39992952,
          39992952,
          101917091,
          101917091,
          101917091,
          101917091,
          101917091,
          101917091,
          101917091,
          101917091,
          889062,
          41268323,
          41268323,
          41268323,
          41268323,
          41268323,
          41268323,
          41268323,
          41268323,
          41268323,
          41268323,
          41268323,
          41268323,
          41268323,
          1857459,
          89668131,
          89668131,
          89668131,
          89668131,
          89668131,
          89668131,
          89668131,
          89668131,
          77244996,
          77244996,
          77244996,
          null,
          17478091,
          17478091,
          17478091,
          17478091,
          53619242,
          53619242,
          53619242,
          53619242,
          53619242,
          14803286,
          14803286,
          14803286,
          14803286,
          14803286,
          14803286,
          14803286,
          null,
          null,
          2164209,
          2164209,
          40425399,
          40425399,
          40425399,
          40425399,
          40425399,
          40425399,
          40425399,
          40425399,
          40425399,
          40425399,
          40425399,
          40425399,
          40425399,
          40425399,
          40425399,
          40425399,
          40425399,
          40425399,
          40425399,
          40425399,
          40425399,
          40425399,
          40425399,
          40425399,
          40425399,
          41659397,
          41659397,
          41659397,
          41659397,
          41659397,
          41659397,
          41659397,
          41659397,
          41659397,
          41659397,
          41659397,
          41659397,
          41659397,
          41659397,
          39992952,
          39992952,
          39992952,
          39992952,
          39992952,
          39992952,
          39992952,
          39992952,
          39992952,
          101917091,
          101917091,
          101917091,
          101917091,
          101917091,
          101917091,
          101917091,
          101917091,
          101917091,
          101917091,
          101917091,
          89668131,
          89668131,
          89668131,
          89668131,
          89668131,
          89668131,
          89668131,
          89668131,
          89668131,
          89668131,
          77244996,
          77244996,
          77244996,
          77244996,
          null,
          100819732,
          100819732,
          100819732,
          100819732,
          100819732,
          100819732,
          100819732,
          100819732,
          100819732,
          100819732,
          100819732,
          100819732,
          100819732,
          100819732,
          100819732,
          100819732,
          100819732,
          100819732,
          100819732,
          100819732,
          100819732,
          100819732,
          100819732,
          100819732,
          100819732,
          53619242,
          53619242,
          53619242,
          53619242,
          53619242,
          6575061,
          16380139,
          16380139,
          16380139,
          16380139,
          39992952,
          39992952,
          39992952,
          39992952,
          39992952,
          39992952,
          39992952,
          39992952,
          101917091,
          101917091,
          101917091,
          101917091,
          101917091,
          101917091,
          101917091,
          101917091,
          101917091,
          101917091,
          101917091,
          180252277,
          180252277,
          180252277,
          180252277,
          54496166,
          54496166,
          54496166,
          54496166,
          54496166,
          54496166,
          54496166,
          54496166,
          54496166,
          54496166,
          54496166,
          54496166,
          54496166,
          54496166,
          54496166,
          54496166,
          54496166,
          89668131,
          89668131,
          89668131,
          89668131,
          89668131,
          89668131,
          89668131,
          89668131,
          89668131,
          89668131,
          89668131,
          89668131,
          89668131,
          77244996,
          77244996,
          77244996,
          77244996,
          77244996,
          77244996,
          77244996,
          77244996,
          null,
          53619242,
          53619242,
          53619242,
          53619242,
          53619242,
          6575061,
          16380139,
          16380139,
          16380139,
          null,
          101917091,
          101917091,
          101917091,
          101917091,
          101917091,
          101917091,
          101917091,
          101917091,
          101917091,
          101917091,
          101917091,
          101917091,
          101917091,
          180252277,
          180252277,
          180252277,
          180252277,
          180252277,
          89668131,
          89668131,
          89668131,
          89668131,
          89668131,
          89668131,
          89668131,
          89668131,
          89668131,
          89668131,
          89668131,
          89668131,
          89668131,
          89668131,
          77244996,
          77244996,
          77244996,
          77244996,
          77244996,
          77244996,
          77244996,
          null,
          53619242,
          53619242,
          53619242,
          53619242,
          53619242,
          53619242,
          53619242,
          53619242,
          41683411,
          41683411,
          41683411,
          41683411,
          41683411,
          41683411,
          41683411,
          41683411,
          41683411,
          41683411,
          6575061,
          16380139,
          16380139,
          16380139,
          16380139,
          null,
          null,
          null,
          null,
          null,
          null,
          null,
          180252277,
          180252277,
          180252277,
          180252277,
          180252277,
          180252277,
          89668131,
          89668131,
          89668131,
          89668131,
          89668131,
          89668131,
          89668131,
          89668131,
          89668131,
          89668131,
          89668131,
          89668131,
          89668131,
          89668131,
          77244996,
          77244996,
          77244996,
          77244996,
          77244996,
          77244996,
          77244996,
          77244996,
          null,
          53619242,
          53619242,
          53619242,
          53619242,
          53619242,
          53619242,
          53619242,
          53619242,
          6507258,
          12011616,
          12011616,
          12011616,
          12011616,
          16380139,
          16380139,
          16380139,
          180252277,
          180252277,
          180252277,
          180252277,
          180252277,
          180252277,
          null,
          null,
          null,
          null,
          null,
          null,
          null,
          null,
          null,
          null,
          null,
          null,
          null,
          89668131,
          89668131,
          89668131,
          89668131,
          89668131,
          89668131,
          89668131,
          89668131,
          89668131,
          89668131,
          89668131,
          89668131,
          89668131,
          77244996,
          77244996,
          77244996,
          77244996,
          77244996,
          77244996,
          77244996,
          77244996,
          77244996,
          null
         ],
         "xaxis": "x2",
         "yaxis": "y2"
        }
       ],
       "layout": {
        "bargap": 0.1,
        "barmode": "relative",
        "height": 600,
        "legend": {
         "tracegroupgap": 0
        },
        "template": {
         "data": {
          "bar": [
           {
            "error_x": {
             "color": "#2a3f5f"
            },
            "error_y": {
             "color": "#2a3f5f"
            },
            "marker": {
             "line": {
              "color": "white",
              "width": 0.5
             },
             "pattern": {
              "fillmode": "overlay",
              "size": 10,
              "solidity": 0.2
             }
            },
            "type": "bar"
           }
          ],
          "barpolar": [
           {
            "marker": {
             "line": {
              "color": "white",
              "width": 0.5
             },
             "pattern": {
              "fillmode": "overlay",
              "size": 10,
              "solidity": 0.2
             }
            },
            "type": "barpolar"
           }
          ],
          "carpet": [
           {
            "aaxis": {
             "endlinecolor": "#2a3f5f",
             "gridcolor": "#C8D4E3",
             "linecolor": "#C8D4E3",
             "minorgridcolor": "#C8D4E3",
             "startlinecolor": "#2a3f5f"
            },
            "baxis": {
             "endlinecolor": "#2a3f5f",
             "gridcolor": "#C8D4E3",
             "linecolor": "#C8D4E3",
             "minorgridcolor": "#C8D4E3",
             "startlinecolor": "#2a3f5f"
            },
            "type": "carpet"
           }
          ],
          "choropleth": [
           {
            "colorbar": {
             "outlinewidth": 0,
             "ticks": ""
            },
            "type": "choropleth"
           }
          ],
          "contour": [
           {
            "colorbar": {
             "outlinewidth": 0,
             "ticks": ""
            },
            "colorscale": [
             [
              0,
              "#0d0887"
             ],
             [
              0.1111111111111111,
              "#46039f"
             ],
             [
              0.2222222222222222,
              "#7201a8"
             ],
             [
              0.3333333333333333,
              "#9c179e"
             ],
             [
              0.4444444444444444,
              "#bd3786"
             ],
             [
              0.5555555555555556,
              "#d8576b"
             ],
             [
              0.6666666666666666,
              "#ed7953"
             ],
             [
              0.7777777777777778,
              "#fb9f3a"
             ],
             [
              0.8888888888888888,
              "#fdca26"
             ],
             [
              1,
              "#f0f921"
             ]
            ],
            "type": "contour"
           }
          ],
          "contourcarpet": [
           {
            "colorbar": {
             "outlinewidth": 0,
             "ticks": ""
            },
            "type": "contourcarpet"
           }
          ],
          "heatmap": [
           {
            "colorbar": {
             "outlinewidth": 0,
             "ticks": ""
            },
            "colorscale": [
             [
              0,
              "#0d0887"
             ],
             [
              0.1111111111111111,
              "#46039f"
             ],
             [
              0.2222222222222222,
              "#7201a8"
             ],
             [
              0.3333333333333333,
              "#9c179e"
             ],
             [
              0.4444444444444444,
              "#bd3786"
             ],
             [
              0.5555555555555556,
              "#d8576b"
             ],
             [
              0.6666666666666666,
              "#ed7953"
             ],
             [
              0.7777777777777778,
              "#fb9f3a"
             ],
             [
              0.8888888888888888,
              "#fdca26"
             ],
             [
              1,
              "#f0f921"
             ]
            ],
            "type": "heatmap"
           }
          ],
          "heatmapgl": [
           {
            "colorbar": {
             "outlinewidth": 0,
             "ticks": ""
            },
            "colorscale": [
             [
              0,
              "#0d0887"
             ],
             [
              0.1111111111111111,
              "#46039f"
             ],
             [
              0.2222222222222222,
              "#7201a8"
             ],
             [
              0.3333333333333333,
              "#9c179e"
             ],
             [
              0.4444444444444444,
              "#bd3786"
             ],
             [
              0.5555555555555556,
              "#d8576b"
             ],
             [
              0.6666666666666666,
              "#ed7953"
             ],
             [
              0.7777777777777778,
              "#fb9f3a"
             ],
             [
              0.8888888888888888,
              "#fdca26"
             ],
             [
              1,
              "#f0f921"
             ]
            ],
            "type": "heatmapgl"
           }
          ],
          "histogram": [
           {
            "marker": {
             "pattern": {
              "fillmode": "overlay",
              "size": 10,
              "solidity": 0.2
             }
            },
            "type": "histogram"
           }
          ],
          "histogram2d": [
           {
            "colorbar": {
             "outlinewidth": 0,
             "ticks": ""
            },
            "colorscale": [
             [
              0,
              "#0d0887"
             ],
             [
              0.1111111111111111,
              "#46039f"
             ],
             [
              0.2222222222222222,
              "#7201a8"
             ],
             [
              0.3333333333333333,
              "#9c179e"
             ],
             [
              0.4444444444444444,
              "#bd3786"
             ],
             [
              0.5555555555555556,
              "#d8576b"
             ],
             [
              0.6666666666666666,
              "#ed7953"
             ],
             [
              0.7777777777777778,
              "#fb9f3a"
             ],
             [
              0.8888888888888888,
              "#fdca26"
             ],
             [
              1,
              "#f0f921"
             ]
            ],
            "type": "histogram2d"
           }
          ],
          "histogram2dcontour": [
           {
            "colorbar": {
             "outlinewidth": 0,
             "ticks": ""
            },
            "colorscale": [
             [
              0,
              "#0d0887"
             ],
             [
              0.1111111111111111,
              "#46039f"
             ],
             [
              0.2222222222222222,
              "#7201a8"
             ],
             [
              0.3333333333333333,
              "#9c179e"
             ],
             [
              0.4444444444444444,
              "#bd3786"
             ],
             [
              0.5555555555555556,
              "#d8576b"
             ],
             [
              0.6666666666666666,
              "#ed7953"
             ],
             [
              0.7777777777777778,
              "#fb9f3a"
             ],
             [
              0.8888888888888888,
              "#fdca26"
             ],
             [
              1,
              "#f0f921"
             ]
            ],
            "type": "histogram2dcontour"
           }
          ],
          "mesh3d": [
           {
            "colorbar": {
             "outlinewidth": 0,
             "ticks": ""
            },
            "type": "mesh3d"
           }
          ],
          "parcoords": [
           {
            "line": {
             "colorbar": {
              "outlinewidth": 0,
              "ticks": ""
             }
            },
            "type": "parcoords"
           }
          ],
          "pie": [
           {
            "automargin": true,
            "type": "pie"
           }
          ],
          "scatter": [
           {
            "fillpattern": {
             "fillmode": "overlay",
             "size": 10,
             "solidity": 0.2
            },
            "type": "scatter"
           }
          ],
          "scatter3d": [
           {
            "line": {
             "colorbar": {
              "outlinewidth": 0,
              "ticks": ""
             }
            },
            "marker": {
             "colorbar": {
              "outlinewidth": 0,
              "ticks": ""
             }
            },
            "type": "scatter3d"
           }
          ],
          "scattercarpet": [
           {
            "marker": {
             "colorbar": {
              "outlinewidth": 0,
              "ticks": ""
             }
            },
            "type": "scattercarpet"
           }
          ],
          "scattergeo": [
           {
            "marker": {
             "colorbar": {
              "outlinewidth": 0,
              "ticks": ""
             }
            },
            "type": "scattergeo"
           }
          ],
          "scattergl": [
           {
            "marker": {
             "colorbar": {
              "outlinewidth": 0,
              "ticks": ""
             }
            },
            "type": "scattergl"
           }
          ],
          "scattermapbox": [
           {
            "marker": {
             "colorbar": {
              "outlinewidth": 0,
              "ticks": ""
             }
            },
            "type": "scattermapbox"
           }
          ],
          "scatterpolar": [
           {
            "marker": {
             "colorbar": {
              "outlinewidth": 0,
              "ticks": ""
             }
            },
            "type": "scatterpolar"
           }
          ],
          "scatterpolargl": [
           {
            "marker": {
             "colorbar": {
              "outlinewidth": 0,
              "ticks": ""
             }
            },
            "type": "scatterpolargl"
           }
          ],
          "scatterternary": [
           {
            "marker": {
             "colorbar": {
              "outlinewidth": 0,
              "ticks": ""
             }
            },
            "type": "scatterternary"
           }
          ],
          "surface": [
           {
            "colorbar": {
             "outlinewidth": 0,
             "ticks": ""
            },
            "colorscale": [
             [
              0,
              "#0d0887"
             ],
             [
              0.1111111111111111,
              "#46039f"
             ],
             [
              0.2222222222222222,
              "#7201a8"
             ],
             [
              0.3333333333333333,
              "#9c179e"
             ],
             [
              0.4444444444444444,
              "#bd3786"
             ],
             [
              0.5555555555555556,
              "#d8576b"
             ],
             [
              0.6666666666666666,
              "#ed7953"
             ],
             [
              0.7777777777777778,
              "#fb9f3a"
             ],
             [
              0.8888888888888888,
              "#fdca26"
             ],
             [
              1,
              "#f0f921"
             ]
            ],
            "type": "surface"
           }
          ],
          "table": [
           {
            "cells": {
             "fill": {
              "color": "#EBF0F8"
             },
             "line": {
              "color": "white"
             }
            },
            "header": {
             "fill": {
              "color": "#C8D4E3"
             },
             "line": {
              "color": "white"
             }
            },
            "type": "table"
           }
          ]
         },
         "layout": {
          "annotationdefaults": {
           "arrowcolor": "#2a3f5f",
           "arrowhead": 0,
           "arrowwidth": 1
          },
          "autotypenumbers": "strict",
          "coloraxis": {
           "colorbar": {
            "outlinewidth": 0,
            "ticks": ""
           }
          },
          "colorscale": {
           "diverging": [
            [
             0,
             "#8e0152"
            ],
            [
             0.1,
             "#c51b7d"
            ],
            [
             0.2,
             "#de77ae"
            ],
            [
             0.3,
             "#f1b6da"
            ],
            [
             0.4,
             "#fde0ef"
            ],
            [
             0.5,
             "#f7f7f7"
            ],
            [
             0.6,
             "#e6f5d0"
            ],
            [
             0.7,
             "#b8e186"
            ],
            [
             0.8,
             "#7fbc41"
            ],
            [
             0.9,
             "#4d9221"
            ],
            [
             1,
             "#276419"
            ]
           ],
           "sequential": [
            [
             0,
             "#0d0887"
            ],
            [
             0.1111111111111111,
             "#46039f"
            ],
            [
             0.2222222222222222,
             "#7201a8"
            ],
            [
             0.3333333333333333,
             "#9c179e"
            ],
            [
             0.4444444444444444,
             "#bd3786"
            ],
            [
             0.5555555555555556,
             "#d8576b"
            ],
            [
             0.6666666666666666,
             "#ed7953"
            ],
            [
             0.7777777777777778,
             "#fb9f3a"
            ],
            [
             0.8888888888888888,
             "#fdca26"
            ],
            [
             1,
             "#f0f921"
            ]
           ],
           "sequentialminus": [
            [
             0,
             "#0d0887"
            ],
            [
             0.1111111111111111,
             "#46039f"
            ],
            [
             0.2222222222222222,
             "#7201a8"
            ],
            [
             0.3333333333333333,
             "#9c179e"
            ],
            [
             0.4444444444444444,
             "#bd3786"
            ],
            [
             0.5555555555555556,
             "#d8576b"
            ],
            [
             0.6666666666666666,
             "#ed7953"
            ],
            [
             0.7777777777777778,
             "#fb9f3a"
            ],
            [
             0.8888888888888888,
             "#fdca26"
            ],
            [
             1,
             "#f0f921"
            ]
           ]
          },
          "colorway": [
           "#636efa",
           "#EF553B",
           "#00cc96",
           "#ab63fa",
           "#FFA15A",
           "#19d3f3",
           "#FF6692",
           "#B6E880",
           "#FF97FF",
           "#FECB52"
          ],
          "font": {
           "color": "#2a3f5f"
          },
          "geo": {
           "bgcolor": "white",
           "lakecolor": "white",
           "landcolor": "white",
           "showlakes": true,
           "showland": true,
           "subunitcolor": "#C8D4E3"
          },
          "hoverlabel": {
           "align": "left"
          },
          "hovermode": "closest",
          "mapbox": {
           "style": "light"
          },
          "paper_bgcolor": "white",
          "plot_bgcolor": "white",
          "polar": {
           "angularaxis": {
            "gridcolor": "#EBF0F8",
            "linecolor": "#EBF0F8",
            "ticks": ""
           },
           "bgcolor": "white",
           "radialaxis": {
            "gridcolor": "#EBF0F8",
            "linecolor": "#EBF0F8",
            "ticks": ""
           }
          },
          "scene": {
           "xaxis": {
            "backgroundcolor": "white",
            "gridcolor": "#DFE8F3",
            "gridwidth": 2,
            "linecolor": "#EBF0F8",
            "showbackground": true,
            "ticks": "",
            "zerolinecolor": "#EBF0F8"
           },
           "yaxis": {
            "backgroundcolor": "white",
            "gridcolor": "#DFE8F3",
            "gridwidth": 2,
            "linecolor": "#EBF0F8",
            "showbackground": true,
            "ticks": "",
            "zerolinecolor": "#EBF0F8"
           },
           "zaxis": {
            "backgroundcolor": "white",
            "gridcolor": "#DFE8F3",
            "gridwidth": 2,
            "linecolor": "#EBF0F8",
            "showbackground": true,
            "ticks": "",
            "zerolinecolor": "#EBF0F8"
           }
          },
          "shapedefaults": {
           "line": {
            "color": "#2a3f5f"
           }
          },
          "ternary": {
           "aaxis": {
            "gridcolor": "#DFE8F3",
            "linecolor": "#A2B1C6",
            "ticks": ""
           },
           "baxis": {
            "gridcolor": "#DFE8F3",
            "linecolor": "#A2B1C6",
            "ticks": ""
           },
           "bgcolor": "white",
           "caxis": {
            "gridcolor": "#DFE8F3",
            "linecolor": "#A2B1C6",
            "ticks": ""
           }
          },
          "title": {
           "x": 0.05
          },
          "xaxis": {
           "automargin": true,
           "gridcolor": "#EBF0F8",
           "linecolor": "#EBF0F8",
           "ticks": "",
           "title": {
            "standoff": 15
           },
           "zerolinecolor": "#EBF0F8",
           "zerolinewidth": 2
          },
          "yaxis": {
           "automargin": true,
           "gridcolor": "#EBF0F8",
           "linecolor": "#EBF0F8",
           "ticks": "",
           "title": {
            "standoff": 15
           },
           "zerolinecolor": "#EBF0F8",
           "zerolinewidth": 2
          }
         }
        },
        "title": {
         "text": "Distribution of Ad Spend"
        },
        "width": 800,
        "xaxis": {
         "anchor": "y",
         "autorange": true,
         "domain": [
          0,
          1
         ],
         "range": [
          -9993065.777777778,
          190265189.7777778
         ],
         "title": {
          "text": "Ad Spend (INR)"
         },
         "type": "linear"
        },
        "xaxis2": {
         "anchor": "y2",
         "autorange": true,
         "domain": [
          0,
          1
         ],
         "matches": "x",
         "range": [
          -9993065.777777778,
          190265189.7777778
         ],
         "showgrid": true,
         "showticklabels": false,
         "type": "linear"
        },
        "yaxis": {
         "anchor": "x",
         "autorange": true,
         "domain": [
          0,
          0.8316
         ],
         "range": [
          0,
          92.63157894736842
         ],
         "title": {
          "text": "count"
         }
        },
        "yaxis2": {
         "anchor": "x2",
         "autorange": true,
         "domain": [
          0.8416,
          1
         ],
         "matches": "y2",
         "range": [
          -0.5,
          0.5
         ],
         "showgrid": false,
         "showline": false,
         "showticklabels": false,
         "ticks": "",
         "type": "category"
        }
       }
      },
      "image/png": "[encoded data removed]",
      "text/html": [
       "<div>                            <div id=\"fa43204c-10ce-4072-9c56-2a6f2b9675f0\" class=\"plotly-graph-div\" style=\"height:600px; width:800px;\"></div>            <script type=\"text/javascript\">                require([\"plotly\"], function(Plotly) {                    window.PLOTLYENV=window.PLOTLYENV || {};                                    if (document.getElementById(\"fa43204c-10ce-4072-9c56-2a6f2b9675f0\")) {                    Plotly.newPlot(                        \"fa43204c-10ce-4072-9c56-2a6f2b9675f0\",                        [{\"alignmentgroup\":\"True\",\"bingroup\":\"x\",\"hovertemplate\":\"Ad Spend (INR)=%{x}<br>count=%{y}<extra></extra>\",\"legendgroup\":\"\",\"marker\":{\"color\":\"#636efa\",\"pattern\":{\"shape\":\"\"},\"line\":{\"color\":\"black\",\"width\":1}},\"name\":\"\",\"nbinsx\":30,\"offsetgroup\":\"\",\"orientation\":\"v\",\"showlegend\":false,\"x\":[null,1385654.0,1385654.0,17478091.0,17478091.0,17478091.0,17478091.0,17478091.0,53619242.0,53619242.0,53619242.0,53619242.0,14803286.0,6575061.0,19847.0,39992952.0,39992952.0,39992952.0,39992952.0,39992952.0,39992952.0,101917091.0,101917091.0,101917091.0,101917091.0,101917091.0,889062.0,889062.0,884220.0,884220.0,481052.0,599170.0,1535672.0,41268323.0,41268323.0,41268323.0,41268323.0,41268323.0,41268323.0,41268323.0,41268323.0,41268323.0,41268323.0,41268323.0,41268323.0,4379297.0,76622608.0,76622608.0,76622608.0,76622608.0,76622608.0,76622608.0,76622608.0,76622608.0,76622608.0,76622608.0,76622608.0,76622608.0,76622608.0,76622608.0,76622608.0,76622608.0,76622608.0,76622608.0,76622608.0,76622608.0,76622608.0,76622608.0,76622608.0,76622608.0,76622608.0,76622608.0,76622608.0,76622608.0,76622608.0,76622608.0,76622608.0,76622608.0,76622608.0,76622608.0,76622608.0,76622608.0,76622608.0,76622608.0,76622608.0,1857459.0,89668131.0,89668131.0,89668131.0,89668131.0,89668131.0,89668131.0,89668131.0,89668131.0,7140897.0,7140897.0,7140897.0,7140897.0,7140897.0,77244996.0,77244996.0,77244996.0,null,17478091.0,17478091.0,17478091.0,17478091.0,17478091.0,53619242.0,53619242.0,53619242.0,53619242.0,53619242.0,14803286.0,14803286.0,14803286.0,6575061.0,41659397.0,41659397.0,41659397.0,41659397.0,41659397.0,41659397.0,41659397.0,41659397.0,41659397.0,41659397.0,41659397.0,41659397.0,41659397.0,41659397.0,22681201.0,22681201.0,22681201.0,22681201.0,22681201.0,22681201.0,22681201.0,22681201.0,22681201.0,22681201.0,22681201.0,22681201.0,22681201.0,22681201.0,22681201.0,22681201.0,22681201.0,22681201.0,22681201.0,22681201.0,39992952.0,39992952.0,39992952.0,39992952.0,39992952.0,39992952.0,101917091.0,101917091.0,101917091.0,101917091.0,101917091.0,101917091.0,101917091.0,101917091.0,889062.0,41268323.0,41268323.0,41268323.0,41268323.0,41268323.0,41268323.0,41268323.0,41268323.0,41268323.0,41268323.0,41268323.0,41268323.0,41268323.0,1857459.0,89668131.0,89668131.0,89668131.0,89668131.0,89668131.0,89668131.0,89668131.0,89668131.0,77244996.0,77244996.0,77244996.0,null,17478091.0,17478091.0,17478091.0,17478091.0,53619242.0,53619242.0,53619242.0,53619242.0,53619242.0,14803286.0,14803286.0,14803286.0,14803286.0,14803286.0,14803286.0,14803286.0,null,null,2164209.0,2164209.0,40425399.0,40425399.0,40425399.0,40425399.0,40425399.0,40425399.0,40425399.0,40425399.0,40425399.0,40425399.0,40425399.0,40425399.0,40425399.0,40425399.0,40425399.0,40425399.0,40425399.0,40425399.0,40425399.0,40425399.0,40425399.0,40425399.0,40425399.0,40425399.0,40425399.0,41659397.0,41659397.0,41659397.0,41659397.0,41659397.0,41659397.0,41659397.0,41659397.0,41659397.0,41659397.0,41659397.0,41659397.0,41659397.0,41659397.0,39992952.0,39992952.0,39992952.0,39992952.0,39992952.0,39992952.0,39992952.0,39992952.0,39992952.0,101917091.0,101917091.0,101917091.0,101917091.0,101917091.0,101917091.0,101917091.0,101917091.0,101917091.0,101917091.0,101917091.0,89668131.0,89668131.0,89668131.0,89668131.0,89668131.0,89668131.0,89668131.0,89668131.0,89668131.0,89668131.0,77244996.0,77244996.0,77244996.0,77244996.0,null,100819732.0,100819732.0,100819732.0,100819732.0,100819732.0,100819732.0,100819732.0,100819732.0,100819732.0,100819732.0,100819732.0,100819732.0,100819732.0,100819732.0,100819732.0,100819732.0,100819732.0,100819732.0,100819732.0,100819732.0,100819732.0,100819732.0,100819732.0,100819732.0,100819732.0,53619242.0,53619242.0,53619242.0,53619242.0,53619242.0,6575061.0,16380139.0,16380139.0,16380139.0,16380139.0,39992952.0,39992952.0,39992952.0,39992952.0,39992952.0,39992952.0,39992952.0,39992952.0,101917091.0,101917091.0,101917091.0,101917091.0,101917091.0,101917091.0,101917091.0,101917091.0,101917091.0,101917091.0,101917091.0,180252277.0,180252277.0,180252277.0,180252277.0,54496166.0,54496166.0,54496166.0,54496166.0,54496166.0,54496166.0,54496166.0,54496166.0,54496166.0,54496166.0,54496166.0,54496166.0,54496166.0,54496166.0,54496166.0,54496166.0,54496166.0,89668131.0,89668131.0,89668131.0,89668131.0,89668131.0,89668131.0,89668131.0,89668131.0,89668131.0,89668131.0,89668131.0,89668131.0,89668131.0,77244996.0,77244996.0,77244996.0,77244996.0,77244996.0,77244996.0,77244996.0,77244996.0,null,53619242.0,53619242.0,53619242.0,53619242.0,53619242.0,6575061.0,16380139.0,16380139.0,16380139.0,null,101917091.0,101917091.0,101917091.0,101917091.0,101917091.0,101917091.0,101917091.0,101917091.0,101917091.0,101917091.0,101917091.0,101917091.0,101917091.0,180252277.0,180252277.0,180252277.0,180252277.0,180252277.0,89668131.0,89668131.0,89668131.0,89668131.0,89668131.0,89668131.0,89668131.0,89668131.0,89668131.0,89668131.0,89668131.0,89668131.0,89668131.0,89668131.0,77244996.0,77244996.0,77244996.0,77244996.0,77244996.0,77244996.0,77244996.0,null,53619242.0,53619242.0,53619242.0,53619242.0,53619242.0,53619242.0,53619242.0,53619242.0,41683411.0,41683411.0,41683411.0,41683411.0,41683411.0,41683411.0,41683411.0,41683411.0,41683411.0,41683411.0,6575061.0,16380139.0,16380139.0,16380139.0,16380139.0,null,null,null,null,null,null,null,180252277.0,180252277.0,180252277.0,180252277.0,180252277.0,180252277.0,89668131.0,89668131.0,89668131.0,89668131.0,89668131.0,89668131.0,89668131.0,89668131.0,89668131.0,89668131.0,89668131.0,89668131.0,89668131.0,89668131.0,77244996.0,77244996.0,77244996.0,77244996.0,77244996.0,77244996.0,77244996.0,77244996.0,null,53619242.0,53619242.0,53619242.0,53619242.0,53619242.0,53619242.0,53619242.0,53619242.0,6507258.0,12011616.0,12011616.0,12011616.0,12011616.0,16380139.0,16380139.0,16380139.0,180252277.0,180252277.0,180252277.0,180252277.0,180252277.0,180252277.0,null,null,null,null,null,null,null,null,null,null,null,null,null,89668131.0,89668131.0,89668131.0,89668131.0,89668131.0,89668131.0,89668131.0,89668131.0,89668131.0,89668131.0,89668131.0,89668131.0,89668131.0,77244996.0,77244996.0,77244996.0,77244996.0,77244996.0,77244996.0,77244996.0,77244996.0,77244996.0,null],\"xaxis\":\"x\",\"yaxis\":\"y\",\"type\":\"histogram\"},{\"alignmentgroup\":\"True\",\"hovertemplate\":\"Ad Spend (INR)=%{x}<extra></extra>\",\"legendgroup\":\"\",\"marker\":{\"color\":\"#636efa\",\"line\":{\"color\":\"black\",\"width\":1}},\"name\":\"\",\"notched\":true,\"offsetgroup\":\"\",\"showlegend\":false,\"x\":[null,1385654.0,1385654.0,17478091.0,17478091.0,17478091.0,17478091.0,17478091.0,53619242.0,53619242.0,53619242.0,53619242.0,14803286.0,6575061.0,19847.0,39992952.0,39992952.0,39992952.0,39992952.0,39992952.0,39992952.0,101917091.0,101917091.0,101917091.0,101917091.0,101917091.0,889062.0,889062.0,884220.0,884220.0,481052.0,599170.0,1535672.0,41268323.0,41268323.0,41268323.0,41268323.0,41268323.0,41268323.0,41268323.0,41268323.0,41268323.0,41268323.0,41268323.0,41268323.0,4379297.0,76622608.0,76622608.0,76622608.0,76622608.0,76622608.0,76622608.0,76622608.0,76622608.0,76622608.0,76622608.0,76622608.0,76622608.0,76622608.0,76622608.0,76622608.0,76622608.0,76622608.0,76622608.0,76622608.0,76622608.0,76622608.0,76622608.0,76622608.0,76622608.0,76622608.0,76622608.0,76622608.0,76622608.0,76622608.0,76622608.0,76622608.0,76622608.0,76622608.0,76622608.0,76622608.0,76622608.0,76622608.0,76622608.0,76622608.0,1857459.0,89668131.0,89668131.0,89668131.0,89668131.0,89668131.0,89668131.0,89668131.0,89668131.0,7140897.0,7140897.0,7140897.0,7140897.0,7140897.0,77244996.0,77244996.0,77244996.0,null,17478091.0,17478091.0,17478091.0,17478091.0,17478091.0,53619242.0,53619242.0,53619242.0,53619242.0,53619242.0,14803286.0,14803286.0,14803286.0,6575061.0,41659397.0,41659397.0,41659397.0,41659397.0,41659397.0,41659397.0,41659397.0,41659397.0,41659397.0,41659397.0,41659397.0,41659397.0,41659397.0,41659397.0,22681201.0,22681201.0,22681201.0,22681201.0,22681201.0,22681201.0,22681201.0,22681201.0,22681201.0,22681201.0,22681201.0,22681201.0,22681201.0,22681201.0,22681201.0,22681201.0,22681201.0,22681201.0,22681201.0,22681201.0,39992952.0,39992952.0,39992952.0,39992952.0,39992952.0,39992952.0,101917091.0,101917091.0,101917091.0,101917091.0,101917091.0,101917091.0,101917091.0,101917091.0,889062.0,41268323.0,41268323.0,41268323.0,41268323.0,41268323.0,41268323.0,41268323.0,41268323.0,41268323.0,41268323.0,41268323.0,41268323.0,41268323.0,1857459.0,89668131.0,89668131.0,89668131.0,89668131.0,89668131.0,89668131.0,89668131.0,89668131.0,77244996.0,77244996.0,77244996.0,null,17478091.0,17478091.0,17478091.0,17478091.0,53619242.0,53619242.0,53619242.0,53619242.0,53619242.0,14803286.0,14803286.0,14803286.0,14803286.0,14803286.0,14803286.0,14803286.0,null,null,2164209.0,2164209.0,40425399.0,40425399.0,40425399.0,40425399.0,40425399.0,40425399.0,40425399.0,40425399.0,40425399.0,40425399.0,40425399.0,40425399.0,40425399.0,40425399.0,40425399.0,40425399.0,40425399.0,40425399.0,40425399.0,40425399.0,40425399.0,40425399.0,40425399.0,40425399.0,40425399.0,41659397.0,41659397.0,41659397.0,41659397.0,41659397.0,41659397.0,41659397.0,41659397.0,41659397.0,41659397.0,41659397.0,41659397.0,41659397.0,41659397.0,39992952.0,39992952.0,39992952.0,39992952.0,39992952.0,39992952.0,39992952.0,39992952.0,39992952.0,101917091.0,101917091.0,101917091.0,101917091.0,101917091.0,101917091.0,101917091.0,101917091.0,101917091.0,101917091.0,101917091.0,89668131.0,89668131.0,89668131.0,89668131.0,89668131.0,89668131.0,89668131.0,89668131.0,89668131.0,89668131.0,77244996.0,77244996.0,77244996.0,77244996.0,null,100819732.0,100819732.0,100819732.0,100819732.0,100819732.0,100819732.0,100819732.0,100819732.0,100819732.0,100819732.0,100819732.0,100819732.0,100819732.0,100819732.0,100819732.0,100819732.0,100819732.0,100819732.0,100819732.0,100819732.0,100819732.0,100819732.0,100819732.0,100819732.0,100819732.0,53619242.0,53619242.0,53619242.0,53619242.0,53619242.0,6575061.0,16380139.0,16380139.0,16380139.0,16380139.0,39992952.0,39992952.0,39992952.0,39992952.0,39992952.0,39992952.0,39992952.0,39992952.0,101917091.0,101917091.0,101917091.0,101917091.0,101917091.0,101917091.0,101917091.0,101917091.0,101917091.0,101917091.0,101917091.0,180252277.0,180252277.0,180252277.0,180252277.0,54496166.0,54496166.0,54496166.0,54496166.0,54496166.0,54496166.0,54496166.0,54496166.0,54496166.0,54496166.0,54496166.0,54496166.0,54496166.0,54496166.0,54496166.0,54496166.0,54496166.0,89668131.0,89668131.0,89668131.0,89668131.0,89668131.0,89668131.0,89668131.0,89668131.0,89668131.0,89668131.0,89668131.0,89668131.0,89668131.0,77244996.0,77244996.0,77244996.0,77244996.0,77244996.0,77244996.0,77244996.0,77244996.0,null,53619242.0,53619242.0,53619242.0,53619242.0,53619242.0,6575061.0,16380139.0,16380139.0,16380139.0,null,101917091.0,101917091.0,101917091.0,101917091.0,101917091.0,101917091.0,101917091.0,101917091.0,101917091.0,101917091.0,101917091.0,101917091.0,101917091.0,180252277.0,180252277.0,180252277.0,180252277.0,180252277.0,89668131.0,89668131.0,89668131.0,89668131.0,89668131.0,89668131.0,89668131.0,89668131.0,89668131.0,89668131.0,89668131.0,89668131.0,89668131.0,89668131.0,77244996.0,77244996.0,77244996.0,77244996.0,77244996.0,77244996.0,77244996.0,null,53619242.0,53619242.0,53619242.0,53619242.0,53619242.0,53619242.0,53619242.0,53619242.0,41683411.0,41683411.0,41683411.0,41683411.0,41683411.0,41683411.0,41683411.0,41683411.0,41683411.0,41683411.0,6575061.0,16380139.0,16380139.0,16380139.0,16380139.0,null,null,null,null,null,null,null,180252277.0,180252277.0,180252277.0,180252277.0,180252277.0,180252277.0,89668131.0,89668131.0,89668131.0,89668131.0,89668131.0,89668131.0,89668131.0,89668131.0,89668131.0,89668131.0,89668131.0,89668131.0,89668131.0,89668131.0,77244996.0,77244996.0,77244996.0,77244996.0,77244996.0,77244996.0,77244996.0,77244996.0,null,53619242.0,53619242.0,53619242.0,53619242.0,53619242.0,53619242.0,53619242.0,53619242.0,6507258.0,12011616.0,12011616.0,12011616.0,12011616.0,16380139.0,16380139.0,16380139.0,180252277.0,180252277.0,180252277.0,180252277.0,180252277.0,180252277.0,null,null,null,null,null,null,null,null,null,null,null,null,null,89668131.0,89668131.0,89668131.0,89668131.0,89668131.0,89668131.0,89668131.0,89668131.0,89668131.0,89668131.0,89668131.0,89668131.0,89668131.0,77244996.0,77244996.0,77244996.0,77244996.0,77244996.0,77244996.0,77244996.0,77244996.0,77244996.0,null],\"xaxis\":\"x2\",\"yaxis\":\"y2\",\"type\":\"box\"}],                        {\"template\":{\"data\":{\"histogram2dcontour\":[{\"type\":\"histogram2dcontour\",\"colorbar\":{\"outlinewidth\":0,\"ticks\":\"\"},\"colorscale\":[[0.0,\"#0d0887\"],[0.1111111111111111,\"#46039f\"],[0.2222222222222222,\"#7201a8\"],[0.3333333333333333,\"#9c179e\"],[0.4444444444444444,\"#bd3786\"],[0.5555555555555556,\"#d8576b\"],[0.6666666666666666,\"#ed7953\"],[0.7777777777777778,\"#fb9f3a\"],[0.8888888888888888,\"#fdca26\"],[1.0,\"#f0f921\"]]}],\"choropleth\":[{\"type\":\"choropleth\",\"colorbar\":{\"outlinewidth\":0,\"ticks\":\"\"}}],\"histogram2d\":[{\"type\":\"histogram2d\",\"colorbar\":{\"outlinewidth\":0,\"ticks\":\"\"},\"colorscale\":[[0.0,\"#0d0887\"],[0.1111111111111111,\"#46039f\"],[0.2222222222222222,\"#7201a8\"],[0.3333333333333333,\"#9c179e\"],[0.4444444444444444,\"#bd3786\"],[0.5555555555555556,\"#d8576b\"],[0.6666666666666666,\"#ed7953\"],[0.7777777777777778,\"#fb9f3a\"],[0.8888888888888888,\"#fdca26\"],[1.0,\"#f0f921\"]]}],\"heatmap\":[{\"type\":\"heatmap\",\"colorbar\":{\"outlinewidth\":0,\"ticks\":\"\"},\"colorscale\":[[0.0,\"#0d0887\"],[0.1111111111111111,\"#46039f\"],[0.2222222222222222,\"#7201a8\"],[0.3333333333333333,\"#9c179e\"],[0.4444444444444444,\"#bd3786\"],[0.5555555555555556,\"#d8576b\"],[0.6666666666666666,\"#ed7953\"],[0.7777777777777778,\"#fb9f3a\"],[0.8888888888888888,\"#fdca26\"],[1.0,\"#f0f921\"]]}],\"heatmapgl\":[{\"type\":\"heatmapgl\",\"colorbar\":{\"outlinewidth\":0,\"ticks\":\"\"},\"colorscale\":[[0.0,\"#0d0887\"],[0.1111111111111111,\"#46039f\"],[0.2222222222222222,\"#7201a8\"],[0.3333333333333333,\"#9c179e\"],[0.4444444444444444,\"#bd3786\"],[0.5555555555555556,\"#d8576b\"],[0.6666666666666666,\"#ed7953\"],[0.7777777777777778,\"#fb9f3a\"],[0.8888888888888888,\"#fdca26\"],[1.0,\"#f0f921\"]]}],\"contourcarpet\":[{\"type\":\"contourcarpet\",\"colorbar\":{\"outlinewidth\":0,\"ticks\":\"\"}}],\"contour\":[{\"type\":\"contour\",\"colorbar\":{\"outlinewidth\":0,\"ticks\":\"\"},\"colorscale\":[[0.0,\"#0d0887\"],[0.1111111111111111,\"#46039f\"],[0.2222222222222222,\"#7201a8\"],[0.3333333333333333,\"#9c179e\"],[0.4444444444444444,\"#bd3786\"],[0.5555555555555556,\"#d8576b\"],[0.6666666666666666,\"#ed7953\"],[0.7777777777777778,\"#fb9f3a\"],[0.8888888888888888,\"#fdca26\"],[1.0,\"#f0f921\"]]}],\"surface\":[{\"type\":\"surface\",\"colorbar\":{\"outlinewidth\":0,\"ticks\":\"\"},\"colorscale\":[[0.0,\"#0d0887\"],[0.1111111111111111,\"#46039f\"],[0.2222222222222222,\"#7201a8\"],[0.3333333333333333,\"#9c179e\"],[0.4444444444444444,\"#bd3786\"],[0.5555555555555556,\"#d8576b\"],[0.6666666666666666,\"#ed7953\"],[0.7777777777777778,\"#fb9f3a\"],[0.8888888888888888,\"#fdca26\"],[1.0,\"#f0f921\"]]}],\"mesh3d\":[{\"type\":\"mesh3d\",\"colorbar\":{\"outlinewidth\":0,\"ticks\":\"\"}}],\"scatter\":[{\"fillpattern\":{\"fillmode\":\"overlay\",\"size\":10,\"solidity\":0.2},\"type\":\"scatter\"}],\"parcoords\":[{\"type\":\"parcoords\",\"line\":{\"colorbar\":{\"outlinewidth\":0,\"ticks\":\"\"}}}],\"scatterpolargl\":[{\"type\":\"scatterpolargl\",\"marker\":{\"colorbar\":{\"outlinewidth\":0,\"ticks\":\"\"}}}],\"bar\":[{\"error_x\":{\"color\":\"#2a3f5f\"},\"error_y\":{\"color\":\"#2a3f5f\"},\"marker\":{\"line\":{\"color\":\"white\",\"width\":0.5},\"pattern\":{\"fillmode\":\"overlay\",\"size\":10,\"solidity\":0.2}},\"type\":\"bar\"}],\"scattergeo\":[{\"type\":\"scattergeo\",\"marker\":{\"colorbar\":{\"outlinewidth\":0,\"ticks\":\"\"}}}],\"scatterpolar\":[{\"type\":\"scatterpolar\",\"marker\":{\"colorbar\":{\"outlinewidth\":0,\"ticks\":\"\"}}}],\"histogram\":[{\"marker\":{\"pattern\":{\"fillmode\":\"overlay\",\"size\":10,\"solidity\":0.2}},\"type\":\"histogram\"}],\"scattergl\":[{\"type\":\"scattergl\",\"marker\":{\"colorbar\":{\"outlinewidth\":0,\"ticks\":\"\"}}}],\"scatter3d\":[{\"type\":\"scatter3d\",\"line\":{\"colorbar\":{\"outlinewidth\":0,\"ticks\":\"\"}},\"marker\":{\"colorbar\":{\"outlinewidth\":0,\"ticks\":\"\"}}}],\"scattermapbox\":[{\"type\":\"scattermapbox\",\"marker\":{\"colorbar\":{\"outlinewidth\":0,\"ticks\":\"\"}}}],\"scatterternary\":[{\"type\":\"scatterternary\",\"marker\":{\"colorbar\":{\"outlinewidth\":0,\"ticks\":\"\"}}}],\"scattercarpet\":[{\"type\":\"scattercarpet\",\"marker\":{\"colorbar\":{\"outlinewidth\":0,\"ticks\":\"\"}}}],\"carpet\":[{\"aaxis\":{\"endlinecolor\":\"#2a3f5f\",\"gridcolor\":\"#C8D4E3\",\"linecolor\":\"#C8D4E3\",\"minorgridcolor\":\"#C8D4E3\",\"startlinecolor\":\"#2a3f5f\"},\"baxis\":{\"endlinecolor\":\"#2a3f5f\",\"gridcolor\":\"#C8D4E3\",\"linecolor\":\"#C8D4E3\",\"minorgridcolor\":\"#C8D4E3\",\"startlinecolor\":\"#2a3f5f\"},\"type\":\"carpet\"}],\"table\":[{\"cells\":{\"fill\":{\"color\":\"#EBF0F8\"},\"line\":{\"color\":\"white\"}},\"header\":{\"fill\":{\"color\":\"#C8D4E3\"},\"line\":{\"color\":\"white\"}},\"type\":\"table\"}],\"barpolar\":[{\"marker\":{\"line\":{\"color\":\"white\",\"width\":0.5},\"pattern\":{\"fillmode\":\"overlay\",\"size\":10,\"solidity\":0.2}},\"type\":\"barpolar\"}],\"pie\":[{\"automargin\":true,\"type\":\"pie\"}]},\"layout\":{\"autotypenumbers\":\"strict\",\"colorway\":[\"#636efa\",\"#EF553B\",\"#00cc96\",\"#ab63fa\",\"#FFA15A\",\"#19d3f3\",\"#FF6692\",\"#B6E880\",\"#FF97FF\",\"#FECB52\"],\"font\":{\"color\":\"#2a3f5f\"},\"hovermode\":\"closest\",\"hoverlabel\":{\"align\":\"left\"},\"paper_bgcolor\":\"white\",\"plot_bgcolor\":\"white\",\"polar\":{\"bgcolor\":\"white\",\"angularaxis\":{\"gridcolor\":\"#EBF0F8\",\"linecolor\":\"#EBF0F8\",\"ticks\":\"\"},\"radialaxis\":{\"gridcolor\":\"#EBF0F8\",\"linecolor\":\"#EBF0F8\",\"ticks\":\"\"}},\"ternary\":{\"bgcolor\":\"white\",\"aaxis\":{\"gridcolor\":\"#DFE8F3\",\"linecolor\":\"#A2B1C6\",\"ticks\":\"\"},\"baxis\":{\"gridcolor\":\"#DFE8F3\",\"linecolor\":\"#A2B1C6\",\"ticks\":\"\"},\"caxis\":{\"gridcolor\":\"#DFE8F3\",\"linecolor\":\"#A2B1C6\",\"ticks\":\"\"}},\"coloraxis\":{\"colorbar\":{\"outlinewidth\":0,\"ticks\":\"\"}},\"colorscale\":{\"sequential\":[[0.0,\"#0d0887\"],[0.1111111111111111,\"#46039f\"],[0.2222222222222222,\"#7201a8\"],[0.3333333333333333,\"#9c179e\"],[0.4444444444444444,\"#bd3786\"],[0.5555555555555556,\"#d8576b\"],[0.6666666666666666,\"#ed7953\"],[0.7777777777777778,\"#fb9f3a\"],[0.8888888888888888,\"#fdca26\"],[1.0,\"#f0f921\"]],\"sequentialminus\":[[0.0,\"#0d0887\"],[0.1111111111111111,\"#46039f\"],[0.2222222222222222,\"#7201a8\"],[0.3333333333333333,\"#9c179e\"],[0.4444444444444444,\"#bd3786\"],[0.5555555555555556,\"#d8576b\"],[0.6666666666666666,\"#ed7953\"],[0.7777777777777778,\"#fb9f3a\"],[0.8888888888888888,\"#fdca26\"],[1.0,\"#f0f921\"]],\"diverging\":[[0,\"#8e0152\"],[0.1,\"#c51b7d\"],[0.2,\"#de77ae\"],[0.3,\"#f1b6da\"],[0.4,\"#fde0ef\"],[0.5,\"#f7f7f7\"],[0.6,\"#e6f5d0\"],[0.7,\"#b8e186\"],[0.8,\"#7fbc41\"],[0.9,\"#4d9221\"],[1,\"#276419\"]]},\"xaxis\":{\"gridcolor\":\"#EBF0F8\",\"linecolor\":\"#EBF0F8\",\"ticks\":\"\",\"title\":{\"standoff\":15},\"zerolinecolor\":\"#EBF0F8\",\"automargin\":true,\"zerolinewidth\":2},\"yaxis\":{\"gridcolor\":\"#EBF0F8\",\"linecolor\":\"#EBF0F8\",\"ticks\":\"\",\"title\":{\"standoff\":15},\"zerolinecolor\":\"#EBF0F8\",\"automargin\":true,\"zerolinewidth\":2},\"scene\":{\"xaxis\":{\"backgroundcolor\":\"white\",\"gridcolor\":\"#DFE8F3\",\"linecolor\":\"#EBF0F8\",\"showbackground\":true,\"ticks\":\"\",\"zerolinecolor\":\"#EBF0F8\",\"gridwidth\":2},\"yaxis\":{\"backgroundcolor\":\"white\",\"gridcolor\":\"#DFE8F3\",\"linecolor\":\"#EBF0F8\",\"showbackground\":true,\"ticks\":\"\",\"zerolinecolor\":\"#EBF0F8\",\"gridwidth\":2},\"zaxis\":{\"backgroundcolor\":\"white\",\"gridcolor\":\"#DFE8F3\",\"linecolor\":\"#EBF0F8\",\"showbackground\":true,\"ticks\":\"\",\"zerolinecolor\":\"#EBF0F8\",\"gridwidth\":2}},\"shapedefaults\":{\"line\":{\"color\":\"#2a3f5f\"}},\"annotationdefaults\":{\"arrowcolor\":\"#2a3f5f\",\"arrowhead\":0,\"arrowwidth\":1},\"geo\":{\"bgcolor\":\"white\",\"landcolor\":\"white\",\"subunitcolor\":\"#C8D4E3\",\"showland\":true,\"showlakes\":true,\"lakecolor\":\"white\"},\"title\":{\"x\":0.05},\"mapbox\":{\"style\":\"light\"}}},\"xaxis\":{\"anchor\":\"y\",\"domain\":[0.0,1.0],\"title\":{\"text\":\"Ad Spend (INR)\"}},\"yaxis\":{\"anchor\":\"x\",\"domain\":[0.0,0.8316],\"title\":{\"text\":\"count\"}},\"xaxis2\":{\"anchor\":\"y2\",\"domain\":[0.0,1.0],\"matches\":\"x\",\"showticklabels\":false,\"showgrid\":true},\"yaxis2\":{\"anchor\":\"x2\",\"domain\":[0.8416,1.0],\"matches\":\"y2\",\"showticklabels\":false,\"showline\":false,\"ticks\":\"\",\"showgrid\":false},\"legend\":{\"tracegroupgap\":0},\"title\":{\"text\":\"Distribution of Ad Spend\"},\"barmode\":\"relative\",\"bargap\":0.1,\"width\":800,\"height\":600},                        {\"responsive\": true}                    ).then(function(){\n",
       "                            \n",
       "var gd = document.getElementById('fa43204c-10ce-4072-9c56-2a6f2b9675f0');\n",
       "var x = new MutationObserver(function (mutations, observer) {{\n",
       "        var display = window.getComputedStyle(gd).display;\n",
       "        if (!display || display === 'none') {{\n",
       "            console.log([gd, 'removed!']);\n",
       "            Plotly.purge(gd);\n",
       "            observer.disconnect();\n",
       "        }}\n",
       "}});\n",
       "\n",
       "// Listen for the removal of the full notebook cells\n",
       "var notebookContainer = gd.closest('#notebook-container');\n",
       "if (notebookContainer) {{\n",
       "    x.observe(notebookContainer, {childList: true});\n",
       "}}\n",
       "\n",
       "// Listen for the clearing of the current output cell\n",
       "var outputEl = gd.closest('.output');\n",
       "if (outputEl) {{\n",
       "    x.observe(outputEl, {childList: true});\n",
       "}}\n",
       "\n",
       "                        })                };                });            </script>        </div>"
      ]
     },
     "metadata": {},
     "output_type": "display_data"
    }
   ],
   "source": [
    "AdDistributionfig = px.histogram(merged_data, x='Amount spent (INR)', nbins=30, marginal='box',\n",
    "                   labels={'Amount spent (INR)': 'Ad Spend (INR)'},\n",
    "                   title='Distribution of Ad Spend')\n",
    "\n",
    "AdDistributionfig.update_traces(marker=dict(line=dict(color='black', width=1)))\n",
    "AdDistributionfig.update_layout(bargap=0.1, width=800, height=600)\n",
    "\n",
    "AdDistributionfig.show()"
   ]
  },
  {
   "cell_type": "markdown",
   "id": "2ce5ea70-6a94-44ec-a444-b78a84e70d14",
   "metadata": {},
   "source": [
    "- The histogram indicates that most constituencies have ad spends clustered around the 50M and 100M INR marks, with fewer constituencies spending less than 10M INR or more than 150M INR. The box plot highlights that the median ad spend is around 70M INR, with the interquartile range (IQR) spanning from approximately 30M to 110M INR. There are a few outliers, particularly a constituency with an exceptionally high ad spend above 150M INR. This distribution suggests that while the majority of ad spends are concentrated within a certain range, there are notable exceptions with significantly higher expenditures."
   ]
  },
  {
   "cell_type": "markdown",
   "id": "fbfb6a2c-fbcc-498d-be53-486abeb66ef5",
   "metadata": {},
   "source": [
    "### Ad spending and voter turnout by election phase:"
   ]
  },
  {
   "cell_type": "code",
   "execution_count": 404,
   "id": "1519c57a-027c-4d34-841e-0e2d98767459",
   "metadata": {},
   "outputs": [
    {
     "data": {
      "application/vnd.plotly.v1+json": {
       "config": {
        "plotlyServerURL": "https://plot.ly"
       },
       "data": [
        {
         "marker": {
          "color": "indianred"
         },
         "name": "Ad Spend (INR)",
         "type": "bar",
         "x": [
          1,
          2,
          3,
          4,
          5,
          6
         ],
         "y": [
          5556265415,
          3986936358,
          4726512390,
          7732806345,
          4346064062,
          3872711127
         ],
         "yaxis": "y"
        },
        {
         "marker": {
          "color": "lightsalmon"
         },
         "name": "Voter Turnout (%)",
         "type": "scatter",
         "x": [
          1,
          2,
          3,
          4,
          5,
          6
         ],
         "y": [
          67.2021359223301,
          67.75539325842696,
          65.99265957446809,
          70.17494845360825,
          62.6304,
          63.828813559322036
         ],
         "yaxis": "y2"
        }
       ],
       "layout": {
        "autosize": true,
        "template": {
         "data": {
          "bar": [
           {
            "error_x": {
             "color": "#2a3f5f"
            },
            "error_y": {
             "color": "#2a3f5f"
            },
            "marker": {
             "line": {
              "color": "white",
              "width": 0.5
             },
             "pattern": {
              "fillmode": "overlay",
              "size": 10,
              "solidity": 0.2
             }
            },
            "type": "bar"
           }
          ],
          "barpolar": [
           {
            "marker": {
             "line": {
              "color": "white",
              "width": 0.5
             },
             "pattern": {
              "fillmode": "overlay",
              "size": 10,
              "solidity": 0.2
             }
            },
            "type": "barpolar"
           }
          ],
          "carpet": [
           {
            "aaxis": {
             "endlinecolor": "#2a3f5f",
             "gridcolor": "#C8D4E3",
             "linecolor": "#C8D4E3",
             "minorgridcolor": "#C8D4E3",
             "startlinecolor": "#2a3f5f"
            },
            "baxis": {
             "endlinecolor": "#2a3f5f",
             "gridcolor": "#C8D4E3",
             "linecolor": "#C8D4E3",
             "minorgridcolor": "#C8D4E3",
             "startlinecolor": "#2a3f5f"
            },
            "type": "carpet"
           }
          ],
          "choropleth": [
           {
            "colorbar": {
             "outlinewidth": 0,
             "ticks": ""
            },
            "type": "choropleth"
           }
          ],
          "contour": [
           {
            "colorbar": {
             "outlinewidth": 0,
             "ticks": ""
            },
            "colorscale": [
             [
              0,
              "#0d0887"
             ],
             [
              0.1111111111111111,
              "#46039f"
             ],
             [
              0.2222222222222222,
              "#7201a8"
             ],
             [
              0.3333333333333333,
              "#9c179e"
             ],
             [
              0.4444444444444444,
              "#bd3786"
             ],
             [
              0.5555555555555556,
              "#d8576b"
             ],
             [
              0.6666666666666666,
              "#ed7953"
             ],
             [
              0.7777777777777778,
              "#fb9f3a"
             ],
             [
              0.8888888888888888,
              "#fdca26"
             ],
             [
              1,
              "#f0f921"
             ]
            ],
            "type": "contour"
           }
          ],
          "contourcarpet": [
           {
            "colorbar": {
             "outlinewidth": 0,
             "ticks": ""
            },
            "type": "contourcarpet"
           }
          ],
          "heatmap": [
           {
            "colorbar": {
             "outlinewidth": 0,
             "ticks": ""
            },
            "colorscale": [
             [
              0,
              "#0d0887"
             ],
             [
              0.1111111111111111,
              "#46039f"
             ],
             [
              0.2222222222222222,
              "#7201a8"
             ],
             [
              0.3333333333333333,
              "#9c179e"
             ],
             [
              0.4444444444444444,
              "#bd3786"
             ],
             [
              0.5555555555555556,
              "#d8576b"
             ],
             [
              0.6666666666666666,
              "#ed7953"
             ],
             [
              0.7777777777777778,
              "#fb9f3a"
             ],
             [
              0.8888888888888888,
              "#fdca26"
             ],
             [
              1,
              "#f0f921"
             ]
            ],
            "type": "heatmap"
           }
          ],
          "heatmapgl": [
           {
            "colorbar": {
             "outlinewidth": 0,
             "ticks": ""
            },
            "colorscale": [
             [
              0,
              "#0d0887"
             ],
             [
              0.1111111111111111,
              "#46039f"
             ],
             [
              0.2222222222222222,
              "#7201a8"
             ],
             [
              0.3333333333333333,
              "#9c179e"
             ],
             [
              0.4444444444444444,
              "#bd3786"
             ],
             [
              0.5555555555555556,
              "#d8576b"
             ],
             [
              0.6666666666666666,
              "#ed7953"
             ],
             [
              0.7777777777777778,
              "#fb9f3a"
             ],
             [
              0.8888888888888888,
              "#fdca26"
             ],
             [
              1,
              "#f0f921"
             ]
            ],
            "type": "heatmapgl"
           }
          ],
          "histogram": [
           {
            "marker": {
             "pattern": {
              "fillmode": "overlay",
              "size": 10,
              "solidity": 0.2
             }
            },
            "type": "histogram"
           }
          ],
          "histogram2d": [
           {
            "colorbar": {
             "outlinewidth": 0,
             "ticks": ""
            },
            "colorscale": [
             [
              0,
              "#0d0887"
             ],
             [
              0.1111111111111111,
              "#46039f"
             ],
             [
              0.2222222222222222,
              "#7201a8"
             ],
             [
              0.3333333333333333,
              "#9c179e"
             ],
             [
              0.4444444444444444,
              "#bd3786"
             ],
             [
              0.5555555555555556,
              "#d8576b"
             ],
             [
              0.6666666666666666,
              "#ed7953"
             ],
             [
              0.7777777777777778,
              "#fb9f3a"
             ],
             [
              0.8888888888888888,
              "#fdca26"
             ],
             [
              1,
              "#f0f921"
             ]
            ],
            "type": "histogram2d"
           }
          ],
          "histogram2dcontour": [
           {
            "colorbar": {
             "outlinewidth": 0,
             "ticks": ""
            },
            "colorscale": [
             [
              0,
              "#0d0887"
             ],
             [
              0.1111111111111111,
              "#46039f"
             ],
             [
              0.2222222222222222,
              "#7201a8"
             ],
             [
              0.3333333333333333,
              "#9c179e"
             ],
             [
              0.4444444444444444,
              "#bd3786"
             ],
             [
              0.5555555555555556,
              "#d8576b"
             ],
             [
              0.6666666666666666,
              "#ed7953"
             ],
             [
              0.7777777777777778,
              "#fb9f3a"
             ],
             [
              0.8888888888888888,
              "#fdca26"
             ],
             [
              1,
              "#f0f921"
             ]
            ],
            "type": "histogram2dcontour"
           }
          ],
          "mesh3d": [
           {
            "colorbar": {
             "outlinewidth": 0,
             "ticks": ""
            },
            "type": "mesh3d"
           }
          ],
          "parcoords": [
           {
            "line": {
             "colorbar": {
              "outlinewidth": 0,
              "ticks": ""
             }
            },
            "type": "parcoords"
           }
          ],
          "pie": [
           {
            "automargin": true,
            "type": "pie"
           }
          ],
          "scatter": [
           {
            "fillpattern": {
             "fillmode": "overlay",
             "size": 10,
             "solidity": 0.2
            },
            "type": "scatter"
           }
          ],
          "scatter3d": [
           {
            "line": {
             "colorbar": {
              "outlinewidth": 0,
              "ticks": ""
             }
            },
            "marker": {
             "colorbar": {
              "outlinewidth": 0,
              "ticks": ""
             }
            },
            "type": "scatter3d"
           }
          ],
          "scattercarpet": [
           {
            "marker": {
             "colorbar": {
              "outlinewidth": 0,
              "ticks": ""
             }
            },
            "type": "scattercarpet"
           }
          ],
          "scattergeo": [
           {
            "marker": {
             "colorbar": {
              "outlinewidth": 0,
              "ticks": ""
             }
            },
            "type": "scattergeo"
           }
          ],
          "scattergl": [
           {
            "marker": {
             "colorbar": {
              "outlinewidth": 0,
              "ticks": ""
             }
            },
            "type": "scattergl"
           }
          ],
          "scattermapbox": [
           {
            "marker": {
             "colorbar": {
              "outlinewidth": 0,
              "ticks": ""
             }
            },
            "type": "scattermapbox"
           }
          ],
          "scatterpolar": [
           {
            "marker": {
             "colorbar": {
              "outlinewidth": 0,
              "ticks": ""
             }
            },
            "type": "scatterpolar"
           }
          ],
          "scatterpolargl": [
           {
            "marker": {
             "colorbar": {
              "outlinewidth": 0,
              "ticks": ""
             }
            },
            "type": "scatterpolargl"
           }
          ],
          "scatterternary": [
           {
            "marker": {
             "colorbar": {
              "outlinewidth": 0,
              "ticks": ""
             }
            },
            "type": "scatterternary"
           }
          ],
          "surface": [
           {
            "colorbar": {
             "outlinewidth": 0,
             "ticks": ""
            },
            "colorscale": [
             [
              0,
              "#0d0887"
             ],
             [
              0.1111111111111111,
              "#46039f"
             ],
             [
              0.2222222222222222,
              "#7201a8"
             ],
             [
              0.3333333333333333,
              "#9c179e"
             ],
             [
              0.4444444444444444,
              "#bd3786"
             ],
             [
              0.5555555555555556,
              "#d8576b"
             ],
             [
              0.6666666666666666,
              "#ed7953"
             ],
             [
              0.7777777777777778,
              "#fb9f3a"
             ],
             [
              0.8888888888888888,
              "#fdca26"
             ],
             [
              1,
              "#f0f921"
             ]
            ],
            "type": "surface"
           }
          ],
          "table": [
           {
            "cells": {
             "fill": {
              "color": "#EBF0F8"
             },
             "line": {
              "color": "white"
             }
            },
            "header": {
             "fill": {
              "color": "#C8D4E3"
             },
             "line": {
              "color": "white"
             }
            },
            "type": "table"
           }
          ]
         },
         "layout": {
          "annotationdefaults": {
           "arrowcolor": "#2a3f5f",
           "arrowhead": 0,
           "arrowwidth": 1
          },
          "autotypenumbers": "strict",
          "coloraxis": {
           "colorbar": {
            "outlinewidth": 0,
            "ticks": ""
           }
          },
          "colorscale": {
           "diverging": [
            [
             0,
             "#8e0152"
            ],
            [
             0.1,
             "#c51b7d"
            ],
            [
             0.2,
             "#de77ae"
            ],
            [
             0.3,
             "#f1b6da"
            ],
            [
             0.4,
             "#fde0ef"
            ],
            [
             0.5,
             "#f7f7f7"
            ],
            [
             0.6,
             "#e6f5d0"
            ],
            [
             0.7,
             "#b8e186"
            ],
            [
             0.8,
             "#7fbc41"
            ],
            [
             0.9,
             "#4d9221"
            ],
            [
             1,
             "#276419"
            ]
           ],
           "sequential": [
            [
             0,
             "#0d0887"
            ],
            [
             0.1111111111111111,
             "#46039f"
            ],
            [
             0.2222222222222222,
             "#7201a8"
            ],
            [
             0.3333333333333333,
             "#9c179e"
            ],
            [
             0.4444444444444444,
             "#bd3786"
            ],
            [
             0.5555555555555556,
             "#d8576b"
            ],
            [
             0.6666666666666666,
             "#ed7953"
            ],
            [
             0.7777777777777778,
             "#fb9f3a"
            ],
            [
             0.8888888888888888,
             "#fdca26"
            ],
            [
             1,
             "#f0f921"
            ]
           ],
           "sequentialminus": [
            [
             0,
             "#0d0887"
            ],
            [
             0.1111111111111111,
             "#46039f"
            ],
            [
             0.2222222222222222,
             "#7201a8"
            ],
            [
             0.3333333333333333,
             "#9c179e"
            ],
            [
             0.4444444444444444,
             "#bd3786"
            ],
            [
             0.5555555555555556,
             "#d8576b"
            ],
            [
             0.6666666666666666,
             "#ed7953"
            ],
            [
             0.7777777777777778,
             "#fb9f3a"
            ],
            [
             0.8888888888888888,
             "#fdca26"
            ],
            [
             1,
             "#f0f921"
            ]
           ]
          },
          "colorway": [
           "#636efa",
           "#EF553B",
           "#00cc96",
           "#ab63fa",
           "#FFA15A",
           "#19d3f3",
           "#FF6692",
           "#B6E880",
           "#FF97FF",
           "#FECB52"
          ],
          "font": {
           "color": "#2a3f5f"
          },
          "geo": {
           "bgcolor": "white",
           "lakecolor": "white",
           "landcolor": "white",
           "showlakes": true,
           "showland": true,
           "subunitcolor": "#C8D4E3"
          },
          "hoverlabel": {
           "align": "left"
          },
          "hovermode": "closest",
          "mapbox": {
           "style": "light"
          },
          "paper_bgcolor": "white",
          "plot_bgcolor": "white",
          "polar": {
           "angularaxis": {
            "gridcolor": "#EBF0F8",
            "linecolor": "#EBF0F8",
            "ticks": ""
           },
           "bgcolor": "white",
           "radialaxis": {
            "gridcolor": "#EBF0F8",
            "linecolor": "#EBF0F8",
            "ticks": ""
           }
          },
          "scene": {
           "xaxis": {
            "backgroundcolor": "white",
            "gridcolor": "#DFE8F3",
            "gridwidth": 2,
            "linecolor": "#EBF0F8",
            "showbackground": true,
            "ticks": "",
            "zerolinecolor": "#EBF0F8"
           },
           "yaxis": {
            "backgroundcolor": "white",
            "gridcolor": "#DFE8F3",
            "gridwidth": 2,
            "linecolor": "#EBF0F8",
            "showbackground": true,
            "ticks": "",
            "zerolinecolor": "#EBF0F8"
           },
           "zaxis": {
            "backgroundcolor": "white",
            "gridcolor": "#DFE8F3",
            "gridwidth": 2,
            "linecolor": "#EBF0F8",
            "showbackground": true,
            "ticks": "",
            "zerolinecolor": "#EBF0F8"
           }
          },
          "shapedefaults": {
           "line": {
            "color": "#2a3f5f"
           }
          },
          "ternary": {
           "aaxis": {
            "gridcolor": "#DFE8F3",
            "linecolor": "#A2B1C6",
            "ticks": ""
           },
           "baxis": {
            "gridcolor": "#DFE8F3",
            "linecolor": "#A2B1C6",
            "ticks": ""
           },
           "bgcolor": "white",
           "caxis": {
            "gridcolor": "#DFE8F3",
            "linecolor": "#A2B1C6",
            "ticks": ""
           }
          },
          "title": {
           "x": 0.05
          },
          "xaxis": {
           "automargin": true,
           "gridcolor": "#EBF0F8",
           "linecolor": "#EBF0F8",
           "ticks": "",
           "title": {
            "standoff": 15
           },
           "zerolinecolor": "#EBF0F8",
           "zerolinewidth": 2
          },
          "yaxis": {
           "automargin": true,
           "gridcolor": "#EBF0F8",
           "linecolor": "#EBF0F8",
           "ticks": "",
           "title": {
            "standoff": 15
           },
           "zerolinecolor": "#EBF0F8",
           "zerolinewidth": 2
          }
         }
        },
        "xaxis": {
         "autorange": true,
         "range": [
          0.5,
          6.5
         ],
         "type": "linear"
        },
        "yaxis": {
         "autorange": true,
         "range": [
          0,
          8139796152.631578
         ],
         "type": "linear"
        },
        "yaxis2": {
         "autorange": true,
         "range": [
          62.00779163246922,
          70.79755682113903
         ],
         "type": "linear"
        }
       }
      },
      "image/png": "[encoded data removed]",
      "text/html": [
       "<div>                            <div id=\"0a7df817-f604-4982-99a2-cec691c454f0\" class=\"plotly-graph-div\" style=\"height:525px; width:100%;\"></div>            <script type=\"text/javascript\">                require([\"plotly\"], function(Plotly) {                    window.PLOTLYENV=window.PLOTLYENV || {};                                    if (document.getElementById(\"0a7df817-f604-4982-99a2-cec691c454f0\")) {                    Plotly.newPlot(                        \"0a7df817-f604-4982-99a2-cec691c454f0\",                        [{\"marker\":{\"color\":\"indianred\"},\"name\":\"Ad Spend (INR)\",\"x\":[1.0,2.0,3.0,4.0,5.0,6.0],\"y\":[5556265415.0,3986936358.0,4726512390.0,7732806345.0,4346064062.0,3872711127.0],\"yaxis\":\"y\",\"type\":\"bar\"},{\"marker\":{\"color\":\"lightsalmon\"},\"name\":\"Voter Turnout (%)\",\"x\":[1.0,2.0,3.0,4.0,5.0,6.0],\"y\":[67.2021359223301,67.75539325842696,65.99265957446809,70.17494845360825,62.6304,63.828813559322036],\"yaxis\":\"y2\",\"type\":\"scatter\"}],                        {\"template\":{\"data\":{\"histogram2dcontour\":[{\"type\":\"histogram2dcontour\",\"colorbar\":{\"outlinewidth\":0,\"ticks\":\"\"},\"colorscale\":[[0.0,\"#0d0887\"],[0.1111111111111111,\"#46039f\"],[0.2222222222222222,\"#7201a8\"],[0.3333333333333333,\"#9c179e\"],[0.4444444444444444,\"#bd3786\"],[0.5555555555555556,\"#d8576b\"],[0.6666666666666666,\"#ed7953\"],[0.7777777777777778,\"#fb9f3a\"],[0.8888888888888888,\"#fdca26\"],[1.0,\"#f0f921\"]]}],\"choropleth\":[{\"type\":\"choropleth\",\"colorbar\":{\"outlinewidth\":0,\"ticks\":\"\"}}],\"histogram2d\":[{\"type\":\"histogram2d\",\"colorbar\":{\"outlinewidth\":0,\"ticks\":\"\"},\"colorscale\":[[0.0,\"#0d0887\"],[0.1111111111111111,\"#46039f\"],[0.2222222222222222,\"#7201a8\"],[0.3333333333333333,\"#9c179e\"],[0.4444444444444444,\"#bd3786\"],[0.5555555555555556,\"#d8576b\"],[0.6666666666666666,\"#ed7953\"],[0.7777777777777778,\"#fb9f3a\"],[0.8888888888888888,\"#fdca26\"],[1.0,\"#f0f921\"]]}],\"heatmap\":[{\"type\":\"heatmap\",\"colorbar\":{\"outlinewidth\":0,\"ticks\":\"\"},\"colorscale\":[[0.0,\"#0d0887\"],[0.1111111111111111,\"#46039f\"],[0.2222222222222222,\"#7201a8\"],[0.3333333333333333,\"#9c179e\"],[0.4444444444444444,\"#bd3786\"],[0.5555555555555556,\"#d8576b\"],[0.6666666666666666,\"#ed7953\"],[0.7777777777777778,\"#fb9f3a\"],[0.8888888888888888,\"#fdca26\"],[1.0,\"#f0f921\"]]}],\"heatmapgl\":[{\"type\":\"heatmapgl\",\"colorbar\":{\"outlinewidth\":0,\"ticks\":\"\"},\"colorscale\":[[0.0,\"#0d0887\"],[0.1111111111111111,\"#46039f\"],[0.2222222222222222,\"#7201a8\"],[0.3333333333333333,\"#9c179e\"],[0.4444444444444444,\"#bd3786\"],[0.5555555555555556,\"#d8576b\"],[0.6666666666666666,\"#ed7953\"],[0.7777777777777778,\"#fb9f3a\"],[0.8888888888888888,\"#fdca26\"],[1.0,\"#f0f921\"]]}],\"contourcarpet\":[{\"type\":\"contourcarpet\",\"colorbar\":{\"outlinewidth\":0,\"ticks\":\"\"}}],\"contour\":[{\"type\":\"contour\",\"colorbar\":{\"outlinewidth\":0,\"ticks\":\"\"},\"colorscale\":[[0.0,\"#0d0887\"],[0.1111111111111111,\"#46039f\"],[0.2222222222222222,\"#7201a8\"],[0.3333333333333333,\"#9c179e\"],[0.4444444444444444,\"#bd3786\"],[0.5555555555555556,\"#d8576b\"],[0.6666666666666666,\"#ed7953\"],[0.7777777777777778,\"#fb9f3a\"],[0.8888888888888888,\"#fdca26\"],[1.0,\"#f0f921\"]]}],\"surface\":[{\"type\":\"surface\",\"colorbar\":{\"outlinewidth\":0,\"ticks\":\"\"},\"colorscale\":[[0.0,\"#0d0887\"],[0.1111111111111111,\"#46039f\"],[0.2222222222222222,\"#7201a8\"],[0.3333333333333333,\"#9c179e\"],[0.4444444444444444,\"#bd3786\"],[0.5555555555555556,\"#d8576b\"],[0.6666666666666666,\"#ed7953\"],[0.7777777777777778,\"#fb9f3a\"],[0.8888888888888888,\"#fdca26\"],[1.0,\"#f0f921\"]]}],\"mesh3d\":[{\"type\":\"mesh3d\",\"colorbar\":{\"outlinewidth\":0,\"ticks\":\"\"}}],\"scatter\":[{\"fillpattern\":{\"fillmode\":\"overlay\",\"size\":10,\"solidity\":0.2},\"type\":\"scatter\"}],\"parcoords\":[{\"type\":\"parcoords\",\"line\":{\"colorbar\":{\"outlinewidth\":0,\"ticks\":\"\"}}}],\"scatterpolargl\":[{\"type\":\"scatterpolargl\",\"marker\":{\"colorbar\":{\"outlinewidth\":0,\"ticks\":\"\"}}}],\"bar\":[{\"error_x\":{\"color\":\"#2a3f5f\"},\"error_y\":{\"color\":\"#2a3f5f\"},\"marker\":{\"line\":{\"color\":\"white\",\"width\":0.5},\"pattern\":{\"fillmode\":\"overlay\",\"size\":10,\"solidity\":0.2}},\"type\":\"bar\"}],\"scattergeo\":[{\"type\":\"scattergeo\",\"marker\":{\"colorbar\":{\"outlinewidth\":0,\"ticks\":\"\"}}}],\"scatterpolar\":[{\"type\":\"scatterpolar\",\"marker\":{\"colorbar\":{\"outlinewidth\":0,\"ticks\":\"\"}}}],\"histogram\":[{\"marker\":{\"pattern\":{\"fillmode\":\"overlay\",\"size\":10,\"solidity\":0.2}},\"type\":\"histogram\"}],\"scattergl\":[{\"type\":\"scattergl\",\"marker\":{\"colorbar\":{\"outlinewidth\":0,\"ticks\":\"\"}}}],\"scatter3d\":[{\"type\":\"scatter3d\",\"line\":{\"colorbar\":{\"outlinewidth\":0,\"ticks\":\"\"}},\"marker\":{\"colorbar\":{\"outlinewidth\":0,\"ticks\":\"\"}}}],\"scattermapbox\":[{\"type\":\"scattermapbox\",\"marker\":{\"colorbar\":{\"outlinewidth\":0,\"ticks\":\"\"}}}],\"scatterternary\":[{\"type\":\"scatterternary\",\"marker\":{\"colorbar\":{\"outlinewidth\":0,\"ticks\":\"\"}}}],\"scattercarpet\":[{\"type\":\"scattercarpet\",\"marker\":{\"colorbar\":{\"outlinewidth\":0,\"ticks\":\"\"}}}],\"carpet\":[{\"aaxis\":{\"endlinecolor\":\"#2a3f5f\",\"gridcolor\":\"#C8D4E3\",\"linecolor\":\"#C8D4E3\",\"minorgridcolor\":\"#C8D4E3\",\"startlinecolor\":\"#2a3f5f\"},\"baxis\":{\"endlinecolor\":\"#2a3f5f\",\"gridcolor\":\"#C8D4E3\",\"linecolor\":\"#C8D4E3\",\"minorgridcolor\":\"#C8D4E3\",\"startlinecolor\":\"#2a3f5f\"},\"type\":\"carpet\"}],\"table\":[{\"cells\":{\"fill\":{\"color\":\"#EBF0F8\"},\"line\":{\"color\":\"white\"}},\"header\":{\"fill\":{\"color\":\"#C8D4E3\"},\"line\":{\"color\":\"white\"}},\"type\":\"table\"}],\"barpolar\":[{\"marker\":{\"line\":{\"color\":\"white\",\"width\":0.5},\"pattern\":{\"fillmode\":\"overlay\",\"size\":10,\"solidity\":0.2}},\"type\":\"barpolar\"}],\"pie\":[{\"automargin\":true,\"type\":\"pie\"}]},\"layout\":{\"autotypenumbers\":\"strict\",\"colorway\":[\"#636efa\",\"#EF553B\",\"#00cc96\",\"#ab63fa\",\"#FFA15A\",\"#19d3f3\",\"#FF6692\",\"#B6E880\",\"#FF97FF\",\"#FECB52\"],\"font\":{\"color\":\"#2a3f5f\"},\"hovermode\":\"closest\",\"hoverlabel\":{\"align\":\"left\"},\"paper_bgcolor\":\"white\",\"plot_bgcolor\":\"white\",\"polar\":{\"bgcolor\":\"white\",\"angularaxis\":{\"gridcolor\":\"#EBF0F8\",\"linecolor\":\"#EBF0F8\",\"ticks\":\"\"},\"radialaxis\":{\"gridcolor\":\"#EBF0F8\",\"linecolor\":\"#EBF0F8\",\"ticks\":\"\"}},\"ternary\":{\"bgcolor\":\"white\",\"aaxis\":{\"gridcolor\":\"#DFE8F3\",\"linecolor\":\"#A2B1C6\",\"ticks\":\"\"},\"baxis\":{\"gridcolor\":\"#DFE8F3\",\"linecolor\":\"#A2B1C6\",\"ticks\":\"\"},\"caxis\":{\"gridcolor\":\"#DFE8F3\",\"linecolor\":\"#A2B1C6\",\"ticks\":\"\"}},\"coloraxis\":{\"colorbar\":{\"outlinewidth\":0,\"ticks\":\"\"}},\"colorscale\":{\"sequential\":[[0.0,\"#0d0887\"],[0.1111111111111111,\"#46039f\"],[0.2222222222222222,\"#7201a8\"],[0.3333333333333333,\"#9c179e\"],[0.4444444444444444,\"#bd3786\"],[0.5555555555555556,\"#d8576b\"],[0.6666666666666666,\"#ed7953\"],[0.7777777777777778,\"#fb9f3a\"],[0.8888888888888888,\"#fdca26\"],[1.0,\"#f0f921\"]],\"sequentialminus\":[[0.0,\"#0d0887\"],[0.1111111111111111,\"#46039f\"],[0.2222222222222222,\"#7201a8\"],[0.3333333333333333,\"#9c179e\"],[0.4444444444444444,\"#bd3786\"],[0.5555555555555556,\"#d8576b\"],[0.6666666666666666,\"#ed7953\"],[0.7777777777777778,\"#fb9f3a\"],[0.8888888888888888,\"#fdca26\"],[1.0,\"#f0f921\"]],\"diverging\":[[0,\"#8e0152\"],[0.1,\"#c51b7d\"],[0.2,\"#de77ae\"],[0.3,\"#f1b6da\"],[0.4,\"#fde0ef\"],[0.5,\"#f7f7f7\"],[0.6,\"#e6f5d0\"],[0.7,\"#b8e186\"],[0.8,\"#7fbc41\"],[0.9,\"#4d9221\"],[1,\"#276419\"]]},\"xaxis\":{\"gridcolor\":\"#EBF0F8\",\"linecolor\":\"#EBF0F8\",\"ticks\":\"\",\"title\":{\"standoff\":15},\"zerolinecolor\":\"#EBF0F8\",\"automargin\":true,\"zerolinewidth\":2},\"yaxis\":{\"gridcolor\":\"#EBF0F8\",\"linecolor\":\"#EBF0F8\",\"ticks\":\"\",\"title\":{\"standoff\":15},\"zerolinecolor\":\"#EBF0F8\",\"automargin\":true,\"zerolinewidth\":2},\"scene\":{\"xaxis\":{\"backgroundcolor\":\"white\",\"gridcolor\":\"#DFE8F3\",\"linecolor\":\"#EBF0F8\",\"showbackground\":true,\"ticks\":\"\",\"zerolinecolor\":\"#EBF0F8\",\"gridwidth\":2},\"yaxis\":{\"backgroundcolor\":\"white\",\"gridcolor\":\"#DFE8F3\",\"linecolor\":\"#EBF0F8\",\"showbackground\":true,\"ticks\":\"\",\"zerolinecolor\":\"#EBF0F8\",\"gridwidth\":2},\"zaxis\":{\"backgroundcolor\":\"white\",\"gridcolor\":\"#DFE8F3\",\"linecolor\":\"#EBF0F8\",\"showbackground\":true,\"ticks\":\"\",\"zerolinecolor\":\"#EBF0F8\",\"gridwidth\":2}},\"shapedefaults\":{\"line\":{\"color\":\"#2a3f5f\"}},\"annotationdefaults\":{\"arrowcolor\":\"#2a3f5f\",\"arrowhead\":0,\"arrowwidth\":1},\"geo\":{\"bgcolor\":\"white\",\"landcolor\":\"white\",\"subunitcolor\":\"#C8D4E3\",\"showland\":true,\"showlakes\":true,\"lakecolor\":\"white\"},\"title\":{\"x\":0.05},\"mapbox\":{\"style\":\"light\"}}}},                        {\"responsive\": true}                    ).then(function(){\n",
       "                            \n",
       "var gd = document.getElementById('0a7df817-f604-4982-99a2-cec691c454f0');\n",
       "var x = new MutationObserver(function (mutations, observer) {{\n",
       "        var display = window.getComputedStyle(gd).display;\n",
       "        if (!display || display === 'none') {{\n",
       "            console.log([gd, 'removed!']);\n",
       "            Plotly.purge(gd);\n",
       "            observer.disconnect();\n",
       "        }}\n",
       "}});\n",
       "\n",
       "// Listen for the removal of the full notebook cells\n",
       "var notebookContainer = gd.closest('#notebook-container');\n",
       "if (notebookContainer) {{\n",
       "    x.observe(notebookContainer, {childList: true});\n",
       "}}\n",
       "\n",
       "// Listen for the clearing of the current output cell\n",
       "var outputEl = gd.closest('.output');\n",
       "if (outputEl) {{\n",
       "    x.observe(outputEl, {childList: true});\n",
       "}}\n",
       "\n",
       "                        })                };                });            </script>        </div>"
      ]
     },
     "metadata": {},
     "output_type": "display_data"
    }
   ],
   "source": [
    "phase_analysis = merged_data.groupby('Phase').agg({\n",
    "    'Amount spent (INR)': 'sum',\n",
    "    'Polled (%)': 'mean'\n",
    "}).reset_index()\n",
    "\n",
    "fig = go.Figure()\n",
    "\n",
    "fig.add_trace(go.Bar(\n",
    "    x=phase_analysis['Phase'],\n",
    "    y=phase_analysis['Amount spent (INR)'],\n",
    "    name='Ad Spend (INR)',\n",
    "    marker_color='indianred',\n",
    "    yaxis='y1'\n",
    "))\n",
    "\n",
    "fig.add_trace(go.Scatter(\n",
    "    x=phase_analysis['Phase'],\n",
    "    y=phase_analysis['Polled (%)'],\n",
    "    name='Voter Turnout (%)',\n",
    "    marker_color='lightsalmon',\n",
    "    yaxis='y2'\n",
    "))\n",
    "\n",
    "fig.show()"
   ]
  },
  {
   "cell_type": "code",
   "execution_count": null,
   "id": "8f17d1d4-1515-481e-bea6-4c6ba9ba36dd",
   "metadata": {},
   "outputs": [],
   "source": []
  },
  {
   "cell_type": "code",
   "execution_count": null,
   "id": "87d984d8-8fc9-47c3-86dc-1d658081007a",
   "metadata": {},
   "outputs": [],
   "source": []
  },
  {
   "cell_type": "code",
   "execution_count": null,
   "id": "89cd524a-5e68-46f4-9aef-1aa8823fcbc0",
   "metadata": {},
   "outputs": [],
   "source": []
  },
  {
   "cell_type": "code",
   "execution_count": 395,
   "id": "0b2afbab-b551-497b-91f6-0b13b3f214fe",
   "metadata": {},
   "outputs": [
    {
     "data": {
      "application/vnd.plotly.v1+json": {
       "config": {
        "plotlyServerURL": "https://plot.ly"
       },
       "data": [
        {
         "marker": {
          "color": "indianred"
         },
         "name": "Ad Spend (INR)",
         "type": "bar",
         "x": [
          1,
          2,
          3,
          4,
          5,
          6
         ],
         "y": [
          5556265415,
          3986936358,
          4726512390,
          7732806345,
          4346064062,
          3872711127
         ],
         "yaxis": "y"
        },
        {
         "marker": {
          "color": "lightsalmon"
         },
         "name": "Voter Turnout (%)",
         "type": "scatter",
         "x": [
          1,
          2,
          3,
          4,
          5,
          6
         ],
         "y": [
          67.2021359223301,
          67.75539325842696,
          65.99265957446809,
          70.17494845360825,
          62.6304,
          63.828813559322036
         ],
         "yaxis": "y2"
        }
       ],
       "layout": {
        "height": 600,
        "legend": {
         "orientation": "h",
         "x": 0.1,
         "y": 1.1
        },
        "template": {
         "data": {
          "bar": [
           {
            "error_x": {
             "color": "#2a3f5f"
            },
            "error_y": {
             "color": "#2a3f5f"
            },
            "marker": {
             "line": {
              "color": "white",
              "width": 0.5
             },
             "pattern": {
              "fillmode": "overlay",
              "size": 10,
              "solidity": 0.2
             }
            },
            "type": "bar"
           }
          ],
          "barpolar": [
           {
            "marker": {
             "line": {
              "color": "white",
              "width": 0.5
             },
             "pattern": {
              "fillmode": "overlay",
              "size": 10,
              "solidity": 0.2
             }
            },
            "type": "barpolar"
           }
          ],
          "carpet": [
           {
            "aaxis": {
             "endlinecolor": "#2a3f5f",
             "gridcolor": "#C8D4E3",
             "linecolor": "#C8D4E3",
             "minorgridcolor": "#C8D4E3",
             "startlinecolor": "#2a3f5f"
            },
            "baxis": {
             "endlinecolor": "#2a3f5f",
             "gridcolor": "#C8D4E3",
             "linecolor": "#C8D4E3",
             "minorgridcolor": "#C8D4E3",
             "startlinecolor": "#2a3f5f"
            },
            "type": "carpet"
           }
          ],
          "choropleth": [
           {
            "colorbar": {
             "outlinewidth": 0,
             "ticks": ""
            },
            "type": "choropleth"
           }
          ],
          "contour": [
           {
            "colorbar": {
             "outlinewidth": 0,
             "ticks": ""
            },
            "colorscale": [
             [
              0,
              "#0d0887"
             ],
             [
              0.1111111111111111,
              "#46039f"
             ],
             [
              0.2222222222222222,
              "#7201a8"
             ],
             [
              0.3333333333333333,
              "#9c179e"
             ],
             [
              0.4444444444444444,
              "#bd3786"
             ],
             [
              0.5555555555555556,
              "#d8576b"
             ],
             [
              0.6666666666666666,
              "#ed7953"
             ],
             [
              0.7777777777777778,
              "#fb9f3a"
             ],
             [
              0.8888888888888888,
              "#fdca26"
             ],
             [
              1,
              "#f0f921"
             ]
            ],
            "type": "contour"
           }
          ],
          "contourcarpet": [
           {
            "colorbar": {
             "outlinewidth": 0,
             "ticks": ""
            },
            "type": "contourcarpet"
           }
          ],
          "heatmap": [
           {
            "colorbar": {
             "outlinewidth": 0,
             "ticks": ""
            },
            "colorscale": [
             [
              0,
              "#0d0887"
             ],
             [
              0.1111111111111111,
              "#46039f"
             ],
             [
              0.2222222222222222,
              "#7201a8"
             ],
             [
              0.3333333333333333,
              "#9c179e"
             ],
             [
              0.4444444444444444,
              "#bd3786"
             ],
             [
              0.5555555555555556,
              "#d8576b"
             ],
             [
              0.6666666666666666,
              "#ed7953"
             ],
             [
              0.7777777777777778,
              "#fb9f3a"
             ],
             [
              0.8888888888888888,
              "#fdca26"
             ],
             [
              1,
              "#f0f921"
             ]
            ],
            "type": "heatmap"
           }
          ],
          "heatmapgl": [
           {
            "colorbar": {
             "outlinewidth": 0,
             "ticks": ""
            },
            "colorscale": [
             [
              0,
              "#0d0887"
             ],
             [
              0.1111111111111111,
              "#46039f"
             ],
             [
              0.2222222222222222,
              "#7201a8"
             ],
             [
              0.3333333333333333,
              "#9c179e"
             ],
             [
              0.4444444444444444,
              "#bd3786"
             ],
             [
              0.5555555555555556,
              "#d8576b"
             ],
             [
              0.6666666666666666,
              "#ed7953"
             ],
             [
              0.7777777777777778,
              "#fb9f3a"
             ],
             [
              0.8888888888888888,
              "#fdca26"
             ],
             [
              1,
              "#f0f921"
             ]
            ],
            "type": "heatmapgl"
           }
          ],
          "histogram": [
           {
            "marker": {
             "pattern": {
              "fillmode": "overlay",
              "size": 10,
              "solidity": 0.2
             }
            },
            "type": "histogram"
           }
          ],
          "histogram2d": [
           {
            "colorbar": {
             "outlinewidth": 0,
             "ticks": ""
            },
            "colorscale": [
             [
              0,
              "#0d0887"
             ],
             [
              0.1111111111111111,
              "#46039f"
             ],
             [
              0.2222222222222222,
              "#7201a8"
             ],
             [
              0.3333333333333333,
              "#9c179e"
             ],
             [
              0.4444444444444444,
              "#bd3786"
             ],
             [
              0.5555555555555556,
              "#d8576b"
             ],
             [
              0.6666666666666666,
              "#ed7953"
             ],
             [
              0.7777777777777778,
              "#fb9f3a"
             ],
             [
              0.8888888888888888,
              "#fdca26"
             ],
             [
              1,
              "#f0f921"
             ]
            ],
            "type": "histogram2d"
           }
          ],
          "histogram2dcontour": [
           {
            "colorbar": {
             "outlinewidth": 0,
             "ticks": ""
            },
            "colorscale": [
             [
              0,
              "#0d0887"
             ],
             [
              0.1111111111111111,
              "#46039f"
             ],
             [
              0.2222222222222222,
              "#7201a8"
             ],
             [
              0.3333333333333333,
              "#9c179e"
             ],
             [
              0.4444444444444444,
              "#bd3786"
             ],
             [
              0.5555555555555556,
              "#d8576b"
             ],
             [
              0.6666666666666666,
              "#ed7953"
             ],
             [
              0.7777777777777778,
              "#fb9f3a"
             ],
             [
              0.8888888888888888,
              "#fdca26"
             ],
             [
              1,
              "#f0f921"
             ]
            ],
            "type": "histogram2dcontour"
           }
          ],
          "mesh3d": [
           {
            "colorbar": {
             "outlinewidth": 0,
             "ticks": ""
            },
            "type": "mesh3d"
           }
          ],
          "parcoords": [
           {
            "line": {
             "colorbar": {
              "outlinewidth": 0,
              "ticks": ""
             }
            },
            "type": "parcoords"
           }
          ],
          "pie": [
           {
            "automargin": true,
            "type": "pie"
           }
          ],
          "scatter": [
           {
            "fillpattern": {
             "fillmode": "overlay",
             "size": 10,
             "solidity": 0.2
            },
            "type": "scatter"
           }
          ],
          "scatter3d": [
           {
            "line": {
             "colorbar": {
              "outlinewidth": 0,
              "ticks": ""
             }
            },
            "marker": {
             "colorbar": {
              "outlinewidth": 0,
              "ticks": ""
             }
            },
            "type": "scatter3d"
           }
          ],
          "scattercarpet": [
           {
            "marker": {
             "colorbar": {
              "outlinewidth": 0,
              "ticks": ""
             }
            },
            "type": "scattercarpet"
           }
          ],
          "scattergeo": [
           {
            "marker": {
             "colorbar": {
              "outlinewidth": 0,
              "ticks": ""
             }
            },
            "type": "scattergeo"
           }
          ],
          "scattergl": [
           {
            "marker": {
             "colorbar": {
              "outlinewidth": 0,
              "ticks": ""
             }
            },
            "type": "scattergl"
           }
          ],
          "scattermapbox": [
           {
            "marker": {
             "colorbar": {
              "outlinewidth": 0,
              "ticks": ""
             }
            },
            "type": "scattermapbox"
           }
          ],
          "scatterpolar": [
           {
            "marker": {
             "colorbar": {
              "outlinewidth": 0,
              "ticks": ""
             }
            },
            "type": "scatterpolar"
           }
          ],
          "scatterpolargl": [
           {
            "marker": {
             "colorbar": {
              "outlinewidth": 0,
              "ticks": ""
             }
            },
            "type": "scatterpolargl"
           }
          ],
          "scatterternary": [
           {
            "marker": {
             "colorbar": {
              "outlinewidth": 0,
              "ticks": ""
             }
            },
            "type": "scatterternary"
           }
          ],
          "surface": [
           {
            "colorbar": {
             "outlinewidth": 0,
             "ticks": ""
            },
            "colorscale": [
             [
              0,
              "#0d0887"
             ],
             [
              0.1111111111111111,
              "#46039f"
             ],
             [
              0.2222222222222222,
              "#7201a8"
             ],
             [
              0.3333333333333333,
              "#9c179e"
             ],
             [
              0.4444444444444444,
              "#bd3786"
             ],
             [
              0.5555555555555556,
              "#d8576b"
             ],
             [
              0.6666666666666666,
              "#ed7953"
             ],
             [
              0.7777777777777778,
              "#fb9f3a"
             ],
             [
              0.8888888888888888,
              "#fdca26"
             ],
             [
              1,
              "#f0f921"
             ]
            ],
            "type": "surface"
           }
          ],
          "table": [
           {
            "cells": {
             "fill": {
              "color": "#EBF0F8"
             },
             "line": {
              "color": "white"
             }
            },
            "header": {
             "fill": {
              "color": "#C8D4E3"
             },
             "line": {
              "color": "white"
             }
            },
            "type": "table"
           }
          ]
         },
         "layout": {
          "annotationdefaults": {
           "arrowcolor": "#2a3f5f",
           "arrowhead": 0,
           "arrowwidth": 1
          },
          "autotypenumbers": "strict",
          "coloraxis": {
           "colorbar": {
            "outlinewidth": 0,
            "ticks": ""
           }
          },
          "colorscale": {
           "diverging": [
            [
             0,
             "#8e0152"
            ],
            [
             0.1,
             "#c51b7d"
            ],
            [
             0.2,
             "#de77ae"
            ],
            [
             0.3,
             "#f1b6da"
            ],
            [
             0.4,
             "#fde0ef"
            ],
            [
             0.5,
             "#f7f7f7"
            ],
            [
             0.6,
             "#e6f5d0"
            ],
            [
             0.7,
             "#b8e186"
            ],
            [
             0.8,
             "#7fbc41"
            ],
            [
             0.9,
             "#4d9221"
            ],
            [
             1,
             "#276419"
            ]
           ],
           "sequential": [
            [
             0,
             "#0d0887"
            ],
            [
             0.1111111111111111,
             "#46039f"
            ],
            [
             0.2222222222222222,
             "#7201a8"
            ],
            [
             0.3333333333333333,
             "#9c179e"
            ],
            [
             0.4444444444444444,
             "#bd3786"
            ],
            [
             0.5555555555555556,
             "#d8576b"
            ],
            [
             0.6666666666666666,
             "#ed7953"
            ],
            [
             0.7777777777777778,
             "#fb9f3a"
            ],
            [
             0.8888888888888888,
             "#fdca26"
            ],
            [
             1,
             "#f0f921"
            ]
           ],
           "sequentialminus": [
            [
             0,
             "#0d0887"
            ],
            [
             0.1111111111111111,
             "#46039f"
            ],
            [
             0.2222222222222222,
             "#7201a8"
            ],
            [
             0.3333333333333333,
             "#9c179e"
            ],
            [
             0.4444444444444444,
             "#bd3786"
            ],
            [
             0.5555555555555556,
             "#d8576b"
            ],
            [
             0.6666666666666666,
             "#ed7953"
            ],
            [
             0.7777777777777778,
             "#fb9f3a"
            ],
            [
             0.8888888888888888,
             "#fdca26"
            ],
            [
             1,
             "#f0f921"
            ]
           ]
          },
          "colorway": [
           "#636efa",
           "#EF553B",
           "#00cc96",
           "#ab63fa",
           "#FFA15A",
           "#19d3f3",
           "#FF6692",
           "#B6E880",
           "#FF97FF",
           "#FECB52"
          ],
          "font": {
           "color": "#2a3f5f"
          },
          "geo": {
           "bgcolor": "white",
           "lakecolor": "white",
           "landcolor": "white",
           "showlakes": true,
           "showland": true,
           "subunitcolor": "#C8D4E3"
          },
          "hoverlabel": {
           "align": "left"
          },
          "hovermode": "closest",
          "mapbox": {
           "style": "light"
          },
          "paper_bgcolor": "white",
          "plot_bgcolor": "white",
          "polar": {
           "angularaxis": {
            "gridcolor": "#EBF0F8",
            "linecolor": "#EBF0F8",
            "ticks": ""
           },
           "bgcolor": "white",
           "radialaxis": {
            "gridcolor": "#EBF0F8",
            "linecolor": "#EBF0F8",
            "ticks": ""
           }
          },
          "scene": {
           "xaxis": {
            "backgroundcolor": "white",
            "gridcolor": "#DFE8F3",
            "gridwidth": 2,
            "linecolor": "#EBF0F8",
            "showbackground": true,
            "ticks": "",
            "zerolinecolor": "#EBF0F8"
           },
           "yaxis": {
            "backgroundcolor": "white",
            "gridcolor": "#DFE8F3",
            "gridwidth": 2,
            "linecolor": "#EBF0F8",
            "showbackground": true,
            "ticks": "",
            "zerolinecolor": "#EBF0F8"
           },
           "zaxis": {
            "backgroundcolor": "white",
            "gridcolor": "#DFE8F3",
            "gridwidth": 2,
            "linecolor": "#EBF0F8",
            "showbackground": true,
            "ticks": "",
            "zerolinecolor": "#EBF0F8"
           }
          },
          "shapedefaults": {
           "line": {
            "color": "#2a3f5f"
           }
          },
          "ternary": {
           "aaxis": {
            "gridcolor": "#DFE8F3",
            "linecolor": "#A2B1C6",
            "ticks": ""
           },
           "baxis": {
            "gridcolor": "#DFE8F3",
            "linecolor": "#A2B1C6",
            "ticks": ""
           },
           "bgcolor": "white",
           "caxis": {
            "gridcolor": "#DFE8F3",
            "linecolor": "#A2B1C6",
            "ticks": ""
           }
          },
          "title": {
           "x": 0.05
          },
          "xaxis": {
           "automargin": true,
           "gridcolor": "#EBF0F8",
           "linecolor": "#EBF0F8",
           "ticks": "",
           "title": {
            "standoff": 15
           },
           "zerolinecolor": "#EBF0F8",
           "zerolinewidth": 2
          },
          "yaxis": {
           "automargin": true,
           "gridcolor": "#EBF0F8",
           "linecolor": "#EBF0F8",
           "ticks": "",
           "title": {
            "standoff": 15
           },
           "zerolinecolor": "#EBF0F8",
           "zerolinewidth": 2
          }
         }
        },
        "title": {
         "text": "Ad Spend and Voter Turnout by Election Phase"
        },
        "width": 800,
        "xaxis": {
         "autorange": true,
         "range": [
          0.5,
          6.5
         ],
         "title": {
          "text": "Election Phase"
         },
         "type": "linear"
        },
        "yaxis": {
         "autorange": true,
         "range": [
          0,
          8139796152.631579
         ],
         "tickfont": {
          "color": "indianred"
         },
         "title": {
          "font": {
           "color": "indianred"
          },
          "text": "Ad Spend (INR)"
         },
         "type": "linear"
        },
        "yaxis2": {
         "autorange": true,
         "overlaying": "y",
         "range": [
          62.12641194540674,
          70.67893650820152
         ],
         "side": "right",
         "tickfont": {
          "color": "lightsalmon"
         },
         "title": {
          "font": {
           "color": "lightsalmon"
          },
          "text": "Voter Turnout (%)"
         },
         "type": "linear"
        }
       }
      },
      "image/png": "[encoded data removed]",
      "text/html": [
       "<div>                            <div id=\"ed3c3586-f339-48b7-a2bc-afc213a99a15\" class=\"plotly-graph-div\" style=\"height:600px; width:800px;\"></div>            <script type=\"text/javascript\">                require([\"plotly\"], function(Plotly) {                    window.PLOTLYENV=window.PLOTLYENV || {};                                    if (document.getElementById(\"ed3c3586-f339-48b7-a2bc-afc213a99a15\")) {                    Plotly.newPlot(                        \"ed3c3586-f339-48b7-a2bc-afc213a99a15\",                        [{\"marker\":{\"color\":\"indianred\"},\"name\":\"Ad Spend (INR)\",\"x\":[1.0,2.0,3.0,4.0,5.0,6.0],\"y\":[5556265415.0,3986936358.0,4726512390.0,7732806345.0,4346064062.0,3872711127.0],\"yaxis\":\"y\",\"type\":\"bar\"},{\"marker\":{\"color\":\"lightsalmon\"},\"name\":\"Voter Turnout (%)\",\"x\":[1.0,2.0,3.0,4.0,5.0,6.0],\"y\":[67.2021359223301,67.75539325842696,65.99265957446809,70.17494845360825,62.6304,63.828813559322036],\"yaxis\":\"y2\",\"type\":\"scatter\"}],                        {\"template\":{\"data\":{\"histogram2dcontour\":[{\"type\":\"histogram2dcontour\",\"colorbar\":{\"outlinewidth\":0,\"ticks\":\"\"},\"colorscale\":[[0.0,\"#0d0887\"],[0.1111111111111111,\"#46039f\"],[0.2222222222222222,\"#7201a8\"],[0.3333333333333333,\"#9c179e\"],[0.4444444444444444,\"#bd3786\"],[0.5555555555555556,\"#d8576b\"],[0.6666666666666666,\"#ed7953\"],[0.7777777777777778,\"#fb9f3a\"],[0.8888888888888888,\"#fdca26\"],[1.0,\"#f0f921\"]]}],\"choropleth\":[{\"type\":\"choropleth\",\"colorbar\":{\"outlinewidth\":0,\"ticks\":\"\"}}],\"histogram2d\":[{\"type\":\"histogram2d\",\"colorbar\":{\"outlinewidth\":0,\"ticks\":\"\"},\"colorscale\":[[0.0,\"#0d0887\"],[0.1111111111111111,\"#46039f\"],[0.2222222222222222,\"#7201a8\"],[0.3333333333333333,\"#9c179e\"],[0.4444444444444444,\"#bd3786\"],[0.5555555555555556,\"#d8576b\"],[0.6666666666666666,\"#ed7953\"],[0.7777777777777778,\"#fb9f3a\"],[0.8888888888888888,\"#fdca26\"],[1.0,\"#f0f921\"]]}],\"heatmap\":[{\"type\":\"heatmap\",\"colorbar\":{\"outlinewidth\":0,\"ticks\":\"\"},\"colorscale\":[[0.0,\"#0d0887\"],[0.1111111111111111,\"#46039f\"],[0.2222222222222222,\"#7201a8\"],[0.3333333333333333,\"#9c179e\"],[0.4444444444444444,\"#bd3786\"],[0.5555555555555556,\"#d8576b\"],[0.6666666666666666,\"#ed7953\"],[0.7777777777777778,\"#fb9f3a\"],[0.8888888888888888,\"#fdca26\"],[1.0,\"#f0f921\"]]}],\"heatmapgl\":[{\"type\":\"heatmapgl\",\"colorbar\":{\"outlinewidth\":0,\"ticks\":\"\"},\"colorscale\":[[0.0,\"#0d0887\"],[0.1111111111111111,\"#46039f\"],[0.2222222222222222,\"#7201a8\"],[0.3333333333333333,\"#9c179e\"],[0.4444444444444444,\"#bd3786\"],[0.5555555555555556,\"#d8576b\"],[0.6666666666666666,\"#ed7953\"],[0.7777777777777778,\"#fb9f3a\"],[0.8888888888888888,\"#fdca26\"],[1.0,\"#f0f921\"]]}],\"contourcarpet\":[{\"type\":\"contourcarpet\",\"colorbar\":{\"outlinewidth\":0,\"ticks\":\"\"}}],\"contour\":[{\"type\":\"contour\",\"colorbar\":{\"outlinewidth\":0,\"ticks\":\"\"},\"colorscale\":[[0.0,\"#0d0887\"],[0.1111111111111111,\"#46039f\"],[0.2222222222222222,\"#7201a8\"],[0.3333333333333333,\"#9c179e\"],[0.4444444444444444,\"#bd3786\"],[0.5555555555555556,\"#d8576b\"],[0.6666666666666666,\"#ed7953\"],[0.7777777777777778,\"#fb9f3a\"],[0.8888888888888888,\"#fdca26\"],[1.0,\"#f0f921\"]]}],\"surface\":[{\"type\":\"surface\",\"colorbar\":{\"outlinewidth\":0,\"ticks\":\"\"},\"colorscale\":[[0.0,\"#0d0887\"],[0.1111111111111111,\"#46039f\"],[0.2222222222222222,\"#7201a8\"],[0.3333333333333333,\"#9c179e\"],[0.4444444444444444,\"#bd3786\"],[0.5555555555555556,\"#d8576b\"],[0.6666666666666666,\"#ed7953\"],[0.7777777777777778,\"#fb9f3a\"],[0.8888888888888888,\"#fdca26\"],[1.0,\"#f0f921\"]]}],\"mesh3d\":[{\"type\":\"mesh3d\",\"colorbar\":{\"outlinewidth\":0,\"ticks\":\"\"}}],\"scatter\":[{\"fillpattern\":{\"fillmode\":\"overlay\",\"size\":10,\"solidity\":0.2},\"type\":\"scatter\"}],\"parcoords\":[{\"type\":\"parcoords\",\"line\":{\"colorbar\":{\"outlinewidth\":0,\"ticks\":\"\"}}}],\"scatterpolargl\":[{\"type\":\"scatterpolargl\",\"marker\":{\"colorbar\":{\"outlinewidth\":0,\"ticks\":\"\"}}}],\"bar\":[{\"error_x\":{\"color\":\"#2a3f5f\"},\"error_y\":{\"color\":\"#2a3f5f\"},\"marker\":{\"line\":{\"color\":\"white\",\"width\":0.5},\"pattern\":{\"fillmode\":\"overlay\",\"size\":10,\"solidity\":0.2}},\"type\":\"bar\"}],\"scattergeo\":[{\"type\":\"scattergeo\",\"marker\":{\"colorbar\":{\"outlinewidth\":0,\"ticks\":\"\"}}}],\"scatterpolar\":[{\"type\":\"scatterpolar\",\"marker\":{\"colorbar\":{\"outlinewidth\":0,\"ticks\":\"\"}}}],\"histogram\":[{\"marker\":{\"pattern\":{\"fillmode\":\"overlay\",\"size\":10,\"solidity\":0.2}},\"type\":\"histogram\"}],\"scattergl\":[{\"type\":\"scattergl\",\"marker\":{\"colorbar\":{\"outlinewidth\":0,\"ticks\":\"\"}}}],\"scatter3d\":[{\"type\":\"scatter3d\",\"line\":{\"colorbar\":{\"outlinewidth\":0,\"ticks\":\"\"}},\"marker\":{\"colorbar\":{\"outlinewidth\":0,\"ticks\":\"\"}}}],\"scattermapbox\":[{\"type\":\"scattermapbox\",\"marker\":{\"colorbar\":{\"outlinewidth\":0,\"ticks\":\"\"}}}],\"scatterternary\":[{\"type\":\"scatterternary\",\"marker\":{\"colorbar\":{\"outlinewidth\":0,\"ticks\":\"\"}}}],\"scattercarpet\":[{\"type\":\"scattercarpet\",\"marker\":{\"colorbar\":{\"outlinewidth\":0,\"ticks\":\"\"}}}],\"carpet\":[{\"aaxis\":{\"endlinecolor\":\"#2a3f5f\",\"gridcolor\":\"#C8D4E3\",\"linecolor\":\"#C8D4E3\",\"minorgridcolor\":\"#C8D4E3\",\"startlinecolor\":\"#2a3f5f\"},\"baxis\":{\"endlinecolor\":\"#2a3f5f\",\"gridcolor\":\"#C8D4E3\",\"linecolor\":\"#C8D4E3\",\"minorgridcolor\":\"#C8D4E3\",\"startlinecolor\":\"#2a3f5f\"},\"type\":\"carpet\"}],\"table\":[{\"cells\":{\"fill\":{\"color\":\"#EBF0F8\"},\"line\":{\"color\":\"white\"}},\"header\":{\"fill\":{\"color\":\"#C8D4E3\"},\"line\":{\"color\":\"white\"}},\"type\":\"table\"}],\"barpolar\":[{\"marker\":{\"line\":{\"color\":\"white\",\"width\":0.5},\"pattern\":{\"fillmode\":\"overlay\",\"size\":10,\"solidity\":0.2}},\"type\":\"barpolar\"}],\"pie\":[{\"automargin\":true,\"type\":\"pie\"}]},\"layout\":{\"autotypenumbers\":\"strict\",\"colorway\":[\"#636efa\",\"#EF553B\",\"#00cc96\",\"#ab63fa\",\"#FFA15A\",\"#19d3f3\",\"#FF6692\",\"#B6E880\",\"#FF97FF\",\"#FECB52\"],\"font\":{\"color\":\"#2a3f5f\"},\"hovermode\":\"closest\",\"hoverlabel\":{\"align\":\"left\"},\"paper_bgcolor\":\"white\",\"plot_bgcolor\":\"white\",\"polar\":{\"bgcolor\":\"white\",\"angularaxis\":{\"gridcolor\":\"#EBF0F8\",\"linecolor\":\"#EBF0F8\",\"ticks\":\"\"},\"radialaxis\":{\"gridcolor\":\"#EBF0F8\",\"linecolor\":\"#EBF0F8\",\"ticks\":\"\"}},\"ternary\":{\"bgcolor\":\"white\",\"aaxis\":{\"gridcolor\":\"#DFE8F3\",\"linecolor\":\"#A2B1C6\",\"ticks\":\"\"},\"baxis\":{\"gridcolor\":\"#DFE8F3\",\"linecolor\":\"#A2B1C6\",\"ticks\":\"\"},\"caxis\":{\"gridcolor\":\"#DFE8F3\",\"linecolor\":\"#A2B1C6\",\"ticks\":\"\"}},\"coloraxis\":{\"colorbar\":{\"outlinewidth\":0,\"ticks\":\"\"}},\"colorscale\":{\"sequential\":[[0.0,\"#0d0887\"],[0.1111111111111111,\"#46039f\"],[0.2222222222222222,\"#7201a8\"],[0.3333333333333333,\"#9c179e\"],[0.4444444444444444,\"#bd3786\"],[0.5555555555555556,\"#d8576b\"],[0.6666666666666666,\"#ed7953\"],[0.7777777777777778,\"#fb9f3a\"],[0.8888888888888888,\"#fdca26\"],[1.0,\"#f0f921\"]],\"sequentialminus\":[[0.0,\"#0d0887\"],[0.1111111111111111,\"#46039f\"],[0.2222222222222222,\"#7201a8\"],[0.3333333333333333,\"#9c179e\"],[0.4444444444444444,\"#bd3786\"],[0.5555555555555556,\"#d8576b\"],[0.6666666666666666,\"#ed7953\"],[0.7777777777777778,\"#fb9f3a\"],[0.8888888888888888,\"#fdca26\"],[1.0,\"#f0f921\"]],\"diverging\":[[0,\"#8e0152\"],[0.1,\"#c51b7d\"],[0.2,\"#de77ae\"],[0.3,\"#f1b6da\"],[0.4,\"#fde0ef\"],[0.5,\"#f7f7f7\"],[0.6,\"#e6f5d0\"],[0.7,\"#b8e186\"],[0.8,\"#7fbc41\"],[0.9,\"#4d9221\"],[1,\"#276419\"]]},\"xaxis\":{\"gridcolor\":\"#EBF0F8\",\"linecolor\":\"#EBF0F8\",\"ticks\":\"\",\"title\":{\"standoff\":15},\"zerolinecolor\":\"#EBF0F8\",\"automargin\":true,\"zerolinewidth\":2},\"yaxis\":{\"gridcolor\":\"#EBF0F8\",\"linecolor\":\"#EBF0F8\",\"ticks\":\"\",\"title\":{\"standoff\":15},\"zerolinecolor\":\"#EBF0F8\",\"automargin\":true,\"zerolinewidth\":2},\"scene\":{\"xaxis\":{\"backgroundcolor\":\"white\",\"gridcolor\":\"#DFE8F3\",\"linecolor\":\"#EBF0F8\",\"showbackground\":true,\"ticks\":\"\",\"zerolinecolor\":\"#EBF0F8\",\"gridwidth\":2},\"yaxis\":{\"backgroundcolor\":\"white\",\"gridcolor\":\"#DFE8F3\",\"linecolor\":\"#EBF0F8\",\"showbackground\":true,\"ticks\":\"\",\"zerolinecolor\":\"#EBF0F8\",\"gridwidth\":2},\"zaxis\":{\"backgroundcolor\":\"white\",\"gridcolor\":\"#DFE8F3\",\"linecolor\":\"#EBF0F8\",\"showbackground\":true,\"ticks\":\"\",\"zerolinecolor\":\"#EBF0F8\",\"gridwidth\":2}},\"shapedefaults\":{\"line\":{\"color\":\"#2a3f5f\"}},\"annotationdefaults\":{\"arrowcolor\":\"#2a3f5f\",\"arrowhead\":0,\"arrowwidth\":1},\"geo\":{\"bgcolor\":\"white\",\"landcolor\":\"white\",\"subunitcolor\":\"#C8D4E3\",\"showland\":true,\"showlakes\":true,\"lakecolor\":\"white\"},\"title\":{\"x\":0.05},\"mapbox\":{\"style\":\"light\"}}},\"yaxis\":{\"title\":{\"text\":\"Ad Spend (INR)\",\"font\":{\"color\":\"indianred\"}},\"tickfont\":{\"color\":\"indianred\"}},\"yaxis2\":{\"title\":{\"text\":\"Voter Turnout (%)\",\"font\":{\"color\":\"lightsalmon\"}},\"tickfont\":{\"color\":\"lightsalmon\"},\"overlaying\":\"y\",\"side\":\"right\"},\"legend\":{\"x\":0.1,\"y\":1.1,\"orientation\":\"h\"},\"title\":{\"text\":\"Ad Spend and Voter Turnout by Election Phase\"},\"xaxis\":{\"title\":{\"text\":\"Election Phase\"}},\"width\":800,\"height\":600},                        {\"responsive\": true}                    ).then(function(){\n",
       "                            \n",
       "var gd = document.getElementById('ed3c3586-f339-48b7-a2bc-afc213a99a15');\n",
       "var x = new MutationObserver(function (mutations, observer) {{\n",
       "        var display = window.getComputedStyle(gd).display;\n",
       "        if (!display || display === 'none') {{\n",
       "            console.log([gd, 'removed!']);\n",
       "            Plotly.purge(gd);\n",
       "            observer.disconnect();\n",
       "        }}\n",
       "}});\n",
       "\n",
       "// Listen for the removal of the full notebook cells\n",
       "var notebookContainer = gd.closest('#notebook-container');\n",
       "if (notebookContainer) {{\n",
       "    x.observe(notebookContainer, {childList: true});\n",
       "}}\n",
       "\n",
       "// Listen for the clearing of the current output cell\n",
       "var outputEl = gd.closest('.output');\n",
       "if (outputEl) {{\n",
       "    x.observe(outputEl, {childList: true});\n",
       "}}\n",
       "\n",
       "                        })                };                });            </script>        </div>"
      ]
     },
     "metadata": {},
     "output_type": "display_data"
    }
   ],
   "source": [
    "\n",
    "\n",
    "phase_analysis = merged_data.groupby('Phase').agg({\n",
    "    'Amount spent (INR)': 'sum',\n",
    "    'Polled (%)': 'mean'\n",
    "}).reset_index()\n",
    "\n",
    "fig = go.Figure()\n",
    "\n",
    "fig.add_trace(go.Bar(\n",
    "    x=phase_analysis['Phase'],\n",
    "    y=phase_analysis['Amount spent (INR)'],\n",
    "    name='Ad Spend (INR)',\n",
    "    marker_color='indianred',\n",
    "    yaxis='y1'\n",
    "))\n",
    "\n",
    "fig.add_trace(go.Scatter(\n",
    "    x=phase_analysis['Phase'],\n",
    "    y=phase_analysis['Polled (%)'],\n",
    "    name='Voter Turnout (%)',\n",
    "    marker_color='lightsalmon',\n",
    "    yaxis='y2'\n",
    "))\n",
    "\n",
    "fig.update_layout(\n",
    "    title='Ad Spend and Voter Turnout by Election Phase',\n",
    "    xaxis=dict(title='Election Phase'),\n",
    "    yaxis=dict(\n",
    "        title='Ad Spend (INR)',\n",
    "        titlefont=dict(color='indianred'),\n",
    "        tickfont=dict(color='indianred')\n",
    "    ),\n",
    "    yaxis2=dict(\n",
    "        title='Voter Turnout (%)',\n",
    "        titlefont=dict(color='lightsalmon'),\n",
    "        tickfont=dict(color='lightsalmon'),\n",
    "        overlaying='y',\n",
    "        side='right'\n",
    "    ),\n",
    "    legend=dict(x=0.1, y=1.1, orientation='h'),\n",
    "    width=800,\n",
    "    height=600\n",
    ")\n",
    "\n",
    "fig.show()"
   ]
  },
  {
   "cell_type": "code",
   "execution_count": null,
   "id": "83ae334d-7372-4a28-9799-91ac1fa3068f",
   "metadata": {},
   "outputs": [],
   "source": []
  }
 ],
 "metadata": {
  "kernelspec": {
   "display_name": "Python 3 (ipykernel)",
   "language": "python",
   "name": "python3"
  },
  "language_info": {
   "codemirror_mode": {
    "name": "ipython",
    "version": 3
   },
   "file_extension": ".py",
   "mimetype": "text/x-python",
   "name": "python",
   "nbconvert_exporter": "python",
   "pygments_lexer": "ipython3",
   "version": "3.11.7"
  }
 },
 "nbformat": 4,
 "nbformat_minor": 5
}
